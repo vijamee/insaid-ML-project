{
  "nbformat": 4,
  "nbformat_minor": 0,
  "metadata": {
    "colab": {
      "provenance": []
    },
    "kernelspec": {
      "name": "python3",
      "display_name": "Python 3"
    },
    "language_info": {
      "name": "python"
    }
  },
  "cells": [
    {
      "cell_type": "code",
      "execution_count": null,
      "metadata": {
        "colab": {
          "base_uri": "https://localhost:8080/"
        },
        "id": "m6T1hjGCuRDT",
        "outputId": "3ee7aa55-0737-4763-995f-506a486ea860"
      },
      "outputs": [
        {
          "output_type": "stream",
          "name": "stdout",
          "text": [
            "Looking in indexes: https://pypi.org/simple, https://us-python.pkg.dev/colab-wheels/public/simple/\n",
            "Collecting git+https://github.com/tensorflow/docs\n",
            "  Cloning https://github.com/tensorflow/docs to /tmp/pip-req-build-h1lafpxm\n",
            "  Running command git clone --filter=blob:none --quiet https://github.com/tensorflow/docs /tmp/pip-req-build-h1lafpxm\n",
            "  Resolved https://github.com/tensorflow/docs to commit 4d512c2d7c40d69fcb842978aeaa136e19abe2bb\n",
            "  Preparing metadata (setup.py) ... \u001b[?25l\u001b[?25hdone\n",
            "Collecting astor (from tensorflow-docs==2023.5.26.9808)\n",
            "  Downloading astor-0.8.1-py2.py3-none-any.whl (27 kB)\n",
            "Requirement already satisfied: absl-py in /usr/local/lib/python3.10/dist-packages (from tensorflow-docs==2023.5.26.9808) (1.4.0)\n",
            "Requirement already satisfied: jinja2 in /usr/local/lib/python3.10/dist-packages (from tensorflow-docs==2023.5.26.9808) (3.1.2)\n",
            "Requirement already satisfied: nbformat in /usr/local/lib/python3.10/dist-packages (from tensorflow-docs==2023.5.26.9808) (5.9.0)\n",
            "Requirement already satisfied: protobuf>=3.12 in /usr/local/lib/python3.10/dist-packages (from tensorflow-docs==2023.5.26.9808) (3.20.3)\n",
            "Requirement already satisfied: pyyaml in /usr/local/lib/python3.10/dist-packages (from tensorflow-docs==2023.5.26.9808) (6.0)\n",
            "Requirement already satisfied: MarkupSafe>=2.0 in /usr/local/lib/python3.10/dist-packages (from jinja2->tensorflow-docs==2023.5.26.9808) (2.1.3)\n",
            "Requirement already satisfied: fastjsonschema in /usr/local/lib/python3.10/dist-packages (from nbformat->tensorflow-docs==2023.5.26.9808) (2.17.1)\n",
            "Requirement already satisfied: jsonschema>=2.6 in /usr/local/lib/python3.10/dist-packages (from nbformat->tensorflow-docs==2023.5.26.9808) (4.3.3)\n",
            "Requirement already satisfied: jupyter-core in /usr/local/lib/python3.10/dist-packages (from nbformat->tensorflow-docs==2023.5.26.9808) (5.3.1)\n",
            "Requirement already satisfied: traitlets>=5.1 in /usr/local/lib/python3.10/dist-packages (from nbformat->tensorflow-docs==2023.5.26.9808) (5.7.1)\n",
            "Requirement already satisfied: attrs>=17.4.0 in /usr/local/lib/python3.10/dist-packages (from jsonschema>=2.6->nbformat->tensorflow-docs==2023.5.26.9808) (23.1.0)\n",
            "Requirement already satisfied: pyrsistent!=0.17.0,!=0.17.1,!=0.17.2,>=0.14.0 in /usr/local/lib/python3.10/dist-packages (from jsonschema>=2.6->nbformat->tensorflow-docs==2023.5.26.9808) (0.19.3)\n",
            "Requirement already satisfied: platformdirs>=2.5 in /usr/local/lib/python3.10/dist-packages (from jupyter-core->nbformat->tensorflow-docs==2023.5.26.9808) (3.7.0)\n",
            "Building wheels for collected packages: tensorflow-docs\n",
            "  Building wheel for tensorflow-docs (setup.py) ... \u001b[?25l\u001b[?25hdone\n",
            "  Created wheel for tensorflow-docs: filename=tensorflow_docs-2023.5.26.9808-py3-none-any.whl size=183623 sha256=7b45d42efc7157c6d6619643e100b1f4ff3d4bdd88fd076098c7dbad1237c42c\n",
            "  Stored in directory: /tmp/pip-ephem-wheel-cache-p4qij0fb/wheels/86/0f/1e/3b62293c8ffd0fd5a49508e6871cdb7554abe9c62afd35ec53\n",
            "Successfully built tensorflow-docs\n",
            "Installing collected packages: astor, tensorflow-docs\n",
            "Successfully installed astor-0.8.1 tensorflow-docs-2023.5.26.9808\n"
          ]
        }
      ],
      "source": [
        "# To use some functions from tensorflow_docs\n",
        "!pip install git+https://github.com/tensorflow/docs"
      ]
    },
    {
      "cell_type": "code",
      "source": [
        "# import libraries"
      ],
      "metadata": {
        "id": "FzCrNiCmvju7"
      },
      "execution_count": null,
      "outputs": []
    },
    {
      "cell_type": "code",
      "source": [
        "import pathlib\n",
        "\n",
        "import numpy as np\n",
        "import pandas as pd\n",
        "\n",
        "import matplotlib.pyplot as plt\n",
        "%matplotlib inline\n",
        "\n",
        "import seaborn as sns\n",
        "from sklearn.model_selection import train_test_split                              # To split the data in training and testing part\n",
        "from sklearn.preprocessing import StandardScaler                                  # Importing Standard Scaler library from preprocessing.\n",
        "from sklearn.linear_model import LinearRegression                                 # Importing Linear Regression model\n",
        "from sklearn.metrics import mean_squared_error                                    # To calculate the MSE of a regression model\n",
        "from sklearn.metrics import mean_absolute_error                                   # To calculate the MAE of a regression model\n",
        "from sklearn.metrics import r2_score                                              # To calculate the R-squared score of a regression model\n",
        "from sklearn.metrics import accuracy_score                          # For calculating the accuracy for the model\n",
        "from sklearn.metrics import precision_score                         # For calculating the Precision of the model\n",
        "from sklearn.metrics import recall_score                            # For calculating the recall of the model\n",
        "from sklearn.metrics import precision_recall_curve                  # For precision and recall metric estimation\n",
        "from sklearn.metrics import confusion_matrix                        # For verifying model performance using confusion matrix\n",
        "from sklearn.metrics import f1_score                                # For Checking the F1-Score of our model\n",
        "from sklearn.metrics import roc_curve                               # For Roc-Auc metric estimation\n",
        "#-------------------------------------------------------------------------------------------------------------------------------\n",
        "from sklearn.model_selection import train_test_split                # To split the data in training and testing part\n",
        "from sklearn.linear_model import LogisticRegression                 # To create the Logistic Regression Model\n",
        "from sklearn.model_selection import train_test_split\n",
        "from sklearn.tree import DecisionTreeClassifier\n",
        "from sklearn.linear_model import LogisticRegression\n",
        "from sklearn.metrics import confusion_matrix, classification_report, accuracy_score\n",
        "from sklearn.decomposition import PCA\n",
        "from sklearn.ensemble import RandomForestClassifier\n",
        "import sklearn.metrics as metrics\n",
        "from sklearn.model_selection import RandomizedSearchCV\n",
        "from sklearn.preprocessing import LabelEncoder\n",
        "from random import randint                                          # Importing to generate random integers\n",
        "from sklearn.preprocessing import StandardScaler                    # Importing standard scaler to perform standardization\n",
        "from sklearn.feature_selection import SelectFromModel               # To select features from model using Yellow bricks\n",
        "\n",
        "from sklearn.naive_bayes import GaussianNB                          # To create a naive bayes model using algorithm\n",
        "from sklearn.ensemble import RandomForestClassifier                 # To create a random forest model using algorithm\n",
        "from yellowbrick.model_selection import FeatureImportances\n",
        "from sklearn.model_selection import train_test_split\n",
        "from sklearn.ensemble import RandomForestRegressor, AdaBoostRegressor, GradientBoostingRegressor, StackingRegressor\n",
        "from sklearn.metrics import mean_squared_error, mean_absolute_error, r2_score\n",
        "from sklearn.preprocessing import LabelEncoder\n",
        "from sklearn.utils import shuffle                                   # To shuffle the data\n",
        "from sklearn.impute import KNNImputer                               # To performing iterative imputing over missing data\n",
        "from sklearn.preprocessing import StandardScaler                    # Importing standard scaler to perform standardization\n",
        "from sklearn.base import BaseEstimator                              # To create custom transformers\n",
        "from sklearn.base import ClassifierMixin                            # To create custom transformers\n",
        "from sklearn.base import TransformerMixin                           # To create custom transformers\n",
        "from sklearn.feature_selection import SelectFromModel               # To select features from model using Yellow bricks\n",
        "from yellowbrick.model_selection import FeatureImportances          # To select important features out of the model\n",
        "from sklearn.model_selection import KFold                           # To perform K-fold executions\n",
        "from sklearn.naive_bayes import GaussianNB                          # To create a naive bayes model using algorithm\n",
        "from sklearn.ensemble import RandomForestClassifier                 # To create a random forest model using algorithm\n",
        "from yellowbrick.model_selection import FeatureImportances\n",
        "from sklearn.model_selection import cross_validate                  # To calculate cross validation scores\n",
        "from sklearn.model_selection import GridSearchCV                    # To tune the models\n",
        "import time                                                         # Importing to calculate time\n",
        "from sklearn import base"
      ],
      "metadata": {
        "id": "7wEWrjk1vpxq"
      },
      "execution_count": null,
      "outputs": []
    },
    {
      "cell_type": "code",
      "source": [
        "# Import tensorflow 2.x\n",
        "# This code block will only work in Google Colab.\n",
        "try:\n",
        "    # %tensorflow_version only exists in Colab.\n",
        "    %tensorflow_version 2.x\n",
        "except Exception:\n",
        "    pass"
      ],
      "metadata": {
        "colab": {
          "base_uri": "https://localhost:8080/"
        },
        "id": "d2QfdXRovvzd",
        "outputId": "304ca859-e3c0-4a60-ef5f-abb4999c730d"
      },
      "execution_count": null,
      "outputs": [
        {
          "output_type": "stream",
          "name": "stdout",
          "text": [
            "Colab only includes TensorFlow 2.x; %tensorflow_version has no effect.\n"
          ]
        }
      ]
    },
    {
      "cell_type": "code",
      "source": [
        "import tensorflow as tf\n",
        "\n",
        "from tensorflow import keras\n",
        "from tensorflow.keras import layers\n",
        "\n",
        "print(tf.__version__)"
      ],
      "metadata": {
        "colab": {
          "base_uri": "https://localhost:8080/"
        },
        "id": "tx3B_xQevyZu",
        "outputId": "9bdf85a1-bfad-497e-d47c-d5812880ca41"
      },
      "execution_count": null,
      "outputs": [
        {
          "output_type": "stream",
          "name": "stdout",
          "text": [
            "2.12.0\n"
          ]
        }
      ]
    },
    {
      "cell_type": "code",
      "source": [
        "import tensorflow_docs as tfdocs\n",
        "import tensorflow_docs.plots\n",
        "import tensorflow_docs.modeling"
      ],
      "metadata": {
        "id": "Uskxd0i8v3O_"
      },
      "execution_count": null,
      "outputs": []
    },
    {
      "cell_type": "code",
      "source": [
        "# Get the Data"
      ],
      "metadata": {
        "id": "9mVbXjyxwU77"
      },
      "execution_count": null,
      "outputs": []
    },
    {
      "cell_type": "code",
      "source": [
        "# Import Train Data\n",
        "air_train = pd.read_csv('/content/air_train.csv')\n",
        "print('Data Shape:', air_train.shape)\n",
        "air_train.head()"
      ],
      "metadata": {
        "colab": {
          "base_uri": "https://localhost:8080/",
          "height": 375
        },
        "id": "mAKM43HNwbRJ",
        "outputId": "e72c9282-24be-46be-c285-7207efde9680"
      },
      "execution_count": null,
      "outputs": [
        {
          "output_type": "stream",
          "name": "stdout",
          "text": [
            "Data Shape: (27000, 15)\n"
          ]
        },
        {
          "output_type": "execute_result",
          "data": {
            "text/plain": [
              "      id         date_time is_holiday  humidity  wind_speed  wind_direction  \\\n",
              "0  18707    10/1/2015 5:00       None        77           7             296   \n",
              "1  31577     3/8/2017 2:00       None        36           3             140   \n",
              "2  14307   5/13/2014 19:00       None        92           0             112   \n",
              "3  20164  12/23/2015 14:00       None        92           3             150   \n",
              "4  11989    2/3/2014 22:00       None        85           2             220   \n",
              "\n",
              "   visibility_in_miles  dew_point  temperature  rain_p_h  snow_p_h  \\\n",
              "0                    1          1       278.27       0.0      0.00   \n",
              "1                    6          6       272.41       0.0      0.00   \n",
              "2                    9          9       284.15       0.0      0.00   \n",
              "3                    4          4       273.74       0.0      0.32   \n",
              "4                    5          5       257.47       0.0      0.00   \n",
              "\n",
              "   clouds_all weather_type  air_pollution_index  traffic_volume  \n",
              "0           1        Clear                  162            2922  \n",
              "1          90         Snow                  224             303  \n",
              "2          32       Clouds                  135            3484  \n",
              "3          90         Rain                  135            5182  \n",
              "4          75       Clouds                  183            1628  "
            ],
            "text/html": [
              "\n",
              "  <div id=\"df-b7e94ba1-9508-47bc-9b2d-54eb8b437a65\">\n",
              "    <div class=\"colab-df-container\">\n",
              "      <div>\n",
              "<style scoped>\n",
              "    .dataframe tbody tr th:only-of-type {\n",
              "        vertical-align: middle;\n",
              "    }\n",
              "\n",
              "    .dataframe tbody tr th {\n",
              "        vertical-align: top;\n",
              "    }\n",
              "\n",
              "    .dataframe thead th {\n",
              "        text-align: right;\n",
              "    }\n",
              "</style>\n",
              "<table border=\"1\" class=\"dataframe\">\n",
              "  <thead>\n",
              "    <tr style=\"text-align: right;\">\n",
              "      <th></th>\n",
              "      <th>id</th>\n",
              "      <th>date_time</th>\n",
              "      <th>is_holiday</th>\n",
              "      <th>humidity</th>\n",
              "      <th>wind_speed</th>\n",
              "      <th>wind_direction</th>\n",
              "      <th>visibility_in_miles</th>\n",
              "      <th>dew_point</th>\n",
              "      <th>temperature</th>\n",
              "      <th>rain_p_h</th>\n",
              "      <th>snow_p_h</th>\n",
              "      <th>clouds_all</th>\n",
              "      <th>weather_type</th>\n",
              "      <th>air_pollution_index</th>\n",
              "      <th>traffic_volume</th>\n",
              "    </tr>\n",
              "  </thead>\n",
              "  <tbody>\n",
              "    <tr>\n",
              "      <th>0</th>\n",
              "      <td>18707</td>\n",
              "      <td>10/1/2015 5:00</td>\n",
              "      <td>None</td>\n",
              "      <td>77</td>\n",
              "      <td>7</td>\n",
              "      <td>296</td>\n",
              "      <td>1</td>\n",
              "      <td>1</td>\n",
              "      <td>278.27</td>\n",
              "      <td>0.0</td>\n",
              "      <td>0.00</td>\n",
              "      <td>1</td>\n",
              "      <td>Clear</td>\n",
              "      <td>162</td>\n",
              "      <td>2922</td>\n",
              "    </tr>\n",
              "    <tr>\n",
              "      <th>1</th>\n",
              "      <td>31577</td>\n",
              "      <td>3/8/2017 2:00</td>\n",
              "      <td>None</td>\n",
              "      <td>36</td>\n",
              "      <td>3</td>\n",
              "      <td>140</td>\n",
              "      <td>6</td>\n",
              "      <td>6</td>\n",
              "      <td>272.41</td>\n",
              "      <td>0.0</td>\n",
              "      <td>0.00</td>\n",
              "      <td>90</td>\n",
              "      <td>Snow</td>\n",
              "      <td>224</td>\n",
              "      <td>303</td>\n",
              "    </tr>\n",
              "    <tr>\n",
              "      <th>2</th>\n",
              "      <td>14307</td>\n",
              "      <td>5/13/2014 19:00</td>\n",
              "      <td>None</td>\n",
              "      <td>92</td>\n",
              "      <td>0</td>\n",
              "      <td>112</td>\n",
              "      <td>9</td>\n",
              "      <td>9</td>\n",
              "      <td>284.15</td>\n",
              "      <td>0.0</td>\n",
              "      <td>0.00</td>\n",
              "      <td>32</td>\n",
              "      <td>Clouds</td>\n",
              "      <td>135</td>\n",
              "      <td>3484</td>\n",
              "    </tr>\n",
              "    <tr>\n",
              "      <th>3</th>\n",
              "      <td>20164</td>\n",
              "      <td>12/23/2015 14:00</td>\n",
              "      <td>None</td>\n",
              "      <td>92</td>\n",
              "      <td>3</td>\n",
              "      <td>150</td>\n",
              "      <td>4</td>\n",
              "      <td>4</td>\n",
              "      <td>273.74</td>\n",
              "      <td>0.0</td>\n",
              "      <td>0.32</td>\n",
              "      <td>90</td>\n",
              "      <td>Rain</td>\n",
              "      <td>135</td>\n",
              "      <td>5182</td>\n",
              "    </tr>\n",
              "    <tr>\n",
              "      <th>4</th>\n",
              "      <td>11989</td>\n",
              "      <td>2/3/2014 22:00</td>\n",
              "      <td>None</td>\n",
              "      <td>85</td>\n",
              "      <td>2</td>\n",
              "      <td>220</td>\n",
              "      <td>5</td>\n",
              "      <td>5</td>\n",
              "      <td>257.47</td>\n",
              "      <td>0.0</td>\n",
              "      <td>0.00</td>\n",
              "      <td>75</td>\n",
              "      <td>Clouds</td>\n",
              "      <td>183</td>\n",
              "      <td>1628</td>\n",
              "    </tr>\n",
              "  </tbody>\n",
              "</table>\n",
              "</div>\n",
              "      <button class=\"colab-df-convert\" onclick=\"convertToInteractive('df-b7e94ba1-9508-47bc-9b2d-54eb8b437a65')\"\n",
              "              title=\"Convert this dataframe to an interactive table.\"\n",
              "              style=\"display:none;\">\n",
              "        \n",
              "  <svg xmlns=\"http://www.w3.org/2000/svg\" height=\"24px\"viewBox=\"0 0 24 24\"\n",
              "       width=\"24px\">\n",
              "    <path d=\"M0 0h24v24H0V0z\" fill=\"none\"/>\n",
              "    <path d=\"M18.56 5.44l.94 2.06.94-2.06 2.06-.94-2.06-.94-.94-2.06-.94 2.06-2.06.94zm-11 1L8.5 8.5l.94-2.06 2.06-.94-2.06-.94L8.5 2.5l-.94 2.06-2.06.94zm10 10l.94 2.06.94-2.06 2.06-.94-2.06-.94-.94-2.06-.94 2.06-2.06.94z\"/><path d=\"M17.41 7.96l-1.37-1.37c-.4-.4-.92-.59-1.43-.59-.52 0-1.04.2-1.43.59L10.3 9.45l-7.72 7.72c-.78.78-.78 2.05 0 2.83L4 21.41c.39.39.9.59 1.41.59.51 0 1.02-.2 1.41-.59l7.78-7.78 2.81-2.81c.8-.78.8-2.07 0-2.86zM5.41 20L4 18.59l7.72-7.72 1.47 1.35L5.41 20z\"/>\n",
              "  </svg>\n",
              "      </button>\n",
              "      \n",
              "  <style>\n",
              "    .colab-df-container {\n",
              "      display:flex;\n",
              "      flex-wrap:wrap;\n",
              "      gap: 12px;\n",
              "    }\n",
              "\n",
              "    .colab-df-convert {\n",
              "      background-color: #E8F0FE;\n",
              "      border: none;\n",
              "      border-radius: 50%;\n",
              "      cursor: pointer;\n",
              "      display: none;\n",
              "      fill: #1967D2;\n",
              "      height: 32px;\n",
              "      padding: 0 0 0 0;\n",
              "      width: 32px;\n",
              "    }\n",
              "\n",
              "    .colab-df-convert:hover {\n",
              "      background-color: #E2EBFA;\n",
              "      box-shadow: 0px 1px 2px rgba(60, 64, 67, 0.3), 0px 1px 3px 1px rgba(60, 64, 67, 0.15);\n",
              "      fill: #174EA6;\n",
              "    }\n",
              "\n",
              "    [theme=dark] .colab-df-convert {\n",
              "      background-color: #3B4455;\n",
              "      fill: #D2E3FC;\n",
              "    }\n",
              "\n",
              "    [theme=dark] .colab-df-convert:hover {\n",
              "      background-color: #434B5C;\n",
              "      box-shadow: 0px 1px 3px 1px rgba(0, 0, 0, 0.15);\n",
              "      filter: drop-shadow(0px 1px 2px rgba(0, 0, 0, 0.3));\n",
              "      fill: #FFFFFF;\n",
              "    }\n",
              "  </style>\n",
              "\n",
              "      <script>\n",
              "        const buttonEl =\n",
              "          document.querySelector('#df-b7e94ba1-9508-47bc-9b2d-54eb8b437a65 button.colab-df-convert');\n",
              "        buttonEl.style.display =\n",
              "          google.colab.kernel.accessAllowed ? 'block' : 'none';\n",
              "\n",
              "        async function convertToInteractive(key) {\n",
              "          const element = document.querySelector('#df-b7e94ba1-9508-47bc-9b2d-54eb8b437a65');\n",
              "          const dataTable =\n",
              "            await google.colab.kernel.invokeFunction('convertToInteractive',\n",
              "                                                     [key], {});\n",
              "          if (!dataTable) return;\n",
              "\n",
              "          const docLinkHtml = 'Like what you see? Visit the ' +\n",
              "            '<a target=\"_blank\" href=https://colab.research.google.com/notebooks/data_table.ipynb>data table notebook</a>'\n",
              "            + ' to learn more about interactive tables.';\n",
              "          element.innerHTML = '';\n",
              "          dataTable['output_type'] = 'display_data';\n",
              "          await google.colab.output.renderOutput(dataTable, element);\n",
              "          const docLink = document.createElement('div');\n",
              "          docLink.innerHTML = docLinkHtml;\n",
              "          element.appendChild(docLink);\n",
              "        }\n",
              "      </script>\n",
              "    </div>\n",
              "  </div>\n",
              "  "
            ]
          },
          "metadata": {},
          "execution_count": 68
        }
      ]
    },
    {
      "cell_type": "code",
      "source": [
        "# Clean the data"
      ],
      "metadata": {
        "id": "JxvbpJLoxMls"
      },
      "execution_count": null,
      "outputs": []
    },
    {
      "cell_type": "code",
      "source": [
        "air_train.info()"
      ],
      "metadata": {
        "colab": {
          "base_uri": "https://localhost:8080/"
        },
        "id": "BsolXDSAxRJC",
        "outputId": "67aabb19-cd40-4dc0-e219-3492b1cfacd3"
      },
      "execution_count": null,
      "outputs": [
        {
          "output_type": "stream",
          "name": "stdout",
          "text": [
            "<class 'pandas.core.frame.DataFrame'>\n",
            "RangeIndex: 27000 entries, 0 to 26999\n",
            "Data columns (total 15 columns):\n",
            " #   Column               Non-Null Count  Dtype  \n",
            "---  ------               --------------  -----  \n",
            " 0   id                   27000 non-null  int64  \n",
            " 1   date_time            27000 non-null  object \n",
            " 2   is_holiday           27000 non-null  object \n",
            " 3   humidity             27000 non-null  int64  \n",
            " 4   wind_speed           27000 non-null  int64  \n",
            " 5   wind_direction       27000 non-null  int64  \n",
            " 6   visibility_in_miles  27000 non-null  int64  \n",
            " 7   dew_point            27000 non-null  int64  \n",
            " 8   temperature          27000 non-null  float64\n",
            " 9   rain_p_h             27000 non-null  float64\n",
            " 10  snow_p_h             27000 non-null  float64\n",
            " 11  clouds_all           27000 non-null  int64  \n",
            " 12  weather_type         27000 non-null  object \n",
            " 13  air_pollution_index  27000 non-null  int64  \n",
            " 14  traffic_volume       27000 non-null  int64  \n",
            "dtypes: float64(3), int64(9), object(3)\n",
            "memory usage: 3.1+ MB\n"
          ]
        }
      ]
    },
    {
      "cell_type": "code",
      "source": [
        "# drop ID , Is_Holiday. Convert date time into number of years, convert weather type into weights of classes"
      ],
      "metadata": {
        "id": "k0tTnnY4xee-"
      },
      "execution_count": null,
      "outputs": []
    },
    {
      "cell_type": "code",
      "source": [
        "air_train.drop(['id','is_holiday'], axis=1,inplace=True)"
      ],
      "metadata": {
        "id": "Z1YsooF3yKKd"
      },
      "execution_count": null,
      "outputs": []
    },
    {
      "cell_type": "code",
      "source": [
        "# convert the 'Date' column to datetime format\n",
        "air_train['date_time']= pd.to_datetime(air_train['date_time'])"
      ],
      "metadata": {
        "id": "E5ze6ZFs1FZm"
      },
      "execution_count": null,
      "outputs": []
    },
    {
      "cell_type": "code",
      "source": [
        "# Use Datetime.strftime() Method to extract year\n",
        "air_train[\"sample_year\"] = air_train[\"date_time\"].dt.year"
      ],
      "metadata": {
        "id": "Ffl-ory50HVv"
      },
      "execution_count": null,
      "outputs": []
    },
    {
      "cell_type": "code",
      "source": [
        "# Age of the sample\n",
        "air_train['Sample_Age'] = 2023 - air_train['sample_year']"
      ],
      "metadata": {
        "id": "9HYFIcGS1cMX"
      },
      "execution_count": null,
      "outputs": []
    },
    {
      "cell_type": "code",
      "source": [
        "# drop Date_time & sample year fields\n"
      ],
      "metadata": {
        "id": "OUYZS_FM14nX"
      },
      "execution_count": null,
      "outputs": []
    },
    {
      "cell_type": "code",
      "source": [
        "air_train.drop(['date_time','sample_year'], axis=1,inplace=True)"
      ],
      "metadata": {
        "id": "G9IpW2Zf195N"
      },
      "execution_count": null,
      "outputs": []
    },
    {
      "cell_type": "code",
      "source": [
        "# Apply Kfolding on categorical data"
      ],
      "metadata": {
        "id": "EWYUAhMc2Rpu"
      },
      "execution_count": null,
      "outputs": []
    },
    {
      "cell_type": "code",
      "source": [
        "class KFoldTargetEncoderTrain(base.BaseEstimator, base.TransformerMixin):\n",
        "\n",
        "    def __init__(self, colnames,targetName,n_fold=5,verbosity=True,discardOriginal_col=False):\n",
        "\n",
        "        self.colnames = colnames\n",
        "        self.targetName = targetName\n",
        "        self.n_fold = n_fold\n",
        "        self.verbosity = verbosity\n",
        "        self.discardOriginal_col = discardOriginal_col\n",
        "\n",
        "    def fit(self, X, y=None):\n",
        "        return self\n",
        "\n",
        "\n",
        "    def transform(self,X):\n",
        "\n",
        "        assert(type(self.targetName) == str)\n",
        "        assert(type(self.colnames) == str)\n",
        "        assert(self.colnames in X.columns)\n",
        "        assert(self.targetName in X.columns)\n",
        "\n",
        "        mean_of_target = X[self.targetName].mean()\n",
        "        kf = KFold(n_splits = self.n_fold, shuffle = False)\n",
        "\n",
        "\n",
        "\n",
        "        col_mean_name = self.colnames + '_' + 'Kfold_Target_Enc'\n",
        "        X[col_mean_name] = np.nan\n",
        "\n",
        "        for tr_ind, val_ind in kf.split(X):\n",
        "            X_tr, X_val = X.iloc[tr_ind], X.iloc[val_ind]\n",
        "#             print(tr_ind,val_ind)\n",
        "            X.loc[X.index[val_ind], col_mean_name] = X_val[self.colnames].map(X_tr.groupby(self.colnames)[self.targetName].mean())\n",
        "\n",
        "        X[col_mean_name].fillna(mean_of_target, inplace = True)\n",
        "\n",
        "        if self.verbosity:\n",
        "\n",
        "            encoded_feature = X[col_mean_name].values\n",
        "            print('Correlation between the new feature, {} and, {} is {}.'.format(col_mean_name,\n",
        "                                                                                      self.targetName,\n",
        "                                                                                      np.corrcoef(X[self.targetName].values, encoded_feature)[0][1]))\n",
        "        if self.discardOriginal_col:\n",
        "            X = X.drop(self.targetName, axis=1)\n",
        "\n",
        "\n",
        "        return X"
      ],
      "metadata": {
        "id": "dqqxPOXS3JKf"
      },
      "execution_count": null,
      "outputs": []
    },
    {
      "cell_type": "code",
      "source": [
        "air_train.columns"
      ],
      "metadata": {
        "colab": {
          "base_uri": "https://localhost:8080/"
        },
        "id": "l9IYfvlk3UxT",
        "outputId": "212e82d0-afb5-4299-e8f2-2f730b525a5c"
      },
      "execution_count": null,
      "outputs": [
        {
          "output_type": "execute_result",
          "data": {
            "text/plain": [
              "Index(['humidity', 'wind_speed', 'wind_direction', 'visibility_in_miles',\n",
              "       'dew_point', 'temperature', 'rain_p_h', 'snow_p_h', 'clouds_all',\n",
              "       'weather_type', 'air_pollution_index', 'traffic_volume', 'Sample_Age'],\n",
              "      dtype='object')"
            ]
          },
          "metadata": {},
          "execution_count": 79
        }
      ]
    },
    {
      "cell_type": "code",
      "source": [
        "targetc = KFoldTargetEncoderTrain('weather_type','air_pollution_index',n_fold=5)\n",
        "air_train = targetc.fit_transform(air_train)"
      ],
      "metadata": {
        "colab": {
          "base_uri": "https://localhost:8080/"
        },
        "id": "A2qxAa-s3O0y",
        "outputId": "ff0abeff-5fe4-426c-a78a-e0b17bbda60d"
      },
      "execution_count": null,
      "outputs": [
        {
          "output_type": "stream",
          "name": "stdout",
          "text": [
            "Correlation between the new feature, weather_type_Kfold_Target_Enc and, air_pollution_index is -0.007813323600206168.\n"
          ]
        }
      ]
    },
    {
      "cell_type": "code",
      "source": [
        "air_train.drop(['weather_type'], axis=1,inplace=True)"
      ],
      "metadata": {
        "id": "0msaBjtt3rNd"
      },
      "execution_count": null,
      "outputs": []
    },
    {
      "cell_type": "code",
      "source": [
        "air_train.info()"
      ],
      "metadata": {
        "colab": {
          "base_uri": "https://localhost:8080/"
        },
        "id": "xFZw1g9R369c",
        "outputId": "c007b61d-c27c-4e7a-c32d-e69489d35d5e"
      },
      "execution_count": null,
      "outputs": [
        {
          "output_type": "stream",
          "name": "stdout",
          "text": [
            "<class 'pandas.core.frame.DataFrame'>\n",
            "RangeIndex: 27000 entries, 0 to 26999\n",
            "Data columns (total 13 columns):\n",
            " #   Column                         Non-Null Count  Dtype  \n",
            "---  ------                         --------------  -----  \n",
            " 0   humidity                       27000 non-null  int64  \n",
            " 1   wind_speed                     27000 non-null  int64  \n",
            " 2   wind_direction                 27000 non-null  int64  \n",
            " 3   visibility_in_miles            27000 non-null  int64  \n",
            " 4   dew_point                      27000 non-null  int64  \n",
            " 5   temperature                    27000 non-null  float64\n",
            " 6   rain_p_h                       27000 non-null  float64\n",
            " 7   snow_p_h                       27000 non-null  float64\n",
            " 8   clouds_all                     27000 non-null  int64  \n",
            " 9   air_pollution_index            27000 non-null  int64  \n",
            " 10  traffic_volume                 27000 non-null  int64  \n",
            " 11  Sample_Age                     27000 non-null  int64  \n",
            " 12  weather_type_Kfold_Target_Enc  27000 non-null  float64\n",
            "dtypes: float64(4), int64(9)\n",
            "memory usage: 2.7 MB\n"
          ]
        }
      ]
    },
    {
      "cell_type": "code",
      "source": [
        "#Split the Data into Train and Test"
      ],
      "metadata": {
        "id": "NlTyeHBb4-1v"
      },
      "execution_count": null,
      "outputs": []
    },
    {
      "cell_type": "code",
      "source": [
        "train_dataset = air_train.sample(frac=0.8,random_state=0)"
      ],
      "metadata": {
        "id": "LnEp55WX5Csr"
      },
      "execution_count": null,
      "outputs": []
    },
    {
      "cell_type": "code",
      "source": [
        "test_dataset = air_train.drop(train_dataset.index)"
      ],
      "metadata": {
        "id": "pYrIqVir5Ik5"
      },
      "execution_count": null,
      "outputs": []
    },
    {
      "cell_type": "code",
      "source": [
        "#Inspect the Data - We will have a quick look at the joint distribution of a few pairs of columns from the training set."
      ],
      "metadata": {
        "id": "gMn5FTb55RzO"
      },
      "execution_count": null,
      "outputs": []
    },
    {
      "cell_type": "code",
      "source": [
        "sns.pairplot(train_dataset[[\"air_pollution_index\", \"wind_speed\", \"visibility_in_miles\", \"temperature\"]], diag_kind=\"kde\")"
      ],
      "metadata": {
        "colab": {
          "base_uri": "https://localhost:8080/",
          "height": 1000
        },
        "id": "SBQ9rjki5Zba",
        "outputId": "bdc7785e-5eca-4ce9-9428-8e8f49c32e86"
      },
      "execution_count": null,
      "outputs": [
        {
          "output_type": "execute_result",
          "data": {
            "text/plain": [
              "<seaborn.axisgrid.PairGrid at 0x7f97a8911d50>"
            ]
          },
          "metadata": {},
          "execution_count": 71
        },
        {
          "output_type": "display_data",
          "data": {
            "text/plain": [
              "<Figure size 1000x1000 with 20 Axes>"
            ],
            "image/png": "[encoded data removed]"
          },
          "metadata": {}
        }
      ]
    },
    {
      "cell_type": "code",
      "source": [
        "#Overall stats"
      ],
      "metadata": {
        "id": "4buv_Ed051ES"
      },
      "execution_count": null,
      "outputs": []
    },
    {
      "cell_type": "code",
      "source": [
        "train_stats = train_dataset.describe()\n",
        "train_stats.pop(\"air_pollution_index\")\n",
        "train_stats = train_stats.transpose()\n",
        "train_stats"
      ],
      "metadata": {
        "colab": {
          "base_uri": "https://localhost:8080/",
          "height": 425
        },
        "id": "6hLf15vJ539B",
        "outputId": "357213d8-2f06-4a26-9520-97ce1b5ab515"
      },
      "execution_count": null,
      "outputs": [
        {
          "output_type": "execute_result",
          "data": {
            "text/plain": [
              "                                 count         mean          std         min  \\\n",
              "humidity                       21600.0    71.206065    16.820849   13.000000   \n",
              "wind_speed                     21600.0     3.381111     2.054995    0.000000   \n",
              "wind_direction                 21600.0   199.606759    99.636079    0.000000   \n",
              "visibility_in_miles            21600.0     4.981991     2.567970    1.000000   \n",
              "dew_point                      21600.0     4.981991     2.567970    1.000000   \n",
              "temperature                    21600.0   280.101949    13.374242    0.000000   \n",
              "rain_p_h                       21600.0     0.161704     1.211869    0.000000   \n",
              "snow_p_h                       21600.0     0.000331     0.010059    0.000000   \n",
              "clouds_all                     21600.0    50.175046    38.863486    0.000000   \n",
              "traffic_volume                 21600.0  3239.919861  1987.976469    0.000000   \n",
              "Sample_Age                     21600.0     8.353009     1.573916    6.000000   \n",
              "weather_type_Kfold_Target_Enc  21600.0   154.412490     1.762131  146.871609   \n",
              "\n",
              "                                       25%          50%          75%      max  \n",
              "humidity                         60.000000    72.000000    85.000000   100.00  \n",
              "wind_speed                        2.000000     3.000000     5.000000    16.00  \n",
              "wind_direction                  130.000000   200.000000   290.000000   360.00  \n",
              "visibility_in_miles               3.000000     5.000000     7.000000     9.00  \n",
              "dew_point                         3.000000     5.000000     7.000000     9.00  \n",
              "temperature                     271.750000   280.150000   290.672500   308.24  \n",
              "rain_p_h                          0.000000     0.000000     0.000000    55.63  \n",
              "snow_p_h                          0.000000     0.000000     0.000000     0.51  \n",
              "clouds_all                        1.000000    64.000000    90.000000   100.00  \n",
              "traffic_volume                 1166.000000  3353.500000  4912.000000  7241.00  \n",
              "Sample_Age                        7.000000     8.000000    10.000000    11.00  \n",
              "weather_type_Kfold_Target_Enc   153.883572   154.444056   155.424437   246.00  "
            ],
            "text/html": [
              "\n",
              "  <div id=\"df-3fba10ff-f81a-44ca-9d43-77a539b94866\">\n",
              "    <div class=\"colab-df-container\">\n",
              "      <div>\n",
              "<style scoped>\n",
              "    .dataframe tbody tr th:only-of-type {\n",
              "        vertical-align: middle;\n",
              "    }\n",
              "\n",
              "    .dataframe tbody tr th {\n",
              "        vertical-align: top;\n",
              "    }\n",
              "\n",
              "    .dataframe thead th {\n",
              "        text-align: right;\n",
              "    }\n",
              "</style>\n",
              "<table border=\"1\" class=\"dataframe\">\n",
              "  <thead>\n",
              "    <tr style=\"text-align: right;\">\n",
              "      <th></th>\n",
              "      <th>count</th>\n",
              "      <th>mean</th>\n",
              "      <th>std</th>\n",
              "      <th>min</th>\n",
              "      <th>25%</th>\n",
              "      <th>50%</th>\n",
              "      <th>75%</th>\n",
              "      <th>max</th>\n",
              "    </tr>\n",
              "  </thead>\n",
              "  <tbody>\n",
              "    <tr>\n",
              "      <th>humidity</th>\n",
              "      <td>21600.0</td>\n",
              "      <td>71.206065</td>\n",
              "      <td>16.820849</td>\n",
              "      <td>13.000000</td>\n",
              "      <td>60.000000</td>\n",
              "      <td>72.000000</td>\n",
              "      <td>85.000000</td>\n",
              "      <td>100.00</td>\n",
              "    </tr>\n",
              "    <tr>\n",
              "      <th>wind_speed</th>\n",
              "      <td>21600.0</td>\n",
              "      <td>3.381111</td>\n",
              "      <td>2.054995</td>\n",
              "      <td>0.000000</td>\n",
              "      <td>2.000000</td>\n",
              "      <td>3.000000</td>\n",
              "      <td>5.000000</td>\n",
              "      <td>16.00</td>\n",
              "    </tr>\n",
              "    <tr>\n",
              "      <th>wind_direction</th>\n",
              "      <td>21600.0</td>\n",
              "      <td>199.606759</td>\n",
              "      <td>99.636079</td>\n",
              "      <td>0.000000</td>\n",
              "      <td>130.000000</td>\n",
              "      <td>200.000000</td>\n",
              "      <td>290.000000</td>\n",
              "      <td>360.00</td>\n",
              "    </tr>\n",
              "    <tr>\n",
              "      <th>visibility_in_miles</th>\n",
              "      <td>21600.0</td>\n",
              "      <td>4.981991</td>\n",
              "      <td>2.567970</td>\n",
              "      <td>1.000000</td>\n",
              "      <td>3.000000</td>\n",
              "      <td>5.000000</td>\n",
              "      <td>7.000000</td>\n",
              "      <td>9.00</td>\n",
              "    </tr>\n",
              "    <tr>\n",
              "      <th>dew_point</th>\n",
              "      <td>21600.0</td>\n",
              "      <td>4.981991</td>\n",
              "      <td>2.567970</td>\n",
              "      <td>1.000000</td>\n",
              "      <td>3.000000</td>\n",
              "      <td>5.000000</td>\n",
              "      <td>7.000000</td>\n",
              "      <td>9.00</td>\n",
              "    </tr>\n",
              "    <tr>\n",
              "      <th>temperature</th>\n",
              "      <td>21600.0</td>\n",
              "      <td>280.101949</td>\n",
              "      <td>13.374242</td>\n",
              "      <td>0.000000</td>\n",
              "      <td>271.750000</td>\n",
              "      <td>280.150000</td>\n",
              "      <td>290.672500</td>\n",
              "      <td>308.24</td>\n",
              "    </tr>\n",
              "    <tr>\n",
              "      <th>rain_p_h</th>\n",
              "      <td>21600.0</td>\n",
              "      <td>0.161704</td>\n",
              "      <td>1.211869</td>\n",
              "      <td>0.000000</td>\n",
              "      <td>0.000000</td>\n",
              "      <td>0.000000</td>\n",
              "      <td>0.000000</td>\n",
              "      <td>55.63</td>\n",
              "    </tr>\n",
              "    <tr>\n",
              "      <th>snow_p_h</th>\n",
              "      <td>21600.0</td>\n",
              "      <td>0.000331</td>\n",
              "      <td>0.010059</td>\n",
              "      <td>0.000000</td>\n",
              "      <td>0.000000</td>\n",
              "      <td>0.000000</td>\n",
              "      <td>0.000000</td>\n",
              "      <td>0.51</td>\n",
              "    </tr>\n",
              "    <tr>\n",
              "      <th>clouds_all</th>\n",
              "      <td>21600.0</td>\n",
              "      <td>50.175046</td>\n",
              "      <td>38.863486</td>\n",
              "      <td>0.000000</td>\n",
              "      <td>1.000000</td>\n",
              "      <td>64.000000</td>\n",
              "      <td>90.000000</td>\n",
              "      <td>100.00</td>\n",
              "    </tr>\n",
              "    <tr>\n",
              "      <th>traffic_volume</th>\n",
              "      <td>21600.0</td>\n",
              "      <td>3239.919861</td>\n",
              "      <td>1987.976469</td>\n",
              "      <td>0.000000</td>\n",
              "      <td>1166.000000</td>\n",
              "      <td>3353.500000</td>\n",
              "      <td>4912.000000</td>\n",
              "      <td>7241.00</td>\n",
              "    </tr>\n",
              "    <tr>\n",
              "      <th>Sample_Age</th>\n",
              "      <td>21600.0</td>\n",
              "      <td>8.353009</td>\n",
              "      <td>1.573916</td>\n",
              "      <td>6.000000</td>\n",
              "      <td>7.000000</td>\n",
              "      <td>8.000000</td>\n",
              "      <td>10.000000</td>\n",
              "      <td>11.00</td>\n",
              "    </tr>\n",
              "    <tr>\n",
              "      <th>weather_type_Kfold_Target_Enc</th>\n",
              "      <td>21600.0</td>\n",
              "      <td>154.412490</td>\n",
              "      <td>1.762131</td>\n",
              "      <td>146.871609</td>\n",
              "      <td>153.883572</td>\n",
              "      <td>154.444056</td>\n",
              "      <td>155.424437</td>\n",
              "      <td>246.00</td>\n",
              "    </tr>\n",
              "  </tbody>\n",
              "</table>\n",
              "</div>\n",
              "      <button class=\"colab-df-convert\" onclick=\"convertToInteractive('df-3fba10ff-f81a-44ca-9d43-77a539b94866')\"\n",
              "              title=\"Convert this dataframe to an interactive table.\"\n",
              "              style=\"display:none;\">\n",
              "        \n",
              "  <svg xmlns=\"http://www.w3.org/2000/svg\" height=\"24px\"viewBox=\"0 0 24 24\"\n",
              "       width=\"24px\">\n",
              "    <path d=\"M0 0h24v24H0V0z\" fill=\"none\"/>\n",
              "    <path d=\"M18.56 5.44l.94 2.06.94-2.06 2.06-.94-2.06-.94-.94-2.06-.94 2.06-2.06.94zm-11 1L8.5 8.5l.94-2.06 2.06-.94-2.06-.94L8.5 2.5l-.94 2.06-2.06.94zm10 10l.94 2.06.94-2.06 2.06-.94-2.06-.94-.94-2.06-.94 2.06-2.06.94z\"/><path d=\"M17.41 7.96l-1.37-1.37c-.4-.4-.92-.59-1.43-.59-.52 0-1.04.2-1.43.59L10.3 9.45l-7.72 7.72c-.78.78-.78 2.05 0 2.83L4 21.41c.39.39.9.59 1.41.59.51 0 1.02-.2 1.41-.59l7.78-7.78 2.81-2.81c.8-.78.8-2.07 0-2.86zM5.41 20L4 18.59l7.72-7.72 1.47 1.35L5.41 20z\"/>\n",
              "  </svg>\n",
              "      </button>\n",
              "      \n",
              "  <style>\n",
              "    .colab-df-container {\n",
              "      display:flex;\n",
              "      flex-wrap:wrap;\n",
              "      gap: 12px;\n",
              "    }\n",
              "\n",
              "    .colab-df-convert {\n",
              "      background-color: #E8F0FE;\n",
              "      border: none;\n",
              "      border-radius: 50%;\n",
              "      cursor: pointer;\n",
              "      display: none;\n",
              "      fill: #1967D2;\n",
              "      height: 32px;\n",
              "      padding: 0 0 0 0;\n",
              "      width: 32px;\n",
              "    }\n",
              "\n",
              "    .colab-df-convert:hover {\n",
              "      background-color: #E2EBFA;\n",
              "      box-shadow: 0px 1px 2px rgba(60, 64, 67, 0.3), 0px 1px 3px 1px rgba(60, 64, 67, 0.15);\n",
              "      fill: #174EA6;\n",
              "    }\n",
              "\n",
              "    [theme=dark] .colab-df-convert {\n",
              "      background-color: #3B4455;\n",
              "      fill: #D2E3FC;\n",
              "    }\n",
              "\n",
              "    [theme=dark] .colab-df-convert:hover {\n",
              "      background-color: #434B5C;\n",
              "      box-shadow: 0px 1px 3px 1px rgba(0, 0, 0, 0.15);\n",
              "      filter: drop-shadow(0px 1px 2px rgba(0, 0, 0, 0.3));\n",
              "      fill: #FFFFFF;\n",
              "    }\n",
              "  </style>\n",
              "\n",
              "      <script>\n",
              "        const buttonEl =\n",
              "          document.querySelector('#df-3fba10ff-f81a-44ca-9d43-77a539b94866 button.colab-df-convert');\n",
              "        buttonEl.style.display =\n",
              "          google.colab.kernel.accessAllowed ? 'block' : 'none';\n",
              "\n",
              "        async function convertToInteractive(key) {\n",
              "          const element = document.querySelector('#df-3fba10ff-f81a-44ca-9d43-77a539b94866');\n",
              "          const dataTable =\n",
              "            await google.colab.kernel.invokeFunction('convertToInteractive',\n",
              "                                                     [key], {});\n",
              "          if (!dataTable) return;\n",
              "\n",
              "          const docLinkHtml = 'Like what you see? Visit the ' +\n",
              "            '<a target=\"_blank\" href=https://colab.research.google.com/notebooks/data_table.ipynb>data table notebook</a>'\n",
              "            + ' to learn more about interactive tables.';\n",
              "          element.innerHTML = '';\n",
              "          dataTable['output_type'] = 'display_data';\n",
              "          await google.colab.output.renderOutput(dataTable, element);\n",
              "          const docLink = document.createElement('div');\n",
              "          docLink.innerHTML = docLinkHtml;\n",
              "          element.appendChild(docLink);\n",
              "        }\n",
              "      </script>\n",
              "    </div>\n",
              "  </div>\n",
              "  "
            ]
          },
          "metadata": {},
          "execution_count": 21
        }
      ]
    },
    {
      "cell_type": "code",
      "source": [
        "# Split data target variable from train data"
      ],
      "metadata": {
        "id": "nOdDrLhw66Yy"
      },
      "execution_count": null,
      "outputs": []
    },
    {
      "cell_type": "code",
      "source": [
        "train_labels = train_dataset.pop('air_pollution_index')"
      ],
      "metadata": {
        "id": "5TCKcoh87HCT"
      },
      "execution_count": null,
      "outputs": []
    },
    {
      "cell_type": "code",
      "source": [
        "test_labels = test_dataset.pop('air_pollution_index')"
      ],
      "metadata": {
        "id": "GMOBTIG_7JbX"
      },
      "execution_count": null,
      "outputs": []
    },
    {
      "cell_type": "code",
      "source": [
        "# Normalize Data. Feed the normalized data in the model"
      ],
      "metadata": {
        "id": "uhs2jfPH7TbY"
      },
      "execution_count": null,
      "outputs": []
    },
    {
      "cell_type": "code",
      "source": [
        "def norm(x):\n",
        "  return (x - train_stats['mean']) / train_stats['std']"
      ],
      "metadata": {
        "id": "5Mhjm8pD7Vl0"
      },
      "execution_count": null,
      "outputs": []
    },
    {
      "cell_type": "code",
      "source": [
        "normed_train_data = norm(train_dataset)\n",
        "normed_test_data = norm(test_dataset)"
      ],
      "metadata": {
        "id": "U5tyjV3p7a1O"
      },
      "execution_count": null,
      "outputs": []
    },
    {
      "cell_type": "code",
      "source": [
        "#The Model"
      ],
      "metadata": {
        "id": "VPcUXc457hG0"
      },
      "execution_count": null,
      "outputs": []
    },
    {
      "cell_type": "code",
      "source": [
        "def build_model():\n",
        "  model = keras.Sequential([layers.Dense(64, activation='relu', input_shape=[len(train_dataset.keys())]),\n",
        "                            layers.Dense(64, activation='relu'),\n",
        "                            layers.Dense(1)])\n",
        "\n",
        "  # Defining the optimizer with a specific learning rate of 0.001\n",
        "  optimizer = tf.keras.optimizers.Adam(learning_rate=0.001)\n",
        "\n",
        " # Compiling the model\n",
        "  model.compile(loss='mse', optimizer=optimizer, metrics=['mae', 'mse'])\n",
        "  return model"
      ],
      "metadata": {
        "id": "dVNdi86g7q60"
      },
      "execution_count": null,
      "outputs": []
    },
    {
      "cell_type": "code",
      "source": [
        "model = build_model()"
      ],
      "metadata": {
        "id": "IebkaiPX8zbL"
      },
      "execution_count": null,
      "outputs": []
    },
    {
      "cell_type": "code",
      "source": [
        "# Inspect the model"
      ],
      "metadata": {
        "id": "qWO329v-82v1"
      },
      "execution_count": null,
      "outputs": []
    },
    {
      "cell_type": "code",
      "source": [
        "model.summary()"
      ],
      "metadata": {
        "colab": {
          "base_uri": "https://localhost:8080/"
        },
        "id": "RUXw1OMQ88aK",
        "outputId": "0cb4df04-47db-45e2-b415-45bb93f3be3d"
      },
      "execution_count": null,
      "outputs": [
        {
          "output_type": "stream",
          "name": "stdout",
          "text": [
            "Model: \"sequential_1\"\n",
            "_________________________________________________________________\n",
            " Layer (type)                Output Shape              Param #   \n",
            "=================================================================\n",
            " dense_3 (Dense)             (None, 64)                832       \n",
            "                                                                 \n",
            " dense_4 (Dense)             (None, 64)                4160      \n",
            "                                                                 \n",
            " dense_5 (Dense)             (None, 1)                 65        \n",
            "                                                                 \n",
            "=================================================================\n",
            "Total params: 5,057\n",
            "Trainable params: 5,057\n",
            "Non-trainable params: 0\n",
            "_________________________________________________________________\n"
          ]
        }
      ]
    },
    {
      "cell_type": "code",
      "source": [
        "# Now let's try out the model.Taking a batch of 10 examples from the training data and calling model.predict on it.#"
      ],
      "metadata": {
        "id": "z_Zt80gM9GPB"
      },
      "execution_count": null,
      "outputs": []
    },
    {
      "cell_type": "code",
      "source": [
        "example_batch = normed_train_data[:10]\n",
        "example_result = model.predict(example_batch)\n",
        "example_result"
      ],
      "metadata": {
        "colab": {
          "base_uri": "https://localhost:8080/"
        },
        "id": "If9AwZhO9OY4",
        "outputId": "f653be5c-a8a4-4e00-c660-fdbc3ee64f56"
      },
      "execution_count": null,
      "outputs": [
        {
          "output_type": "stream",
          "name": "stdout",
          "text": [
            "1/1 [==============================] - 0s 218ms/step\n"
          ]
        },
        {
          "output_type": "execute_result",
          "data": {
            "text/plain": [
              "array([[-0.42591816],\n",
              "       [-0.2424335 ],\n",
              "       [ 0.2823621 ],\n",
              "       [ 0.00981519],\n",
              "       [ 0.33972633],\n",
              "       [ 0.2503178 ],\n",
              "       [-0.28207308],\n",
              "       [-0.33161205],\n",
              "       [-0.5400779 ],\n",
              "       [-0.16998152]], dtype=float32)"
            ]
          },
          "metadata": {},
          "execution_count": 30
        }
      ]
    },
    {
      "cell_type": "code",
      "source": [
        "#Train the model"
      ],
      "metadata": {
        "id": "X3X2qEo39Y0T"
      },
      "execution_count": null,
      "outputs": []
    },
    {
      "cell_type": "code",
      "source": [
        "EPOCHS = 1000"
      ],
      "metadata": {
        "id": "pR6dXY7q9cvw"
      },
      "execution_count": null,
      "outputs": []
    },
    {
      "cell_type": "code",
      "source": [
        "history = model.fit(normed_train_data, train_labels, epochs=EPOCHS, validation_split=0.2,\n",
        "                    verbose=0, callbacks=[tfdocs.modeling.EpochDots()])"
      ],
      "metadata": {
        "colab": {
          "base_uri": "https://localhost:8080/"
        },
        "id": "sr4MylzIAK5v",
        "outputId": "668d3121-cc29-4954-8d56-b34ee6923b83"
      },
      "execution_count": null,
      "outputs": [
        {
          "output_type": "stream",
          "name": "stdout",
          "text": [
            "\n",
            "Epoch: 0, loss:13040.6172,  mae:92.9963,  mse:13040.6172,  val_loss:7973.9424,  val_mae:74.8958,  val_mse:7973.9424,  \n",
            "....................................................................................................\n",
            "Epoch: 100, loss:6825.9165,  mae:71.2198,  mse:6825.9165,  val_loss:7265.9502,  val_mae:73.3616,  val_mse:7265.9502,  \n",
            "....................................................................................................\n",
            "Epoch: 200, loss:6623.2842,  mae:69.8718,  mse:6623.2842,  val_loss:7420.6079,  val_mae:73.8526,  val_mse:7420.6079,  \n",
            "....................................................................................................\n",
            "Epoch: 300, loss:6458.9307,  mae:68.7427,  mse:6458.9307,  val_loss:7583.6382,  val_mae:74.3523,  val_mse:7583.6382,  \n",
            "....................................................................................................\n",
            "Epoch: 400, loss:6328.1323,  mae:67.9048,  mse:6328.1323,  val_loss:7733.9180,  val_mae:74.7881,  val_mse:7733.9180,  \n",
            "....................................................................................................\n",
            "Epoch: 500, loss:6239.4546,  mae:67.1925,  mse:6239.4546,  val_loss:7758.5581,  val_mae:74.9977,  val_mse:7758.5581,  \n",
            "....................................................................................................\n",
            "Epoch: 600, loss:6154.8965,  mae:66.5990,  mse:6154.8965,  val_loss:7950.4224,  val_mae:75.6642,  val_mse:7950.4224,  \n",
            "....................................................................................................\n",
            "Epoch: 700, loss:6074.4453,  mae:66.0483,  mse:6074.4453,  val_loss:8004.5425,  val_mae:75.8307,  val_mse:8004.5425,  \n",
            "....................................................................................................\n",
            "Epoch: 800, loss:5980.9165,  mae:65.4136,  mse:5980.9165,  val_loss:8106.7397,  val_mae:76.2547,  val_mse:8106.7397,  \n",
            "....................................................................................................\n",
            "Epoch: 900, loss:5919.2812,  mae:64.9262,  mse:5919.2812,  val_loss:8193.0049,  val_mae:76.5279,  val_mse:8193.0049,  \n",
            "...................................................................................................."
          ]
        }
      ]
    },
    {
      "cell_type": "code",
      "source": [
        "# Visualizing the model's training progress using the stats stored in the history object."
      ],
      "metadata": {
        "id": "7N2kfdtqr25r"
      },
      "execution_count": null,
      "outputs": []
    },
    {
      "cell_type": "code",
      "source": [
        "hist = pd.DataFrame(history.history)\n",
        "hist['epoch'] = history.epoch\n",
        "hist.tail()"
      ],
      "metadata": {
        "colab": {
          "base_uri": "https://localhost:8080/",
          "height": 206
        },
        "id": "TN2tSvLKr7o1",
        "outputId": "502de082-52d2-409a-b826-7da1d96532eb"
      },
      "execution_count": null,
      "outputs": [
        {
          "output_type": "execute_result",
          "data": {
            "text/plain": [
              "            loss        mae          mse     val_loss    val_mae      val_mse  \\\n",
              "995  6086.776367  65.894585  6086.776367  8084.677734  75.951035  8084.677734   \n",
              "996  6069.821777  65.798820  6069.821777  8116.910156  76.214584  8116.910156   \n",
              "997  6075.596191  65.849815  6075.596191  8142.217773  76.364609  8142.217773   \n",
              "998  6076.334473  65.816055  6076.334473  8086.548340  76.027405  8086.548340   \n",
              "999  6083.441895  65.802696  6083.441895  8118.909180  76.060570  8118.909180   \n",
              "\n",
              "     epoch  \n",
              "995    995  \n",
              "996    996  \n",
              "997    997  \n",
              "998    998  \n",
              "999    999  "
            ],
            "text/html": [
              "\n",
              "  <div id=\"df-f95446b8-8bd4-453f-a719-d2165eaa8674\">\n",
              "    <div class=\"colab-df-container\">\n",
              "      <div>\n",
              "<style scoped>\n",
              "    .dataframe tbody tr th:only-of-type {\n",
              "        vertical-align: middle;\n",
              "    }\n",
              "\n",
              "    .dataframe tbody tr th {\n",
              "        vertical-align: top;\n",
              "    }\n",
              "\n",
              "    .dataframe thead th {\n",
              "        text-align: right;\n",
              "    }\n",
              "</style>\n",
              "<table border=\"1\" class=\"dataframe\">\n",
              "  <thead>\n",
              "    <tr style=\"text-align: right;\">\n",
              "      <th></th>\n",
              "      <th>loss</th>\n",
              "      <th>mae</th>\n",
              "      <th>mse</th>\n",
              "      <th>val_loss</th>\n",
              "      <th>val_mae</th>\n",
              "      <th>val_mse</th>\n",
              "      <th>epoch</th>\n",
              "    </tr>\n",
              "  </thead>\n",
              "  <tbody>\n",
              "    <tr>\n",
              "      <th>995</th>\n",
              "      <td>6086.776367</td>\n",
              "      <td>65.894585</td>\n",
              "      <td>6086.776367</td>\n",
              "      <td>8084.677734</td>\n",
              "      <td>75.951035</td>\n",
              "      <td>8084.677734</td>\n",
              "      <td>995</td>\n",
              "    </tr>\n",
              "    <tr>\n",
              "      <th>996</th>\n",
              "      <td>6069.821777</td>\n",
              "      <td>65.798820</td>\n",
              "      <td>6069.821777</td>\n",
              "      <td>8116.910156</td>\n",
              "      <td>76.214584</td>\n",
              "      <td>8116.910156</td>\n",
              "      <td>996</td>\n",
              "    </tr>\n",
              "    <tr>\n",
              "      <th>997</th>\n",
              "      <td>6075.596191</td>\n",
              "      <td>65.849815</td>\n",
              "      <td>6075.596191</td>\n",
              "      <td>8142.217773</td>\n",
              "      <td>76.364609</td>\n",
              "      <td>8142.217773</td>\n",
              "      <td>997</td>\n",
              "    </tr>\n",
              "    <tr>\n",
              "      <th>998</th>\n",
              "      <td>6076.334473</td>\n",
              "      <td>65.816055</td>\n",
              "      <td>6076.334473</td>\n",
              "      <td>8086.548340</td>\n",
              "      <td>76.027405</td>\n",
              "      <td>8086.548340</td>\n",
              "      <td>998</td>\n",
              "    </tr>\n",
              "    <tr>\n",
              "      <th>999</th>\n",
              "      <td>6083.441895</td>\n",
              "      <td>65.802696</td>\n",
              "      <td>6083.441895</td>\n",
              "      <td>8118.909180</td>\n",
              "      <td>76.060570</td>\n",
              "      <td>8118.909180</td>\n",
              "      <td>999</td>\n",
              "    </tr>\n",
              "  </tbody>\n",
              "</table>\n",
              "</div>\n",
              "      <button class=\"colab-df-convert\" onclick=\"convertToInteractive('df-f95446b8-8bd4-453f-a719-d2165eaa8674')\"\n",
              "              title=\"Convert this dataframe to an interactive table.\"\n",
              "              style=\"display:none;\">\n",
              "        \n",
              "  <svg xmlns=\"http://www.w3.org/2000/svg\" height=\"24px\"viewBox=\"0 0 24 24\"\n",
              "       width=\"24px\">\n",
              "    <path d=\"M0 0h24v24H0V0z\" fill=\"none\"/>\n",
              "    <path d=\"M18.56 5.44l.94 2.06.94-2.06 2.06-.94-2.06-.94-.94-2.06-.94 2.06-2.06.94zm-11 1L8.5 8.5l.94-2.06 2.06-.94-2.06-.94L8.5 2.5l-.94 2.06-2.06.94zm10 10l.94 2.06.94-2.06 2.06-.94-2.06-.94-.94-2.06-.94 2.06-2.06.94z\"/><path d=\"M17.41 7.96l-1.37-1.37c-.4-.4-.92-.59-1.43-.59-.52 0-1.04.2-1.43.59L10.3 9.45l-7.72 7.72c-.78.78-.78 2.05 0 2.83L4 21.41c.39.39.9.59 1.41.59.51 0 1.02-.2 1.41-.59l7.78-7.78 2.81-2.81c.8-.78.8-2.07 0-2.86zM5.41 20L4 18.59l7.72-7.72 1.47 1.35L5.41 20z\"/>\n",
              "  </svg>\n",
              "      </button>\n",
              "      \n",
              "  <style>\n",
              "    .colab-df-container {\n",
              "      display:flex;\n",
              "      flex-wrap:wrap;\n",
              "      gap: 12px;\n",
              "    }\n",
              "\n",
              "    .colab-df-convert {\n",
              "      background-color: #E8F0FE;\n",
              "      border: none;\n",
              "      border-radius: 50%;\n",
              "      cursor: pointer;\n",
              "      display: none;\n",
              "      fill: #1967D2;\n",
              "      height: 32px;\n",
              "      padding: 0 0 0 0;\n",
              "      width: 32px;\n",
              "    }\n",
              "\n",
              "    .colab-df-convert:hover {\n",
              "      background-color: #E2EBFA;\n",
              "      box-shadow: 0px 1px 2px rgba(60, 64, 67, 0.3), 0px 1px 3px 1px rgba(60, 64, 67, 0.15);\n",
              "      fill: #174EA6;\n",
              "    }\n",
              "\n",
              "    [theme=dark] .colab-df-convert {\n",
              "      background-color: #3B4455;\n",
              "      fill: #D2E3FC;\n",
              "    }\n",
              "\n",
              "    [theme=dark] .colab-df-convert:hover {\n",
              "      background-color: #434B5C;\n",
              "      box-shadow: 0px 1px 3px 1px rgba(0, 0, 0, 0.15);\n",
              "      filter: drop-shadow(0px 1px 2px rgba(0, 0, 0, 0.3));\n",
              "      fill: #FFFFFF;\n",
              "    }\n",
              "  </style>\n",
              "\n",
              "      <script>\n",
              "        const buttonEl =\n",
              "          document.querySelector('#df-f95446b8-8bd4-453f-a719-d2165eaa8674 button.colab-df-convert');\n",
              "        buttonEl.style.display =\n",
              "          google.colab.kernel.accessAllowed ? 'block' : 'none';\n",
              "\n",
              "        async function convertToInteractive(key) {\n",
              "          const element = document.querySelector('#df-f95446b8-8bd4-453f-a719-d2165eaa8674');\n",
              "          const dataTable =\n",
              "            await google.colab.kernel.invokeFunction('convertToInteractive',\n",
              "                                                     [key], {});\n",
              "          if (!dataTable) return;\n",
              "\n",
              "          const docLinkHtml = 'Like what you see? Visit the ' +\n",
              "            '<a target=\"_blank\" href=https://colab.research.google.com/notebooks/data_table.ipynb>data table notebook</a>'\n",
              "            + ' to learn more about interactive tables.';\n",
              "          element.innerHTML = '';\n",
              "          dataTable['output_type'] = 'display_data';\n",
              "          await google.colab.output.renderOutput(dataTable, element);\n",
              "          const docLink = document.createElement('div');\n",
              "          docLink.innerHTML = docLinkHtml;\n",
              "          element.appendChild(docLink);\n",
              "        }\n",
              "      </script>\n",
              "    </div>\n",
              "  </div>\n",
              "  "
            ]
          },
          "metadata": {},
          "execution_count": 99
        }
      ]
    },
    {
      "cell_type": "code",
      "source": [
        "# We are using tfdocs.plots.HistoryPlotter() to plot our model history."
      ],
      "metadata": {
        "id": "VjFXBImmsCt8"
      },
      "execution_count": null,
      "outputs": []
    },
    {
      "cell_type": "code",
      "source": [
        "plotter = tfdocs.plots.HistoryPlotter(smoothing_std=2)"
      ],
      "metadata": {
        "id": "_RGbewD1sDsU"
      },
      "execution_count": null,
      "outputs": []
    },
    {
      "cell_type": "code",
      "source": [
        "plotter.plot({'Basic': history}, metric=\"mae\")\n",
        "plt.ylabel('MAE [air_pollution_index]')"
      ],
      "metadata": {
        "colab": {
          "base_uri": "https://localhost:8080/",
          "height": 521
        },
        "id": "r6cVxRLdsIe4",
        "outputId": "7c8f7bbb-d27b-4b7d-ca9e-2745bedb3aaa"
      },
      "execution_count": null,
      "outputs": [
        {
          "output_type": "execute_result",
          "data": {
            "text/plain": [
              "Text(0, 0.5, 'MAE [air_pollution_index]')"
            ]
          },
          "metadata": {},
          "execution_count": 102
        },
        {
          "output_type": "display_data",
          "data": {
            "text/plain": [
              "<Figure size 800x550 with 1 Axes>"
            ],
            "image/png": "[encoded data removed]"
          },
          "metadata": {}
        }
      ]
    },
    {
      "cell_type": "code",
      "source": [
        "# This graph , or even degradation in the validation error , and high variance. Let's update the model.fit call to automatically stop training when the validation score doesn't improve.\n",
        "\n",
        "# We'll use an EarlyStopping callback that tests a training condition for every epoch.If a set amount of epochs elapses without showing improvement, then automatically stop the training."
      ],
      "metadata": {
        "id": "G0J2BbqIr4O8"
      },
      "execution_count": null,
      "outputs": []
    },
    {
      "cell_type": "code",
      "source": [
        "model = build_model()"
      ],
      "metadata": {
        "id": "OHoXmETGtEiV"
      },
      "execution_count": null,
      "outputs": []
    },
    {
      "cell_type": "code",
      "source": [
        "# The patience parameter is the amount of epochs to check for improvement( Use this model for test data)\n",
        "early_stop = keras.callbacks.EarlyStopping(monitor='val_loss', patience=10)"
      ],
      "metadata": {
        "id": "ziebI_SctHZT"
      },
      "execution_count": null,
      "outputs": []
    },
    {
      "cell_type": "code",
      "source": [
        "early_history = model.fit(normed_train_data, train_labels, epochs=EPOCHS, validation_split=0.2,\n",
        "                          verbose=0, callbacks=[early_stop, tfdocs.modeling.EpochDots()])"
      ],
      "metadata": {
        "colab": {
          "base_uri": "https://localhost:8080/"
        },
        "id": "ilhrWSZYtLal",
        "outputId": "bfafcdc4-6ee8-47b8-d04c-bbf5cea9f1e3"
      },
      "execution_count": null,
      "outputs": [
        {
          "output_type": "stream",
          "name": "stdout",
          "text": [
            "\n",
            "Epoch: 0, loss:12849.7832,  mae:92.4800,  mse:12849.7832,  val_loss:7909.2769,  val_mae:74.7918,  val_mse:7909.2769,  \n",
            "..........................."
          ]
        }
      ]
    },
    {
      "cell_type": "code",
      "source": [
        "early_hist = pd.DataFrame(early_history.history)\n",
        "early_hist['epoch'] = early_history.epoch\n",
        "early_hist.tail()"
      ],
      "metadata": {
        "colab": {
          "base_uri": "https://localhost:8080/",
          "height": 206
        },
        "id": "zjCBMsePtktb",
        "outputId": "6d62b676-24fc-4c4c-8801-9876025aeee6"
      },
      "execution_count": null,
      "outputs": [
        {
          "output_type": "execute_result",
          "data": {
            "text/plain": [
              "           loss        mae          mse     val_loss    val_mae      val_mse  \\\n",
              "22  7014.566895  72.446175  7014.566895  7142.759766  72.952324  7142.759766   \n",
              "23  7013.030273  72.479622  7013.030273  7147.642578  72.989922  7147.642578   \n",
              "24  7003.443848  72.406296  7003.443848  7139.197266  72.956329  7139.197266   \n",
              "25  7008.350586  72.433830  7008.350586  7142.708496  72.997681  7142.708496   \n",
              "26  7004.375977  72.432320  7004.375977  7142.379395  72.956657  7142.379395   \n",
              "\n",
              "    epoch  \n",
              "22     22  \n",
              "23     23  \n",
              "24     24  \n",
              "25     25  \n",
              "26     26  "
            ],
            "text/html": [
              "\n",
              "  <div id=\"df-8c4fe64f-8f55-472e-8777-b33499db1ae4\">\n",
              "    <div class=\"colab-df-container\">\n",
              "      <div>\n",
              "<style scoped>\n",
              "    .dataframe tbody tr th:only-of-type {\n",
              "        vertical-align: middle;\n",
              "    }\n",
              "\n",
              "    .dataframe tbody tr th {\n",
              "        vertical-align: top;\n",
              "    }\n",
              "\n",
              "    .dataframe thead th {\n",
              "        text-align: right;\n",
              "    }\n",
              "</style>\n",
              "<table border=\"1\" class=\"dataframe\">\n",
              "  <thead>\n",
              "    <tr style=\"text-align: right;\">\n",
              "      <th></th>\n",
              "      <th>loss</th>\n",
              "      <th>mae</th>\n",
              "      <th>mse</th>\n",
              "      <th>val_loss</th>\n",
              "      <th>val_mae</th>\n",
              "      <th>val_mse</th>\n",
              "      <th>epoch</th>\n",
              "    </tr>\n",
              "  </thead>\n",
              "  <tbody>\n",
              "    <tr>\n",
              "      <th>22</th>\n",
              "      <td>7014.566895</td>\n",
              "      <td>72.446175</td>\n",
              "      <td>7014.566895</td>\n",
              "      <td>7142.759766</td>\n",
              "      <td>72.952324</td>\n",
              "      <td>7142.759766</td>\n",
              "      <td>22</td>\n",
              "    </tr>\n",
              "    <tr>\n",
              "      <th>23</th>\n",
              "      <td>7013.030273</td>\n",
              "      <td>72.479622</td>\n",
              "      <td>7013.030273</td>\n",
              "      <td>7147.642578</td>\n",
              "      <td>72.989922</td>\n",
              "      <td>7147.642578</td>\n",
              "      <td>23</td>\n",
              "    </tr>\n",
              "    <tr>\n",
              "      <th>24</th>\n",
              "      <td>7003.443848</td>\n",
              "      <td>72.406296</td>\n",
              "      <td>7003.443848</td>\n",
              "      <td>7139.197266</td>\n",
              "      <td>72.956329</td>\n",
              "      <td>7139.197266</td>\n",
              "      <td>24</td>\n",
              "    </tr>\n",
              "    <tr>\n",
              "      <th>25</th>\n",
              "      <td>7008.350586</td>\n",
              "      <td>72.433830</td>\n",
              "      <td>7008.350586</td>\n",
              "      <td>7142.708496</td>\n",
              "      <td>72.997681</td>\n",
              "      <td>7142.708496</td>\n",
              "      <td>25</td>\n",
              "    </tr>\n",
              "    <tr>\n",
              "      <th>26</th>\n",
              "      <td>7004.375977</td>\n",
              "      <td>72.432320</td>\n",
              "      <td>7004.375977</td>\n",
              "      <td>7142.379395</td>\n",
              "      <td>72.956657</td>\n",
              "      <td>7142.379395</td>\n",
              "      <td>26</td>\n",
              "    </tr>\n",
              "  </tbody>\n",
              "</table>\n",
              "</div>\n",
              "      <button class=\"colab-df-convert\" onclick=\"convertToInteractive('df-8c4fe64f-8f55-472e-8777-b33499db1ae4')\"\n",
              "              title=\"Convert this dataframe to an interactive table.\"\n",
              "              style=\"display:none;\">\n",
              "        \n",
              "  <svg xmlns=\"http://www.w3.org/2000/svg\" height=\"24px\"viewBox=\"0 0 24 24\"\n",
              "       width=\"24px\">\n",
              "    <path d=\"M0 0h24v24H0V0z\" fill=\"none\"/>\n",
              "    <path d=\"M18.56 5.44l.94 2.06.94-2.06 2.06-.94-2.06-.94-.94-2.06-.94 2.06-2.06.94zm-11 1L8.5 8.5l.94-2.06 2.06-.94-2.06-.94L8.5 2.5l-.94 2.06-2.06.94zm10 10l.94 2.06.94-2.06 2.06-.94-2.06-.94-.94-2.06-.94 2.06-2.06.94z\"/><path d=\"M17.41 7.96l-1.37-1.37c-.4-.4-.92-.59-1.43-.59-.52 0-1.04.2-1.43.59L10.3 9.45l-7.72 7.72c-.78.78-.78 2.05 0 2.83L4 21.41c.39.39.9.59 1.41.59.51 0 1.02-.2 1.41-.59l7.78-7.78 2.81-2.81c.8-.78.8-2.07 0-2.86zM5.41 20L4 18.59l7.72-7.72 1.47 1.35L5.41 20z\"/>\n",
              "  </svg>\n",
              "      </button>\n",
              "      \n",
              "  <style>\n",
              "    .colab-df-container {\n",
              "      display:flex;\n",
              "      flex-wrap:wrap;\n",
              "      gap: 12px;\n",
              "    }\n",
              "\n",
              "    .colab-df-convert {\n",
              "      background-color: #E8F0FE;\n",
              "      border: none;\n",
              "      border-radius: 50%;\n",
              "      cursor: pointer;\n",
              "      display: none;\n",
              "      fill: #1967D2;\n",
              "      height: 32px;\n",
              "      padding: 0 0 0 0;\n",
              "      width: 32px;\n",
              "    }\n",
              "\n",
              "    .colab-df-convert:hover {\n",
              "      background-color: #E2EBFA;\n",
              "      box-shadow: 0px 1px 2px rgba(60, 64, 67, 0.3), 0px 1px 3px 1px rgba(60, 64, 67, 0.15);\n",
              "      fill: #174EA6;\n",
              "    }\n",
              "\n",
              "    [theme=dark] .colab-df-convert {\n",
              "      background-color: #3B4455;\n",
              "      fill: #D2E3FC;\n",
              "    }\n",
              "\n",
              "    [theme=dark] .colab-df-convert:hover {\n",
              "      background-color: #434B5C;\n",
              "      box-shadow: 0px 1px 3px 1px rgba(0, 0, 0, 0.15);\n",
              "      filter: drop-shadow(0px 1px 2px rgba(0, 0, 0, 0.3));\n",
              "      fill: #FFFFFF;\n",
              "    }\n",
              "  </style>\n",
              "\n",
              "      <script>\n",
              "        const buttonEl =\n",
              "          document.querySelector('#df-8c4fe64f-8f55-472e-8777-b33499db1ae4 button.colab-df-convert');\n",
              "        buttonEl.style.display =\n",
              "          google.colab.kernel.accessAllowed ? 'block' : 'none';\n",
              "\n",
              "        async function convertToInteractive(key) {\n",
              "          const element = document.querySelector('#df-8c4fe64f-8f55-472e-8777-b33499db1ae4');\n",
              "          const dataTable =\n",
              "            await google.colab.kernel.invokeFunction('convertToInteractive',\n",
              "                                                     [key], {});\n",
              "          if (!dataTable) return;\n",
              "\n",
              "          const docLinkHtml = 'Like what you see? Visit the ' +\n",
              "            '<a target=\"_blank\" href=https://colab.research.google.com/notebooks/data_table.ipynb>data table notebook</a>'\n",
              "            + ' to learn more about interactive tables.';\n",
              "          element.innerHTML = '';\n",
              "          dataTable['output_type'] = 'display_data';\n",
              "          await google.colab.output.renderOutput(dataTable, element);\n",
              "          const docLink = document.createElement('div');\n",
              "          docLink.innerHTML = docLinkHtml;\n",
              "          element.appendChild(docLink);\n",
              "        }\n",
              "      </script>\n",
              "    </div>\n",
              "  </div>\n",
              "  "
            ]
          },
          "metadata": {},
          "execution_count": 96
        }
      ]
    },
    {
      "cell_type": "code",
      "source": [
        "plotter.plot({'Early Stopping': early_history}, metric=\"mae\")\n",
        "plt.ylabel('MAE [air_pollution_index]')"
      ],
      "metadata": {
        "colab": {
          "base_uri": "https://localhost:8080/",
          "height": 521
        },
        "id": "3Mw_46kFt0SJ",
        "outputId": "5c4a9dfc-cece-421a-d2de-4a452d4ea198"
      },
      "execution_count": null,
      "outputs": [
        {
          "output_type": "execute_result",
          "data": {
            "text/plain": [
              "Text(0, 0.5, 'MAE [air_pollution_index]')"
            ]
          },
          "metadata": {},
          "execution_count": 50
        },
        {
          "output_type": "display_data",
          "data": {
            "text/plain": [
              "<Figure size 800x550 with 1 Axes>"
            ],
            "image/png": "[encoded data removed]"
          },
          "metadata": {}
        }
      ]
    },
    {
      "cell_type": "markdown",
      "source": [
        "The graph shows that on the validation set, the average error is usually around 72\n",
        "\n",
        "\n",
        "Let's see how well the model generalizes by using the test set, which we did not use when training the model.\n",
        "\n",
        "This tells us how well we can expect the model to predict when we use it in the real world."
      ],
      "metadata": {
        "id": "f_xfEF7ouI4n"
      }
    },
    {
      "cell_type": "code",
      "source": [
        "loss, mae, mse = model.evaluate(normed_test_data, test_labels, verbose=2)\n",
        "\n",
        "print(\"Testing set Mean Abs Error: {:5.2f} air_pollution_index\".format(mae))"
      ],
      "metadata": {
        "colab": {
          "base_uri": "https://localhost:8080/"
        },
        "id": "zFj-Gdohz-Nm",
        "outputId": "86cac9c1-0906-4707-a8a9-1541ae038c3a"
      },
      "execution_count": null,
      "outputs": [
        {
          "output_type": "stream",
          "name": "stdout",
          "text": [
            "169/169 - 0s - loss: 18355.0215 - mae: 74.3499 - mse: 18355.0215 - 491ms/epoch - 3ms/step\n",
            "Testing set Mean Abs Error: 74.35 air_pollution_index\n"
          ]
        }
      ]
    },
    {
      "cell_type": "code",
      "source": [
        "# We can use this model for test data . But first clean the test data"
      ],
      "metadata": {
        "id": "JpGE38Nyzr4F"
      },
      "execution_count": null,
      "outputs": []
    },
    {
      "cell_type": "code",
      "source": [
        "# Load test data\n",
        "air_test = pd.read_csv('/content/air_test.csv')\n",
        "print('Data Shape:', air_test.shape)\n",
        "air_test.head()"
      ],
      "metadata": {
        "colab": {
          "base_uri": "https://localhost:8080/",
          "height": 375
        },
        "id": "sC1GULmLzr1-",
        "outputId": "f3a49735-55cb-4c81-f1aa-5f92ad125be0"
      },
      "execution_count": null,
      "outputs": [
        {
          "output_type": "stream",
          "name": "stdout",
          "text": [
            "Data Shape: (6750, 14)\n"
          ]
        },
        {
          "output_type": "execute_result",
          "data": {
            "text/plain": [
              "      id         date_time is_holiday  humidity  wind_speed  wind_direction  \\\n",
              "0   8419   8/14/2013 22:00       None        76           2             140   \n",
              "1  21188    2/9/2016 14:00       None        74           4             170   \n",
              "2  15443   7/12/2014 11:00       None        52           7             308   \n",
              "3   5952   5/11/2013 21:00       None        94           3             145   \n",
              "4  28213  11/18/2016 18:00       None        77           3             355   \n",
              "\n",
              "   visibility_in_miles  dew_point  temperature  rain_p_h  snow_p_h  \\\n",
              "0                    6          6       287.82       0.0       0.0   \n",
              "1                    8          8       264.28       0.0       0.0   \n",
              "2                    8          8       296.57       0.0       0.0   \n",
              "3                    6          6       288.93       0.0       0.0   \n",
              "4                    9          9       273.59       0.0       0.0   \n",
              "\n",
              "   clouds_all weather_type  traffic_volume  \n",
              "0           0        Clear            2014  \n",
              "1           1        Clear            5384  \n",
              "2          92      Drizzle            4144  \n",
              "3           1        Clear            2147  \n",
              "4          90         Snow            3486  "
            ],
            "text/html": [
              "\n",
              "  <div id=\"df-d5f6b1b4-e492-41d5-8dda-c7c6a5f06392\">\n",
              "    <div class=\"colab-df-container\">\n",
              "      <div>\n",
              "<style scoped>\n",
              "    .dataframe tbody tr th:only-of-type {\n",
              "        vertical-align: middle;\n",
              "    }\n",
              "\n",
              "    .dataframe tbody tr th {\n",
              "        vertical-align: top;\n",
              "    }\n",
              "\n",
              "    .dataframe thead th {\n",
              "        text-align: right;\n",
              "    }\n",
              "</style>\n",
              "<table border=\"1\" class=\"dataframe\">\n",
              "  <thead>\n",
              "    <tr style=\"text-align: right;\">\n",
              "      <th></th>\n",
              "      <th>id</th>\n",
              "      <th>date_time</th>\n",
              "      <th>is_holiday</th>\n",
              "      <th>humidity</th>\n",
              "      <th>wind_speed</th>\n",
              "      <th>wind_direction</th>\n",
              "      <th>visibility_in_miles</th>\n",
              "      <th>dew_point</th>\n",
              "      <th>temperature</th>\n",
              "      <th>rain_p_h</th>\n",
              "      <th>snow_p_h</th>\n",
              "      <th>clouds_all</th>\n",
              "      <th>weather_type</th>\n",
              "      <th>traffic_volume</th>\n",
              "    </tr>\n",
              "  </thead>\n",
              "  <tbody>\n",
              "    <tr>\n",
              "      <th>0</th>\n",
              "      <td>8419</td>\n",
              "      <td>8/14/2013 22:00</td>\n",
              "      <td>None</td>\n",
              "      <td>76</td>\n",
              "      <td>2</td>\n",
              "      <td>140</td>\n",
              "      <td>6</td>\n",
              "      <td>6</td>\n",
              "      <td>287.82</td>\n",
              "      <td>0.0</td>\n",
              "      <td>0.0</td>\n",
              "      <td>0</td>\n",
              "      <td>Clear</td>\n",
              "      <td>2014</td>\n",
              "    </tr>\n",
              "    <tr>\n",
              "      <th>1</th>\n",
              "      <td>21188</td>\n",
              "      <td>2/9/2016 14:00</td>\n",
              "      <td>None</td>\n",
              "      <td>74</td>\n",
              "      <td>4</td>\n",
              "      <td>170</td>\n",
              "      <td>8</td>\n",
              "      <td>8</td>\n",
              "      <td>264.28</td>\n",
              "      <td>0.0</td>\n",
              "      <td>0.0</td>\n",
              "      <td>1</td>\n",
              "      <td>Clear</td>\n",
              "      <td>5384</td>\n",
              "    </tr>\n",
              "    <tr>\n",
              "      <th>2</th>\n",
              "      <td>15443</td>\n",
              "      <td>7/12/2014 11:00</td>\n",
              "      <td>None</td>\n",
              "      <td>52</td>\n",
              "      <td>7</td>\n",
              "      <td>308</td>\n",
              "      <td>8</td>\n",
              "      <td>8</td>\n",
              "      <td>296.57</td>\n",
              "      <td>0.0</td>\n",
              "      <td>0.0</td>\n",
              "      <td>92</td>\n",
              "      <td>Drizzle</td>\n",
              "      <td>4144</td>\n",
              "    </tr>\n",
              "    <tr>\n",
              "      <th>3</th>\n",
              "      <td>5952</td>\n",
              "      <td>5/11/2013 21:00</td>\n",
              "      <td>None</td>\n",
              "      <td>94</td>\n",
              "      <td>3</td>\n",
              "      <td>145</td>\n",
              "      <td>6</td>\n",
              "      <td>6</td>\n",
              "      <td>288.93</td>\n",
              "      <td>0.0</td>\n",
              "      <td>0.0</td>\n",
              "      <td>1</td>\n",
              "      <td>Clear</td>\n",
              "      <td>2147</td>\n",
              "    </tr>\n",
              "    <tr>\n",
              "      <th>4</th>\n",
              "      <td>28213</td>\n",
              "      <td>11/18/2016 18:00</td>\n",
              "      <td>None</td>\n",
              "      <td>77</td>\n",
              "      <td>3</td>\n",
              "      <td>355</td>\n",
              "      <td>9</td>\n",
              "      <td>9</td>\n",
              "      <td>273.59</td>\n",
              "      <td>0.0</td>\n",
              "      <td>0.0</td>\n",
              "      <td>90</td>\n",
              "      <td>Snow</td>\n",
              "      <td>3486</td>\n",
              "    </tr>\n",
              "  </tbody>\n",
              "</table>\n",
              "</div>\n",
              "      <button class=\"colab-df-convert\" onclick=\"convertToInteractive('df-d5f6b1b4-e492-41d5-8dda-c7c6a5f06392')\"\n",
              "              title=\"Convert this dataframe to an interactive table.\"\n",
              "              style=\"display:none;\">\n",
              "        \n",
              "  <svg xmlns=\"http://www.w3.org/2000/svg\" height=\"24px\"viewBox=\"0 0 24 24\"\n",
              "       width=\"24px\">\n",
              "    <path d=\"M0 0h24v24H0V0z\" fill=\"none\"/>\n",
              "    <path d=\"M18.56 5.44l.94 2.06.94-2.06 2.06-.94-2.06-.94-.94-2.06-.94 2.06-2.06.94zm-11 1L8.5 8.5l.94-2.06 2.06-.94-2.06-.94L8.5 2.5l-.94 2.06-2.06.94zm10 10l.94 2.06.94-2.06 2.06-.94-2.06-.94-.94-2.06-.94 2.06-2.06.94z\"/><path d=\"M17.41 7.96l-1.37-1.37c-.4-.4-.92-.59-1.43-.59-.52 0-1.04.2-1.43.59L10.3 9.45l-7.72 7.72c-.78.78-.78 2.05 0 2.83L4 21.41c.39.39.9.59 1.41.59.51 0 1.02-.2 1.41-.59l7.78-7.78 2.81-2.81c.8-.78.8-2.07 0-2.86zM5.41 20L4 18.59l7.72-7.72 1.47 1.35L5.41 20z\"/>\n",
              "  </svg>\n",
              "      </button>\n",
              "      \n",
              "  <style>\n",
              "    .colab-df-container {\n",
              "      display:flex;\n",
              "      flex-wrap:wrap;\n",
              "      gap: 12px;\n",
              "    }\n",
              "\n",
              "    .colab-df-convert {\n",
              "      background-color: #E8F0FE;\n",
              "      border: none;\n",
              "      border-radius: 50%;\n",
              "      cursor: pointer;\n",
              "      display: none;\n",
              "      fill: #1967D2;\n",
              "      height: 32px;\n",
              "      padding: 0 0 0 0;\n",
              "      width: 32px;\n",
              "    }\n",
              "\n",
              "    .colab-df-convert:hover {\n",
              "      background-color: #E2EBFA;\n",
              "      box-shadow: 0px 1px 2px rgba(60, 64, 67, 0.3), 0px 1px 3px 1px rgba(60, 64, 67, 0.15);\n",
              "      fill: #174EA6;\n",
              "    }\n",
              "\n",
              "    [theme=dark] .colab-df-convert {\n",
              "      background-color: #3B4455;\n",
              "      fill: #D2E3FC;\n",
              "    }\n",
              "\n",
              "    [theme=dark] .colab-df-convert:hover {\n",
              "      background-color: #434B5C;\n",
              "      box-shadow: 0px 1px 3px 1px rgba(0, 0, 0, 0.15);\n",
              "      filter: drop-shadow(0px 1px 2px rgba(0, 0, 0, 0.3));\n",
              "      fill: #FFFFFF;\n",
              "    }\n",
              "  </style>\n",
              "\n",
              "      <script>\n",
              "        const buttonEl =\n",
              "          document.querySelector('#df-d5f6b1b4-e492-41d5-8dda-c7c6a5f06392 button.colab-df-convert');\n",
              "        buttonEl.style.display =\n",
              "          google.colab.kernel.accessAllowed ? 'block' : 'none';\n",
              "\n",
              "        async function convertToInteractive(key) {\n",
              "          const element = document.querySelector('#df-d5f6b1b4-e492-41d5-8dda-c7c6a5f06392');\n",
              "          const dataTable =\n",
              "            await google.colab.kernel.invokeFunction('convertToInteractive',\n",
              "                                                     [key], {});\n",
              "          if (!dataTable) return;\n",
              "\n",
              "          const docLinkHtml = 'Like what you see? Visit the ' +\n",
              "            '<a target=\"_blank\" href=https://colab.research.google.com/notebooks/data_table.ipynb>data table notebook</a>'\n",
              "            + ' to learn more about interactive tables.';\n",
              "          element.innerHTML = '';\n",
              "          dataTable['output_type'] = 'display_data';\n",
              "          await google.colab.output.renderOutput(dataTable, element);\n",
              "          const docLink = document.createElement('div');\n",
              "          docLink.innerHTML = docLinkHtml;\n",
              "          element.appendChild(docLink);\n",
              "        }\n",
              "      </script>\n",
              "    </div>\n",
              "  </div>\n",
              "  "
            ]
          },
          "metadata": {},
          "execution_count": 52
        }
      ]
    },
    {
      "cell_type": "code",
      "source": [
        "air_test.info()"
      ],
      "metadata": {
        "colab": {
          "base_uri": "https://localhost:8080/"
        },
        "id": "ELOpfXsZ0fgO",
        "outputId": "01330114-7878-410c-d7cd-941e8306a5a6"
      },
      "execution_count": null,
      "outputs": [
        {
          "output_type": "stream",
          "name": "stdout",
          "text": [
            "<class 'pandas.core.frame.DataFrame'>\n",
            "RangeIndex: 6750 entries, 0 to 6749\n",
            "Data columns (total 14 columns):\n",
            " #   Column               Non-Null Count  Dtype  \n",
            "---  ------               --------------  -----  \n",
            " 0   id                   6750 non-null   int64  \n",
            " 1   date_time            6750 non-null   object \n",
            " 2   is_holiday           6750 non-null   object \n",
            " 3   humidity             6750 non-null   int64  \n",
            " 4   wind_speed           6750 non-null   int64  \n",
            " 5   wind_direction       6750 non-null   int64  \n",
            " 6   visibility_in_miles  6750 non-null   int64  \n",
            " 7   dew_point            6750 non-null   int64  \n",
            " 8   temperature          6750 non-null   float64\n",
            " 9   rain_p_h             6750 non-null   float64\n",
            " 10  snow_p_h             6750 non-null   float64\n",
            " 11  clouds_all           6750 non-null   int64  \n",
            " 12  weather_type         6750 non-null   object \n",
            " 13  traffic_volume       6750 non-null   int64  \n",
            "dtypes: float64(3), int64(8), object(3)\n",
            "memory usage: 738.4+ KB\n"
          ]
        }
      ]
    },
    {
      "cell_type": "code",
      "source": [
        "# drop unwanted variables\n",
        "air_test.drop(['id','is_holiday'], axis=1,inplace=True)"
      ],
      "metadata": {
        "id": "FwKdbBwZ0oqn"
      },
      "execution_count": null,
      "outputs": []
    },
    {
      "cell_type": "code",
      "source": [
        "# convert the 'Date' column to datetime format\n",
        "air_test['date_time']= pd.to_datetime(air_test['date_time'])"
      ],
      "metadata": {
        "id": "GadNF3Pm1ANP"
      },
      "execution_count": null,
      "outputs": []
    },
    {
      "cell_type": "code",
      "source": [
        "# Use Datetime.strftime() Method to extract year\n",
        "air_test[\"sample_year\"] = air_test[\"date_time\"].dt.year"
      ],
      "metadata": {
        "id": "5F6221H201DC"
      },
      "execution_count": null,
      "outputs": []
    },
    {
      "cell_type": "code",
      "source": [
        "# Use Datetime.strftime() Method to extract year\n",
        "air_test[\"sample_year\"] = air_test[\"date_time\"].dt.year"
      ],
      "metadata": {
        "id": "zXvwmwVL1F3b"
      },
      "execution_count": null,
      "outputs": []
    },
    {
      "cell_type": "code",
      "source": [
        "# Age of the sample\n",
        "air_test['Sample_Age'] = 2023 - air_test['sample_year']"
      ],
      "metadata": {
        "id": "qV8XFQxK1Kp9"
      },
      "execution_count": null,
      "outputs": []
    },
    {
      "cell_type": "code",
      "source": [
        "# drop Date_time & sample year field\n",
        "air_test.drop(['date_time','sample_year'], axis=1,inplace=True)"
      ],
      "metadata": {
        "id": "Nkb4WAC41Rmg"
      },
      "execution_count": null,
      "outputs": []
    },
    {
      "cell_type": "code",
      "source": [
        "# Apply Kfolding on categorical data"
      ],
      "metadata": {
        "id": "qSNXt5Td1Wp7"
      },
      "execution_count": null,
      "outputs": []
    },
    {
      "cell_type": "code",
      "source": [
        "class KFoldTargetEncoderTest(base.BaseEstimator, base.TransformerMixin):\n",
        "\n",
        "    def __init__(self,train,colNames,encodedName):\n",
        "\n",
        "        self.train = train\n",
        "        self.colNames = colNames\n",
        "        self.encodedName = encodedName\n",
        "\n",
        "\n",
        "    def fit(self, X, y=None):\n",
        "        return self\n",
        "\n",
        "    def transform(self,X):\n",
        "\n",
        "\n",
        "        mean = self.train[[self.colNames,self.encodedName]].groupby(self.colNames).mean().reset_index()\n",
        "\n",
        "        dd = {}\n",
        "        for index, row in mean.iterrows():\n",
        "            dd[row[self.colNames]] = row[self.encodedName]\n",
        "\n",
        "\n",
        "        X[self.encodedName] = X[self.colNames]\n",
        "        X = X.replace({self.encodedName: dd})\n",
        "\n",
        "        return X"
      ],
      "metadata": {
        "id": "wo4yyi_y1YmO"
      },
      "execution_count": null,
      "outputs": []
    },
    {
      "cell_type": "code",
      "source": [
        "test_targetc = KFoldTargetEncoderTest(air_train,'weather_type','weather_type_Kfold_Target_Enc')\n",
        "air_test = test_targetc.fit_transform(air_test)"
      ],
      "metadata": {
        "id": "5XSMaJgc1ycq"
      },
      "execution_count": null,
      "outputs": []
    },
    {
      "cell_type": "code",
      "source": [
        "air_test.drop(['weather_type'], axis=1,inplace=True)"
      ],
      "metadata": {
        "id": "6Q2mTmq85EBk"
      },
      "execution_count": null,
      "outputs": []
    },
    {
      "cell_type": "code",
      "source": [
        "air_test.info()"
      ],
      "metadata": {
        "colab": {
          "base_uri": "https://localhost:8080/"
        },
        "id": "P0ao1NEB44MN",
        "outputId": "26358758-884f-4c57-a1a7-df7fe3d10883"
      },
      "execution_count": null,
      "outputs": [
        {
          "output_type": "stream",
          "name": "stdout",
          "text": [
            "<class 'pandas.core.frame.DataFrame'>\n",
            "RangeIndex: 6750 entries, 0 to 6749\n",
            "Data columns (total 12 columns):\n",
            " #   Column                         Non-Null Count  Dtype  \n",
            "---  ------                         --------------  -----  \n",
            " 0   humidity                       6750 non-null   int64  \n",
            " 1   wind_speed                     6750 non-null   int64  \n",
            " 2   wind_direction                 6750 non-null   int64  \n",
            " 3   visibility_in_miles            6750 non-null   int64  \n",
            " 4   dew_point                      6750 non-null   int64  \n",
            " 5   temperature                    6750 non-null   float64\n",
            " 6   rain_p_h                       6750 non-null   float64\n",
            " 7   snow_p_h                       6750 non-null   float64\n",
            " 8   clouds_all                     6750 non-null   int64  \n",
            " 9   traffic_volume                 6750 non-null   int64  \n",
            " 10  Sample_Age                     6750 non-null   int64  \n",
            " 11  weather_type_Kfold_Target_Enc  6750 non-null   float64\n",
            "dtypes: float64(4), int64(8)\n",
            "memory usage: 632.9 KB\n"
          ]
        }
      ]
    },
    {
      "cell_type": "code",
      "source": [
        "# Applying Model to test data"
      ],
      "metadata": {
        "id": "jHAqf3Cqzry2"
      },
      "execution_count": null,
      "outputs": []
    },
    {
      "cell_type": "code",
      "source": [
        "air_test['air_pollution_index'] = model.predict(air_test)"
      ],
      "metadata": {
        "colab": {
          "base_uri": "https://localhost:8080/"
        },
        "id": "OrTkKDLxzrwS",
        "outputId": "61664da3-fc66-4bb7-907f-86333ecac389"
      },
      "execution_count": null,
      "outputs": [
        {
          "output_type": "stream",
          "name": "stdout",
          "text": [
            "211/211 [==============================] - 0s 2ms/step\n"
          ]
        }
      ]
    },
    {
      "cell_type": "code",
      "source": [
        "air_test.head()"
      ],
      "metadata": {
        "colab": {
          "base_uri": "https://localhost:8080/",
          "height": 270
        },
        "id": "cSVqRNCd6OPz",
        "outputId": "e5293ca3-d801-4000-faac-6a4e9bf8226d"
      },
      "execution_count": null,
      "outputs": [
        {
          "output_type": "execute_result",
          "data": {
            "text/plain": [
              "   humidity  wind_speed  wind_direction  visibility_in_miles  dew_point  \\\n",
              "0        76           2             140                    6          6   \n",
              "1        74           4             170                    8          8   \n",
              "2        52           7             308                    8          8   \n",
              "3        94           3             145                    6          6   \n",
              "4        77           3             355                    9          9   \n",
              "\n",
              "   temperature  rain_p_h  snow_p_h  clouds_all  traffic_volume  Sample_Age  \\\n",
              "0       287.82       0.0       0.0           0            2014          10   \n",
              "1       264.28       0.0       0.0           1            5384           7   \n",
              "2       296.57       0.0       0.0          92            4144           9   \n",
              "3       288.93       0.0       0.0           1            2147          10   \n",
              "4       273.59       0.0       0.0          90            3486           7   \n",
              "\n",
              "   weather_type_Kfold_Target_Enc  air_pollution_index  \n",
              "0                     155.457892         37936.210938  \n",
              "1                     155.457892        100467.570312  \n",
              "2                     152.570489         76673.023438  \n",
              "3                     155.457892         40406.976562  \n",
              "4                     156.054812         64298.628906  "
            ],
            "text/html": [
              "\n",
              "  <div id=\"df-ca9bd752-291b-4ad5-bd28-57656d08052d\">\n",
              "    <div class=\"colab-df-container\">\n",
              "      <div>\n",
              "<style scoped>\n",
              "    .dataframe tbody tr th:only-of-type {\n",
              "        vertical-align: middle;\n",
              "    }\n",
              "\n",
              "    .dataframe tbody tr th {\n",
              "        vertical-align: top;\n",
              "    }\n",
              "\n",
              "    .dataframe thead th {\n",
              "        text-align: right;\n",
              "    }\n",
              "</style>\n",
              "<table border=\"1\" class=\"dataframe\">\n",
              "  <thead>\n",
              "    <tr style=\"text-align: right;\">\n",
              "      <th></th>\n",
              "      <th>humidity</th>\n",
              "      <th>wind_speed</th>\n",
              "      <th>wind_direction</th>\n",
              "      <th>visibility_in_miles</th>\n",
              "      <th>dew_point</th>\n",
              "      <th>temperature</th>\n",
              "      <th>rain_p_h</th>\n",
              "      <th>snow_p_h</th>\n",
              "      <th>clouds_all</th>\n",
              "      <th>traffic_volume</th>\n",
              "      <th>Sample_Age</th>\n",
              "      <th>weather_type_Kfold_Target_Enc</th>\n",
              "      <th>air_pollution_index</th>\n",
              "    </tr>\n",
              "  </thead>\n",
              "  <tbody>\n",
              "    <tr>\n",
              "      <th>0</th>\n",
              "      <td>76</td>\n",
              "      <td>2</td>\n",
              "      <td>140</td>\n",
              "      <td>6</td>\n",
              "      <td>6</td>\n",
              "      <td>287.82</td>\n",
              "      <td>0.0</td>\n",
              "      <td>0.0</td>\n",
              "      <td>0</td>\n",
              "      <td>2014</td>\n",
              "      <td>10</td>\n",
              "      <td>155.457892</td>\n",
              "      <td>37936.210938</td>\n",
              "    </tr>\n",
              "    <tr>\n",
              "      <th>1</th>\n",
              "      <td>74</td>\n",
              "      <td>4</td>\n",
              "      <td>170</td>\n",
              "      <td>8</td>\n",
              "      <td>8</td>\n",
              "      <td>264.28</td>\n",
              "      <td>0.0</td>\n",
              "      <td>0.0</td>\n",
              "      <td>1</td>\n",
              "      <td>5384</td>\n",
              "      <td>7</td>\n",
              "      <td>155.457892</td>\n",
              "      <td>100467.570312</td>\n",
              "    </tr>\n",
              "    <tr>\n",
              "      <th>2</th>\n",
              "      <td>52</td>\n",
              "      <td>7</td>\n",
              "      <td>308</td>\n",
              "      <td>8</td>\n",
              "      <td>8</td>\n",
              "      <td>296.57</td>\n",
              "      <td>0.0</td>\n",
              "      <td>0.0</td>\n",
              "      <td>92</td>\n",
              "      <td>4144</td>\n",
              "      <td>9</td>\n",
              "      <td>152.570489</td>\n",
              "      <td>76673.023438</td>\n",
              "    </tr>\n",
              "    <tr>\n",
              "      <th>3</th>\n",
              "      <td>94</td>\n",
              "      <td>3</td>\n",
              "      <td>145</td>\n",
              "      <td>6</td>\n",
              "      <td>6</td>\n",
              "      <td>288.93</td>\n",
              "      <td>0.0</td>\n",
              "      <td>0.0</td>\n",
              "      <td>1</td>\n",
              "      <td>2147</td>\n",
              "      <td>10</td>\n",
              "      <td>155.457892</td>\n",
              "      <td>40406.976562</td>\n",
              "    </tr>\n",
              "    <tr>\n",
              "      <th>4</th>\n",
              "      <td>77</td>\n",
              "      <td>3</td>\n",
              "      <td>355</td>\n",
              "      <td>9</td>\n",
              "      <td>9</td>\n",
              "      <td>273.59</td>\n",
              "      <td>0.0</td>\n",
              "      <td>0.0</td>\n",
              "      <td>90</td>\n",
              "      <td>3486</td>\n",
              "      <td>7</td>\n",
              "      <td>156.054812</td>\n",
              "      <td>64298.628906</td>\n",
              "    </tr>\n",
              "  </tbody>\n",
              "</table>\n",
              "</div>\n",
              "      <button class=\"colab-df-convert\" onclick=\"convertToInteractive('df-ca9bd752-291b-4ad5-bd28-57656d08052d')\"\n",
              "              title=\"Convert this dataframe to an interactive table.\"\n",
              "              style=\"display:none;\">\n",
              "        \n",
              "  <svg xmlns=\"http://www.w3.org/2000/svg\" height=\"24px\"viewBox=\"0 0 24 24\"\n",
              "       width=\"24px\">\n",
              "    <path d=\"M0 0h24v24H0V0z\" fill=\"none\"/>\n",
              "    <path d=\"M18.56 5.44l.94 2.06.94-2.06 2.06-.94-2.06-.94-.94-2.06-.94 2.06-2.06.94zm-11 1L8.5 8.5l.94-2.06 2.06-.94-2.06-.94L8.5 2.5l-.94 2.06-2.06.94zm10 10l.94 2.06.94-2.06 2.06-.94-2.06-.94-.94-2.06-.94 2.06-2.06.94z\"/><path d=\"M17.41 7.96l-1.37-1.37c-.4-.4-.92-.59-1.43-.59-.52 0-1.04.2-1.43.59L10.3 9.45l-7.72 7.72c-.78.78-.78 2.05 0 2.83L4 21.41c.39.39.9.59 1.41.59.51 0 1.02-.2 1.41-.59l7.78-7.78 2.81-2.81c.8-.78.8-2.07 0-2.86zM5.41 20L4 18.59l7.72-7.72 1.47 1.35L5.41 20z\"/>\n",
              "  </svg>\n",
              "      </button>\n",
              "      \n",
              "  <style>\n",
              "    .colab-df-container {\n",
              "      display:flex;\n",
              "      flex-wrap:wrap;\n",
              "      gap: 12px;\n",
              "    }\n",
              "\n",
              "    .colab-df-convert {\n",
              "      background-color: #E8F0FE;\n",
              "      border: none;\n",
              "      border-radius: 50%;\n",
              "      cursor: pointer;\n",
              "      display: none;\n",
              "      fill: #1967D2;\n",
              "      height: 32px;\n",
              "      padding: 0 0 0 0;\n",
              "      width: 32px;\n",
              "    }\n",
              "\n",
              "    .colab-df-convert:hover {\n",
              "      background-color: #E2EBFA;\n",
              "      box-shadow: 0px 1px 2px rgba(60, 64, 67, 0.3), 0px 1px 3px 1px rgba(60, 64, 67, 0.15);\n",
              "      fill: #174EA6;\n",
              "    }\n",
              "\n",
              "    [theme=dark] .colab-df-convert {\n",
              "      background-color: #3B4455;\n",
              "      fill: #D2E3FC;\n",
              "    }\n",
              "\n",
              "    [theme=dark] .colab-df-convert:hover {\n",
              "      background-color: #434B5C;\n",
              "      box-shadow: 0px 1px 3px 1px rgba(0, 0, 0, 0.15);\n",
              "      filter: drop-shadow(0px 1px 2px rgba(0, 0, 0, 0.3));\n",
              "      fill: #FFFFFF;\n",
              "    }\n",
              "  </style>\n",
              "\n",
              "      <script>\n",
              "        const buttonEl =\n",
              "          document.querySelector('#df-ca9bd752-291b-4ad5-bd28-57656d08052d button.colab-df-convert');\n",
              "        buttonEl.style.display =\n",
              "          google.colab.kernel.accessAllowed ? 'block' : 'none';\n",
              "\n",
              "        async function convertToInteractive(key) {\n",
              "          const element = document.querySelector('#df-ca9bd752-291b-4ad5-bd28-57656d08052d');\n",
              "          const dataTable =\n",
              "            await google.colab.kernel.invokeFunction('convertToInteractive',\n",
              "                                                     [key], {});\n",
              "          if (!dataTable) return;\n",
              "\n",
              "          const docLinkHtml = 'Like what you see? Visit the ' +\n",
              "            '<a target=\"_blank\" href=https://colab.research.google.com/notebooks/data_table.ipynb>data table notebook</a>'\n",
              "            + ' to learn more about interactive tables.';\n",
              "          element.innerHTML = '';\n",
              "          dataTable['output_type'] = 'display_data';\n",
              "          await google.colab.output.renderOutput(dataTable, element);\n",
              "          const docLink = document.createElement('div');\n",
              "          docLink.innerHTML = docLinkHtml;\n",
              "          element.appendChild(docLink);\n",
              "        }\n",
              "      </script>\n",
              "    </div>\n",
              "  </div>\n",
              "  "
            ]
          },
          "metadata": {},
          "execution_count": 100
        }
      ]
    },
    {
      "cell_type": "code",
      "source": [
        "# since we need to use RMSE , find sqaure root of the target variable"
      ],
      "metadata": {
        "id": "9iFtQB7s74hB"
      },
      "execution_count": null,
      "outputs": []
    },
    {
      "cell_type": "code",
      "source": [
        "air_test['air_pollution_index_root']=np.sqrt((air_test['air_pollution_index']))"
      ],
      "metadata": {
        "id": "Wm0Apb4t8FTS"
      },
      "execution_count": null,
      "outputs": []
    },
    {
      "cell_type": "code",
      "source": [
        "air_test.head()"
      ],
      "metadata": {
        "colab": {
          "base_uri": "https://localhost:8080/",
          "height": 270
        },
        "id": "HPoVh-738REL",
        "outputId": "e98e8235-6223-46b1-cc31-b944c17b3bd9"
      },
      "execution_count": null,
      "outputs": [
        {
          "output_type": "execute_result",
          "data": {
            "text/plain": [
              "   humidity  wind_speed  wind_direction  visibility_in_miles  dew_point  \\\n",
              "0        76           2             140                    6          6   \n",
              "1        74           4             170                    8          8   \n",
              "2        52           7             308                    8          8   \n",
              "3        94           3             145                    6          6   \n",
              "4        77           3             355                    9          9   \n",
              "\n",
              "   temperature  rain_p_h  snow_p_h  clouds_all  traffic_volume  Sample_Age  \\\n",
              "0       287.82       0.0       0.0           0            2014          10   \n",
              "1       264.28       0.0       0.0           1            5384           7   \n",
              "2       296.57       0.0       0.0          92            4144           9   \n",
              "3       288.93       0.0       0.0           1            2147          10   \n",
              "4       273.59       0.0       0.0          90            3486           7   \n",
              "\n",
              "   weather_type_Kfold_Target_Enc  air_pollution_index  \\\n",
              "0                     155.457892         37936.210938   \n",
              "1                     155.457892        100467.570312   \n",
              "2                     152.570489         76673.023438   \n",
              "3                     155.457892         40406.976562   \n",
              "4                     156.054812         64298.628906   \n",
              "\n",
              "   air_pollution_index_root  \n",
              "0                194.772202  \n",
              "1                316.966187  \n",
              "2                276.898926  \n",
              "3                201.014862  \n",
              "4                253.571747  "
            ],
            "text/html": [
              "\n",
              "  <div id=\"df-c42f681a-b07a-43b1-820f-926268d48198\">\n",
              "    <div class=\"colab-df-container\">\n",
              "      <div>\n",
              "<style scoped>\n",
              "    .dataframe tbody tr th:only-of-type {\n",
              "        vertical-align: middle;\n",
              "    }\n",
              "\n",
              "    .dataframe tbody tr th {\n",
              "        vertical-align: top;\n",
              "    }\n",
              "\n",
              "    .dataframe thead th {\n",
              "        text-align: right;\n",
              "    }\n",
              "</style>\n",
              "<table border=\"1\" class=\"dataframe\">\n",
              "  <thead>\n",
              "    <tr style=\"text-align: right;\">\n",
              "      <th></th>\n",
              "      <th>humidity</th>\n",
              "      <th>wind_speed</th>\n",
              "      <th>wind_direction</th>\n",
              "      <th>visibility_in_miles</th>\n",
              "      <th>dew_point</th>\n",
              "      <th>temperature</th>\n",
              "      <th>rain_p_h</th>\n",
              "      <th>snow_p_h</th>\n",
              "      <th>clouds_all</th>\n",
              "      <th>traffic_volume</th>\n",
              "      <th>Sample_Age</th>\n",
              "      <th>weather_type_Kfold_Target_Enc</th>\n",
              "      <th>air_pollution_index</th>\n",
              "      <th>air_pollution_index_root</th>\n",
              "    </tr>\n",
              "  </thead>\n",
              "  <tbody>\n",
              "    <tr>\n",
              "      <th>0</th>\n",
              "      <td>76</td>\n",
              "      <td>2</td>\n",
              "      <td>140</td>\n",
              "      <td>6</td>\n",
              "      <td>6</td>\n",
              "      <td>287.82</td>\n",
              "      <td>0.0</td>\n",
              "      <td>0.0</td>\n",
              "      <td>0</td>\n",
              "      <td>2014</td>\n",
              "      <td>10</td>\n",
              "      <td>155.457892</td>\n",
              "      <td>37936.210938</td>\n",
              "      <td>194.772202</td>\n",
              "    </tr>\n",
              "    <tr>\n",
              "      <th>1</th>\n",
              "      <td>74</td>\n",
              "      <td>4</td>\n",
              "      <td>170</td>\n",
              "      <td>8</td>\n",
              "      <td>8</td>\n",
              "      <td>264.28</td>\n",
              "      <td>0.0</td>\n",
              "      <td>0.0</td>\n",
              "      <td>1</td>\n",
              "      <td>5384</td>\n",
              "      <td>7</td>\n",
              "      <td>155.457892</td>\n",
              "      <td>100467.570312</td>\n",
              "      <td>316.966187</td>\n",
              "    </tr>\n",
              "    <tr>\n",
              "      <th>2</th>\n",
              "      <td>52</td>\n",
              "      <td>7</td>\n",
              "      <td>308</td>\n",
              "      <td>8</td>\n",
              "      <td>8</td>\n",
              "      <td>296.57</td>\n",
              "      <td>0.0</td>\n",
              "      <td>0.0</td>\n",
              "      <td>92</td>\n",
              "      <td>4144</td>\n",
              "      <td>9</td>\n",
              "      <td>152.570489</td>\n",
              "      <td>76673.023438</td>\n",
              "      <td>276.898926</td>\n",
              "    </tr>\n",
              "    <tr>\n",
              "      <th>3</th>\n",
              "      <td>94</td>\n",
              "      <td>3</td>\n",
              "      <td>145</td>\n",
              "      <td>6</td>\n",
              "      <td>6</td>\n",
              "      <td>288.93</td>\n",
              "      <td>0.0</td>\n",
              "      <td>0.0</td>\n",
              "      <td>1</td>\n",
              "      <td>2147</td>\n",
              "      <td>10</td>\n",
              "      <td>155.457892</td>\n",
              "      <td>40406.976562</td>\n",
              "      <td>201.014862</td>\n",
              "    </tr>\n",
              "    <tr>\n",
              "      <th>4</th>\n",
              "      <td>77</td>\n",
              "      <td>3</td>\n",
              "      <td>355</td>\n",
              "      <td>9</td>\n",
              "      <td>9</td>\n",
              "      <td>273.59</td>\n",
              "      <td>0.0</td>\n",
              "      <td>0.0</td>\n",
              "      <td>90</td>\n",
              "      <td>3486</td>\n",
              "      <td>7</td>\n",
              "      <td>156.054812</td>\n",
              "      <td>64298.628906</td>\n",
              "      <td>253.571747</td>\n",
              "    </tr>\n",
              "  </tbody>\n",
              "</table>\n",
              "</div>\n",
              "      <button class=\"colab-df-convert\" onclick=\"convertToInteractive('df-c42f681a-b07a-43b1-820f-926268d48198')\"\n",
              "              title=\"Convert this dataframe to an interactive table.\"\n",
              "              style=\"display:none;\">\n",
              "        \n",
              "  <svg xmlns=\"http://www.w3.org/2000/svg\" height=\"24px\"viewBox=\"0 0 24 24\"\n",
              "       width=\"24px\">\n",
              "    <path d=\"M0 0h24v24H0V0z\" fill=\"none\"/>\n",
              "    <path d=\"M18.56 5.44l.94 2.06.94-2.06 2.06-.94-2.06-.94-.94-2.06-.94 2.06-2.06.94zm-11 1L8.5 8.5l.94-2.06 2.06-.94-2.06-.94L8.5 2.5l-.94 2.06-2.06.94zm10 10l.94 2.06.94-2.06 2.06-.94-2.06-.94-.94-2.06-.94 2.06-2.06.94z\"/><path d=\"M17.41 7.96l-1.37-1.37c-.4-.4-.92-.59-1.43-.59-.52 0-1.04.2-1.43.59L10.3 9.45l-7.72 7.72c-.78.78-.78 2.05 0 2.83L4 21.41c.39.39.9.59 1.41.59.51 0 1.02-.2 1.41-.59l7.78-7.78 2.81-2.81c.8-.78.8-2.07 0-2.86zM5.41 20L4 18.59l7.72-7.72 1.47 1.35L5.41 20z\"/>\n",
              "  </svg>\n",
              "      </button>\n",
              "      \n",
              "  <style>\n",
              "    .colab-df-container {\n",
              "      display:flex;\n",
              "      flex-wrap:wrap;\n",
              "      gap: 12px;\n",
              "    }\n",
              "\n",
              "    .colab-df-convert {\n",
              "      background-color: #E8F0FE;\n",
              "      border: none;\n",
              "      border-radius: 50%;\n",
              "      cursor: pointer;\n",
              "      display: none;\n",
              "      fill: #1967D2;\n",
              "      height: 32px;\n",
              "      padding: 0 0 0 0;\n",
              "      width: 32px;\n",
              "    }\n",
              "\n",
              "    .colab-df-convert:hover {\n",
              "      background-color: #E2EBFA;\n",
              "      box-shadow: 0px 1px 2px rgba(60, 64, 67, 0.3), 0px 1px 3px 1px rgba(60, 64, 67, 0.15);\n",
              "      fill: #174EA6;\n",
              "    }\n",
              "\n",
              "    [theme=dark] .colab-df-convert {\n",
              "      background-color: #3B4455;\n",
              "      fill: #D2E3FC;\n",
              "    }\n",
              "\n",
              "    [theme=dark] .colab-df-convert:hover {\n",
              "      background-color: #434B5C;\n",
              "      box-shadow: 0px 1px 3px 1px rgba(0, 0, 0, 0.15);\n",
              "      filter: drop-shadow(0px 1px 2px rgba(0, 0, 0, 0.3));\n",
              "      fill: #FFFFFF;\n",
              "    }\n",
              "  </style>\n",
              "\n",
              "      <script>\n",
              "        const buttonEl =\n",
              "          document.querySelector('#df-c42f681a-b07a-43b1-820f-926268d48198 button.colab-df-convert');\n",
              "        buttonEl.style.display =\n",
              "          google.colab.kernel.accessAllowed ? 'block' : 'none';\n",
              "\n",
              "        async function convertToInteractive(key) {\n",
              "          const element = document.querySelector('#df-c42f681a-b07a-43b1-820f-926268d48198');\n",
              "          const dataTable =\n",
              "            await google.colab.kernel.invokeFunction('convertToInteractive',\n",
              "                                                     [key], {});\n",
              "          if (!dataTable) return;\n",
              "\n",
              "          const docLinkHtml = 'Like what you see? Visit the ' +\n",
              "            '<a target=\"_blank\" href=https://colab.research.google.com/notebooks/data_table.ipynb>data table notebook</a>'\n",
              "            + ' to learn more about interactive tables.';\n",
              "          element.innerHTML = '';\n",
              "          dataTable['output_type'] = 'display_data';\n",
              "          await google.colab.output.renderOutput(dataTable, element);\n",
              "          const docLink = document.createElement('div');\n",
              "          docLink.innerHTML = docLinkHtml;\n",
              "          element.appendChild(docLink);\n",
              "        }\n",
              "      </script>\n",
              "    </div>\n",
              "  </div>\n",
              "  "
            ]
          },
          "metadata": {},
          "execution_count": 102
        }
      ]
    },
    {
      "cell_type": "code",
      "source": [
        "# Merge ID & index features from Test Data\n",
        "final_a = air_test['air_pollution_index_root']"
      ],
      "metadata": {
        "id": "NEasogoFzrtY"
      },
      "execution_count": null,
      "outputs": []
    },
    {
      "cell_type": "code",
      "source": [
        "# Load test data\n",
        "air_test_c = pd.read_csv('/content/air_test.csv')\n",
        "print('Data Shape:', air_test_c.shape)\n",
        "air_test_c.head()"
      ],
      "metadata": {
        "colab": {
          "base_uri": "https://localhost:8080/",
          "height": 375
        },
        "id": "tZJrH0vz882t",
        "outputId": "b704b3d0-fbdf-4282-ebf1-099a735a99b6"
      },
      "execution_count": null,
      "outputs": [
        {
          "output_type": "stream",
          "name": "stdout",
          "text": [
            "Data Shape: (6750, 14)\n"
          ]
        },
        {
          "output_type": "execute_result",
          "data": {
            "text/plain": [
              "      id         date_time is_holiday  humidity  wind_speed  wind_direction  \\\n",
              "0   8419   8/14/2013 22:00       None        76           2             140   \n",
              "1  21188    2/9/2016 14:00       None        74           4             170   \n",
              "2  15443   7/12/2014 11:00       None        52           7             308   \n",
              "3   5952   5/11/2013 21:00       None        94           3             145   \n",
              "4  28213  11/18/2016 18:00       None        77           3             355   \n",
              "\n",
              "   visibility_in_miles  dew_point  temperature  rain_p_h  snow_p_h  \\\n",
              "0                    6          6       287.82       0.0       0.0   \n",
              "1                    8          8       264.28       0.0       0.0   \n",
              "2                    8          8       296.57       0.0       0.0   \n",
              "3                    6          6       288.93       0.0       0.0   \n",
              "4                    9          9       273.59       0.0       0.0   \n",
              "\n",
              "   clouds_all weather_type  traffic_volume  \n",
              "0           0        Clear            2014  \n",
              "1           1        Clear            5384  \n",
              "2          92      Drizzle            4144  \n",
              "3           1        Clear            2147  \n",
              "4          90         Snow            3486  "
            ],
            "text/html": [
              "\n",
              "  <div id=\"df-25212983-3405-41c7-b9ea-f439e496e3ec\">\n",
              "    <div class=\"colab-df-container\">\n",
              "      <div>\n",
              "<style scoped>\n",
              "    .dataframe tbody tr th:only-of-type {\n",
              "        vertical-align: middle;\n",
              "    }\n",
              "\n",
              "    .dataframe tbody tr th {\n",
              "        vertical-align: top;\n",
              "    }\n",
              "\n",
              "    .dataframe thead th {\n",
              "        text-align: right;\n",
              "    }\n",
              "</style>\n",
              "<table border=\"1\" class=\"dataframe\">\n",
              "  <thead>\n",
              "    <tr style=\"text-align: right;\">\n",
              "      <th></th>\n",
              "      <th>id</th>\n",
              "      <th>date_time</th>\n",
              "      <th>is_holiday</th>\n",
              "      <th>humidity</th>\n",
              "      <th>wind_speed</th>\n",
              "      <th>wind_direction</th>\n",
              "      <th>visibility_in_miles</th>\n",
              "      <th>dew_point</th>\n",
              "      <th>temperature</th>\n",
              "      <th>rain_p_h</th>\n",
              "      <th>snow_p_h</th>\n",
              "      <th>clouds_all</th>\n",
              "      <th>weather_type</th>\n",
              "      <th>traffic_volume</th>\n",
              "    </tr>\n",
              "  </thead>\n",
              "  <tbody>\n",
              "    <tr>\n",
              "      <th>0</th>\n",
              "      <td>8419</td>\n",
              "      <td>8/14/2013 22:00</td>\n",
              "      <td>None</td>\n",
              "      <td>76</td>\n",
              "      <td>2</td>\n",
              "      <td>140</td>\n",
              "      <td>6</td>\n",
              "      <td>6</td>\n",
              "      <td>287.82</td>\n",
              "      <td>0.0</td>\n",
              "      <td>0.0</td>\n",
              "      <td>0</td>\n",
              "      <td>Clear</td>\n",
              "      <td>2014</td>\n",
              "    </tr>\n",
              "    <tr>\n",
              "      <th>1</th>\n",
              "      <td>21188</td>\n",
              "      <td>2/9/2016 14:00</td>\n",
              "      <td>None</td>\n",
              "      <td>74</td>\n",
              "      <td>4</td>\n",
              "      <td>170</td>\n",
              "      <td>8</td>\n",
              "      <td>8</td>\n",
              "      <td>264.28</td>\n",
              "      <td>0.0</td>\n",
              "      <td>0.0</td>\n",
              "      <td>1</td>\n",
              "      <td>Clear</td>\n",
              "      <td>5384</td>\n",
              "    </tr>\n",
              "    <tr>\n",
              "      <th>2</th>\n",
              "      <td>15443</td>\n",
              "      <td>7/12/2014 11:00</td>\n",
              "      <td>None</td>\n",
              "      <td>52</td>\n",
              "      <td>7</td>\n",
              "      <td>308</td>\n",
              "      <td>8</td>\n",
              "      <td>8</td>\n",
              "      <td>296.57</td>\n",
              "      <td>0.0</td>\n",
              "      <td>0.0</td>\n",
              "      <td>92</td>\n",
              "      <td>Drizzle</td>\n",
              "      <td>4144</td>\n",
              "    </tr>\n",
              "    <tr>\n",
              "      <th>3</th>\n",
              "      <td>5952</td>\n",
              "      <td>5/11/2013 21:00</td>\n",
              "      <td>None</td>\n",
              "      <td>94</td>\n",
              "      <td>3</td>\n",
              "      <td>145</td>\n",
              "      <td>6</td>\n",
              "      <td>6</td>\n",
              "      <td>288.93</td>\n",
              "      <td>0.0</td>\n",
              "      <td>0.0</td>\n",
              "      <td>1</td>\n",
              "      <td>Clear</td>\n",
              "      <td>2147</td>\n",
              "    </tr>\n",
              "    <tr>\n",
              "      <th>4</th>\n",
              "      <td>28213</td>\n",
              "      <td>11/18/2016 18:00</td>\n",
              "      <td>None</td>\n",
              "      <td>77</td>\n",
              "      <td>3</td>\n",
              "      <td>355</td>\n",
              "      <td>9</td>\n",
              "      <td>9</td>\n",
              "      <td>273.59</td>\n",
              "      <td>0.0</td>\n",
              "      <td>0.0</td>\n",
              "      <td>90</td>\n",
              "      <td>Snow</td>\n",
              "      <td>3486</td>\n",
              "    </tr>\n",
              "  </tbody>\n",
              "</table>\n",
              "</div>\n",
              "      <button class=\"colab-df-convert\" onclick=\"convertToInteractive('df-25212983-3405-41c7-b9ea-f439e496e3ec')\"\n",
              "              title=\"Convert this dataframe to an interactive table.\"\n",
              "              style=\"display:none;\">\n",
              "        \n",
              "  <svg xmlns=\"http://www.w3.org/2000/svg\" height=\"24px\"viewBox=\"0 0 24 24\"\n",
              "       width=\"24px\">\n",
              "    <path d=\"M0 0h24v24H0V0z\" fill=\"none\"/>\n",
              "    <path d=\"M18.56 5.44l.94 2.06.94-2.06 2.06-.94-2.06-.94-.94-2.06-.94 2.06-2.06.94zm-11 1L8.5 8.5l.94-2.06 2.06-.94-2.06-.94L8.5 2.5l-.94 2.06-2.06.94zm10 10l.94 2.06.94-2.06 2.06-.94-2.06-.94-.94-2.06-.94 2.06-2.06.94z\"/><path d=\"M17.41 7.96l-1.37-1.37c-.4-.4-.92-.59-1.43-.59-.52 0-1.04.2-1.43.59L10.3 9.45l-7.72 7.72c-.78.78-.78 2.05 0 2.83L4 21.41c.39.39.9.59 1.41.59.51 0 1.02-.2 1.41-.59l7.78-7.78 2.81-2.81c.8-.78.8-2.07 0-2.86zM5.41 20L4 18.59l7.72-7.72 1.47 1.35L5.41 20z\"/>\n",
              "  </svg>\n",
              "      </button>\n",
              "      \n",
              "  <style>\n",
              "    .colab-df-container {\n",
              "      display:flex;\n",
              "      flex-wrap:wrap;\n",
              "      gap: 12px;\n",
              "    }\n",
              "\n",
              "    .colab-df-convert {\n",
              "      background-color: #E8F0FE;\n",
              "      border: none;\n",
              "      border-radius: 50%;\n",
              "      cursor: pointer;\n",
              "      display: none;\n",
              "      fill: #1967D2;\n",
              "      height: 32px;\n",
              "      padding: 0 0 0 0;\n",
              "      width: 32px;\n",
              "    }\n",
              "\n",
              "    .colab-df-convert:hover {\n",
              "      background-color: #E2EBFA;\n",
              "      box-shadow: 0px 1px 2px rgba(60, 64, 67, 0.3), 0px 1px 3px 1px rgba(60, 64, 67, 0.15);\n",
              "      fill: #174EA6;\n",
              "    }\n",
              "\n",
              "    [theme=dark] .colab-df-convert {\n",
              "      background-color: #3B4455;\n",
              "      fill: #D2E3FC;\n",
              "    }\n",
              "\n",
              "    [theme=dark] .colab-df-convert:hover {\n",
              "      background-color: #434B5C;\n",
              "      box-shadow: 0px 1px 3px 1px rgba(0, 0, 0, 0.15);\n",
              "      filter: drop-shadow(0px 1px 2px rgba(0, 0, 0, 0.3));\n",
              "      fill: #FFFFFF;\n",
              "    }\n",
              "  </style>\n",
              "\n",
              "      <script>\n",
              "        const buttonEl =\n",
              "          document.querySelector('#df-25212983-3405-41c7-b9ea-f439e496e3ec button.colab-df-convert');\n",
              "        buttonEl.style.display =\n",
              "          google.colab.kernel.accessAllowed ? 'block' : 'none';\n",
              "\n",
              "        async function convertToInteractive(key) {\n",
              "          const element = document.querySelector('#df-25212983-3405-41c7-b9ea-f439e496e3ec');\n",
              "          const dataTable =\n",
              "            await google.colab.kernel.invokeFunction('convertToInteractive',\n",
              "                                                     [key], {});\n",
              "          if (!dataTable) return;\n",
              "\n",
              "          const docLinkHtml = 'Like what you see? Visit the ' +\n",
              "            '<a target=\"_blank\" href=https://colab.research.google.com/notebooks/data_table.ipynb>data table notebook</a>'\n",
              "            + ' to learn more about interactive tables.';\n",
              "          element.innerHTML = '';\n",
              "          dataTable['output_type'] = 'display_data';\n",
              "          await google.colab.output.renderOutput(dataTable, element);\n",
              "          const docLink = document.createElement('div');\n",
              "          docLink.innerHTML = docLinkHtml;\n",
              "          element.appendChild(docLink);\n",
              "        }\n",
              "      </script>\n",
              "    </div>\n",
              "  </div>\n",
              "  "
            ]
          },
          "metadata": {},
          "execution_count": 106
        }
      ]
    },
    {
      "cell_type": "code",
      "source": [
        "# Filter only ID variable\n",
        "final_b = air_test_c['id']"
      ],
      "metadata": {
        "id": "gLSZNmT58ygb"
      },
      "execution_count": null,
      "outputs": []
    },
    {
      "cell_type": "code",
      "source": [
        "final_submission = pd.concat([final_b,final_a], axis=1, join='inner')"
      ],
      "metadata": {
        "id": "OBCqz8CD9JNs"
      },
      "execution_count": null,
      "outputs": []
    },
    {
      "cell_type": "code",
      "source": [
        "final_submission.head()"
      ],
      "metadata": {
        "colab": {
          "base_uri": "https://localhost:8080/",
          "height": 206
        },
        "id": "GkXn24pD9N8J",
        "outputId": "3637472d-1b99-45b7-87b0-b317c8a111a8"
      },
      "execution_count": null,
      "outputs": [
        {
          "output_type": "execute_result",
          "data": {
            "text/plain": [
              "      id  air_pollution_index_root\n",
              "0   8419                194.772202\n",
              "1  21188                316.966187\n",
              "2  15443                276.898926\n",
              "3   5952                201.014862\n",
              "4  28213                253.571747"
            ],
            "text/html": [
              "\n",
              "  <div id=\"df-2d1e28ab-17f7-43fc-be01-a8242898067b\">\n",
              "    <div class=\"colab-df-container\">\n",
              "      <div>\n",
              "<style scoped>\n",
              "    .dataframe tbody tr th:only-of-type {\n",
              "        vertical-align: middle;\n",
              "    }\n",
              "\n",
              "    .dataframe tbody tr th {\n",
              "        vertical-align: top;\n",
              "    }\n",
              "\n",
              "    .dataframe thead th {\n",
              "        text-align: right;\n",
              "    }\n",
              "</style>\n",
              "<table border=\"1\" class=\"dataframe\">\n",
              "  <thead>\n",
              "    <tr style=\"text-align: right;\">\n",
              "      <th></th>\n",
              "      <th>id</th>\n",
              "      <th>air_pollution_index_root</th>\n",
              "    </tr>\n",
              "  </thead>\n",
              "  <tbody>\n",
              "    <tr>\n",
              "      <th>0</th>\n",
              "      <td>8419</td>\n",
              "      <td>194.772202</td>\n",
              "    </tr>\n",
              "    <tr>\n",
              "      <th>1</th>\n",
              "      <td>21188</td>\n",
              "      <td>316.966187</td>\n",
              "    </tr>\n",
              "    <tr>\n",
              "      <th>2</th>\n",
              "      <td>15443</td>\n",
              "      <td>276.898926</td>\n",
              "    </tr>\n",
              "    <tr>\n",
              "      <th>3</th>\n",
              "      <td>5952</td>\n",
              "      <td>201.014862</td>\n",
              "    </tr>\n",
              "    <tr>\n",
              "      <th>4</th>\n",
              "      <td>28213</td>\n",
              "      <td>253.571747</td>\n",
              "    </tr>\n",
              "  </tbody>\n",
              "</table>\n",
              "</div>\n",
              "      <button class=\"colab-df-convert\" onclick=\"convertToInteractive('df-2d1e28ab-17f7-43fc-be01-a8242898067b')\"\n",
              "              title=\"Convert this dataframe to an interactive table.\"\n",
              "              style=\"display:none;\">\n",
              "        \n",
              "  <svg xmlns=\"http://www.w3.org/2000/svg\" height=\"24px\"viewBox=\"0 0 24 24\"\n",
              "       width=\"24px\">\n",
              "    <path d=\"M0 0h24v24H0V0z\" fill=\"none\"/>\n",
              "    <path d=\"M18.56 5.44l.94 2.06.94-2.06 2.06-.94-2.06-.94-.94-2.06-.94 2.06-2.06.94zm-11 1L8.5 8.5l.94-2.06 2.06-.94-2.06-.94L8.5 2.5l-.94 2.06-2.06.94zm10 10l.94 2.06.94-2.06 2.06-.94-2.06-.94-.94-2.06-.94 2.06-2.06.94z\"/><path d=\"M17.41 7.96l-1.37-1.37c-.4-.4-.92-.59-1.43-.59-.52 0-1.04.2-1.43.59L10.3 9.45l-7.72 7.72c-.78.78-.78 2.05 0 2.83L4 21.41c.39.39.9.59 1.41.59.51 0 1.02-.2 1.41-.59l7.78-7.78 2.81-2.81c.8-.78.8-2.07 0-2.86zM5.41 20L4 18.59l7.72-7.72 1.47 1.35L5.41 20z\"/>\n",
              "  </svg>\n",
              "      </button>\n",
              "      \n",
              "  <style>\n",
              "    .colab-df-container {\n",
              "      display:flex;\n",
              "      flex-wrap:wrap;\n",
              "      gap: 12px;\n",
              "    }\n",
              "\n",
              "    .colab-df-convert {\n",
              "      background-color: #E8F0FE;\n",
              "      border: none;\n",
              "      border-radius: 50%;\n",
              "      cursor: pointer;\n",
              "      display: none;\n",
              "      fill: #1967D2;\n",
              "      height: 32px;\n",
              "      padding: 0 0 0 0;\n",
              "      width: 32px;\n",
              "    }\n",
              "\n",
              "    .colab-df-convert:hover {\n",
              "      background-color: #E2EBFA;\n",
              "      box-shadow: 0px 1px 2px rgba(60, 64, 67, 0.3), 0px 1px 3px 1px rgba(60, 64, 67, 0.15);\n",
              "      fill: #174EA6;\n",
              "    }\n",
              "\n",
              "    [theme=dark] .colab-df-convert {\n",
              "      background-color: #3B4455;\n",
              "      fill: #D2E3FC;\n",
              "    }\n",
              "\n",
              "    [theme=dark] .colab-df-convert:hover {\n",
              "      background-color: #434B5C;\n",
              "      box-shadow: 0px 1px 3px 1px rgba(0, 0, 0, 0.15);\n",
              "      filter: drop-shadow(0px 1px 2px rgba(0, 0, 0, 0.3));\n",
              "      fill: #FFFFFF;\n",
              "    }\n",
              "  </style>\n",
              "\n",
              "      <script>\n",
              "        const buttonEl =\n",
              "          document.querySelector('#df-2d1e28ab-17f7-43fc-be01-a8242898067b button.colab-df-convert');\n",
              "        buttonEl.style.display =\n",
              "          google.colab.kernel.accessAllowed ? 'block' : 'none';\n",
              "\n",
              "        async function convertToInteractive(key) {\n",
              "          const element = document.querySelector('#df-2d1e28ab-17f7-43fc-be01-a8242898067b');\n",
              "          const dataTable =\n",
              "            await google.colab.kernel.invokeFunction('convertToInteractive',\n",
              "                                                     [key], {});\n",
              "          if (!dataTable) return;\n",
              "\n",
              "          const docLinkHtml = 'Like what you see? Visit the ' +\n",
              "            '<a target=\"_blank\" href=https://colab.research.google.com/notebooks/data_table.ipynb>data table notebook</a>'\n",
              "            + ' to learn more about interactive tables.';\n",
              "          element.innerHTML = '';\n",
              "          dataTable['output_type'] = 'display_data';\n",
              "          await google.colab.output.renderOutput(dataTable, element);\n",
              "          const docLink = document.createElement('div');\n",
              "          docLink.innerHTML = docLinkHtml;\n",
              "          element.appendChild(docLink);\n",
              "        }\n",
              "      </script>\n",
              "    </div>\n",
              "  </div>\n",
              "  "
            ]
          },
          "metadata": {},
          "execution_count": 109
        }
      ]
    },
    {
      "cell_type": "code",
      "source": [
        "# Exporting Data for Final Submission\n",
        "final_submission.to_csv('Air_Pollution_Index.csv', index=False, header=False)"
      ],
      "metadata": {
        "id": "bSnJLZSQ9Rqu"
      },
      "execution_count": null,
      "outputs": []
    },
    {
      "cell_type": "code",
      "source": [],
      "metadata": {
        "id": "blhmanJtzrRS"
      },
      "execution_count": null,
      "outputs": []
    },
    {
      "cell_type": "markdown",
      "source": [
        "Make Predictions¶\n",
        "Finally, predict index values using data in the testing set:"
      ],
      "metadata": {
        "id": "owqdEosUulcM"
      }
    },
    {
      "cell_type": "code",
      "source": [
        "test_predictions = model.predict(normed_test_data).flatten()"
      ],
      "metadata": {
        "colab": {
          "base_uri": "https://localhost:8080/"
        },
        "id": "TZK7ppUeus10",
        "outputId": "9c221025-9c62-47b7-dd16-218078da3821"
      },
      "execution_count": null,
      "outputs": [
        {
          "output_type": "stream",
          "name": "stdout",
          "text": [
            "169/169 [==============================] - 0s 2ms/step\n"
          ]
        }
      ]
    },
    {
      "cell_type": "code",
      "source": [
        "a = plt.axes(aspect='equal')\n",
        "plt.scatter(test_labels, test_predictions)\n",
        "plt.xlabel('True Values [air_pollution_index]')\n",
        "plt.ylabel('Predictions [air_pollution_index]')\n",
        "lims = [0, 100]\n",
        "plt.xlim(lims)\n",
        "plt.ylim(lims)\n",
        "_ = plt.plot(lims, lims)"
      ],
      "metadata": {
        "colab": {
          "base_uri": "https://localhost:8080/",
          "height": 509
        },
        "id": "jhiDe-lru0wd",
        "outputId": "7244722a-abd5-4538-d140-d4d035361eef"
      },
      "execution_count": null,
      "outputs": [
        {
          "output_type": "display_data",
          "data": {
            "text/plain": [
              "<Figure size 800x550 with 1 Axes>"
            ],
            "image/png": "[encoded data removed]"
          },
          "metadata": {}
        }
      ]
    },
    {
      "cell_type": "code",
      "source": [
        "# Error distribution"
      ],
      "metadata": {
        "id": "Kh3pOJnRvBpS"
      },
      "execution_count": null,
      "outputs": []
    },
    {
      "cell_type": "code",
      "source": [
        "error = test_predictions - test_labels"
      ],
      "metadata": {
        "id": "tS1O1ssmvHRu"
      },
      "execution_count": null,
      "outputs": []
    },
    {
      "cell_type": "code",
      "source": [
        "plt.hist(error, bins=25)\n",
        "plt.xlabel(\"Prediction Error [air_pollution_index]\")\n",
        "_ = plt.ylabel(\"Count\")"
      ],
      "metadata": {
        "colab": {
          "base_uri": "https://localhost:8080/",
          "height": 503
        },
        "id": "jjMqNxyOvJKU",
        "outputId": "fc15788c-75d0-43fc-da09-f60cf4d4f380"
      },
      "execution_count": null,
      "outputs": [
        {
          "output_type": "display_data",
          "data": {
            "text/plain": [
              "<Figure size 800x550 with 1 Axes>"
            ],
            "image/png": "[encoded data removed]"
          },
          "metadata": {}
        }
      ]
    },
    {
      "cell_type": "markdown",
      "source": [
        ".1 Increasing the Number of Hidden Layers and Hidden Units"
      ],
      "metadata": {
        "id": "MqijDta4vhgJ"
      }
    },
    {
      "cell_type": "code",
      "source": [
        "model = keras.Sequential([layers.Dense(256, activation='relu', input_shape=[len(train_dataset.keys())]),\n",
        "                          layers.Dense(256, activation='relu'),\n",
        "                          layers.Dense(256, activation='relu'),\n",
        "                          layers.Dense(256, activation='relu'),\n",
        "                          layers.Dense(1)])"
      ],
      "metadata": {
        "id": "7WtOfGn7viPW"
      },
      "execution_count": null,
      "outputs": []
    },
    {
      "cell_type": "code",
      "source": [
        "model.summary()"
      ],
      "metadata": {
        "colab": {
          "base_uri": "https://localhost:8080/"
        },
        "id": "vr1q9Xb_vniX",
        "outputId": "ab406597-bea2-40e1-fb71-89fd7aa51705"
      },
      "execution_count": null,
      "outputs": [
        {
          "output_type": "stream",
          "name": "stdout",
          "text": [
            "Model: \"sequential_7\"\n",
            "_________________________________________________________________\n",
            " Layer (type)                Output Shape              Param #   \n",
            "=================================================================\n",
            " dense_21 (Dense)            (None, 256)               3328      \n",
            "                                                                 \n",
            " dense_22 (Dense)            (None, 256)               65792     \n",
            "                                                                 \n",
            " dense_23 (Dense)            (None, 256)               65792     \n",
            "                                                                 \n",
            " dense_24 (Dense)            (None, 256)               65792     \n",
            "                                                                 \n",
            " dense_25 (Dense)            (None, 1)                 257       \n",
            "                                                                 \n",
            "=================================================================\n",
            "Total params: 200,961\n",
            "Trainable params: 200,961\n",
            "Non-trainable params: 0\n",
            "_________________________________________________________________\n"
          ]
        }
      ]
    },
    {
      "cell_type": "code",
      "source": [
        "# Defining the optimizer with a specific learning rate of 0.001\n",
        "optimizer = tf.keras.optimizers.Adam(learning_rate=0.001)\n",
        "\n",
        "# Compiling the model\n",
        "model.compile(loss='mse', optimizer=optimizer, metrics=['mae', 'mse'])"
      ],
      "metadata": {
        "id": "XBAHNx4-vqJW"
      },
      "execution_count": null,
      "outputs": []
    },
    {
      "cell_type": "code",
      "source": [
        "history_large = model.fit(normed_train_data, train_labels, epochs=100, validation_split=0.2,\n",
        "                          verbose=0, callbacks=[tfdocs.modeling.EpochDots()])"
      ],
      "metadata": {
        "colab": {
          "base_uri": "https://localhost:8080/"
        },
        "id": "MLGUvLmtwAge",
        "outputId": "4c0f1601-4949-4096-9171-bebde0987680"
      },
      "execution_count": null,
      "outputs": [
        {
          "output_type": "stream",
          "name": "stdout",
          "text": [
            "\n",
            "Epoch: 0, loss:8608.7979,  mae:77.6428,  mse:8608.7979,  val_loss:7414.9951,  val_mae:73.8830,  val_mse:7414.9951,  \n",
            "...................................................................................................."
          ]
        }
      ]
    },
    {
      "cell_type": "markdown",
      "source": [
        "Second decent mae for train -test"
      ],
      "metadata": {
        "id": "dG2rdq_OLvYZ"
      }
    },
    {
      "cell_type": "code",
      "source": [
        "hist_large = pd.DataFrame(history_large.history)\n",
        "hist_large['epoch'] = history_large.epoch\n",
        "hist_large.tail()"
      ],
      "metadata": {
        "colab": {
          "base_uri": "https://localhost:8080/",
          "height": 206
        },
        "id": "zPQre_UDxrKS",
        "outputId": "318292c5-81ef-4218-a266-e088692e0c61"
      },
      "execution_count": null,
      "outputs": [
        {
          "output_type": "execute_result",
          "data": {
            "text/plain": [
              "           loss        mae          mse      val_loss    val_mae  \\\n",
              "95  3170.684814  44.572315  3170.684814  10951.386719  86.198593   \n",
              "96  3113.962646  44.104652  3113.962646  11216.415039  87.005974   \n",
              "97  3039.036621  43.282959  3039.036621  11106.515625  86.694267   \n",
              "98  2986.798584  43.100147  2986.798584  11006.254883  86.265083   \n",
              "99  2885.509033  42.277988  2885.509033  11005.153320  86.027702   \n",
              "\n",
              "         val_mse  epoch  \n",
              "95  10951.386719     95  \n",
              "96  11216.415039     96  \n",
              "97  11106.515625     97  \n",
              "98  11006.254883     98  \n",
              "99  11005.153320     99  "
            ],
            "text/html": [
              "\n",
              "  <div id=\"df-6ad30266-c5a6-41ef-9523-5c0dc28a364e\">\n",
              "    <div class=\"colab-df-container\">\n",
              "      <div>\n",
              "<style scoped>\n",
              "    .dataframe tbody tr th:only-of-type {\n",
              "        vertical-align: middle;\n",
              "    }\n",
              "\n",
              "    .dataframe tbody tr th {\n",
              "        vertical-align: top;\n",
              "    }\n",
              "\n",
              "    .dataframe thead th {\n",
              "        text-align: right;\n",
              "    }\n",
              "</style>\n",
              "<table border=\"1\" class=\"dataframe\">\n",
              "  <thead>\n",
              "    <tr style=\"text-align: right;\">\n",
              "      <th></th>\n",
              "      <th>loss</th>\n",
              "      <th>mae</th>\n",
              "      <th>mse</th>\n",
              "      <th>val_loss</th>\n",
              "      <th>val_mae</th>\n",
              "      <th>val_mse</th>\n",
              "      <th>epoch</th>\n",
              "    </tr>\n",
              "  </thead>\n",
              "  <tbody>\n",
              "    <tr>\n",
              "      <th>95</th>\n",
              "      <td>3170.684814</td>\n",
              "      <td>44.572315</td>\n",
              "      <td>3170.684814</td>\n",
              "      <td>10951.386719</td>\n",
              "      <td>86.198593</td>\n",
              "      <td>10951.386719</td>\n",
              "      <td>95</td>\n",
              "    </tr>\n",
              "    <tr>\n",
              "      <th>96</th>\n",
              "      <td>3113.962646</td>\n",
              "      <td>44.104652</td>\n",
              "      <td>3113.962646</td>\n",
              "      <td>11216.415039</td>\n",
              "      <td>87.005974</td>\n",
              "      <td>11216.415039</td>\n",
              "      <td>96</td>\n",
              "    </tr>\n",
              "    <tr>\n",
              "      <th>97</th>\n",
              "      <td>3039.036621</td>\n",
              "      <td>43.282959</td>\n",
              "      <td>3039.036621</td>\n",
              "      <td>11106.515625</td>\n",
              "      <td>86.694267</td>\n",
              "      <td>11106.515625</td>\n",
              "      <td>97</td>\n",
              "    </tr>\n",
              "    <tr>\n",
              "      <th>98</th>\n",
              "      <td>2986.798584</td>\n",
              "      <td>43.100147</td>\n",
              "      <td>2986.798584</td>\n",
              "      <td>11006.254883</td>\n",
              "      <td>86.265083</td>\n",
              "      <td>11006.254883</td>\n",
              "      <td>98</td>\n",
              "    </tr>\n",
              "    <tr>\n",
              "      <th>99</th>\n",
              "      <td>2885.509033</td>\n",
              "      <td>42.277988</td>\n",
              "      <td>2885.509033</td>\n",
              "      <td>11005.153320</td>\n",
              "      <td>86.027702</td>\n",
              "      <td>11005.153320</td>\n",
              "      <td>99</td>\n",
              "    </tr>\n",
              "  </tbody>\n",
              "</table>\n",
              "</div>\n",
              "      <button class=\"colab-df-convert\" onclick=\"convertToInteractive('df-6ad30266-c5a6-41ef-9523-5c0dc28a364e')\"\n",
              "              title=\"Convert this dataframe to an interactive table.\"\n",
              "              style=\"display:none;\">\n",
              "        \n",
              "  <svg xmlns=\"http://www.w3.org/2000/svg\" height=\"24px\"viewBox=\"0 0 24 24\"\n",
              "       width=\"24px\">\n",
              "    <path d=\"M0 0h24v24H0V0z\" fill=\"none\"/>\n",
              "    <path d=\"M18.56 5.44l.94 2.06.94-2.06 2.06-.94-2.06-.94-.94-2.06-.94 2.06-2.06.94zm-11 1L8.5 8.5l.94-2.06 2.06-.94-2.06-.94L8.5 2.5l-.94 2.06-2.06.94zm10 10l.94 2.06.94-2.06 2.06-.94-2.06-.94-.94-2.06-.94 2.06-2.06.94z\"/><path d=\"M17.41 7.96l-1.37-1.37c-.4-.4-.92-.59-1.43-.59-.52 0-1.04.2-1.43.59L10.3 9.45l-7.72 7.72c-.78.78-.78 2.05 0 2.83L4 21.41c.39.39.9.59 1.41.59.51 0 1.02-.2 1.41-.59l7.78-7.78 2.81-2.81c.8-.78.8-2.07 0-2.86zM5.41 20L4 18.59l7.72-7.72 1.47 1.35L5.41 20z\"/>\n",
              "  </svg>\n",
              "      </button>\n",
              "      \n",
              "  <style>\n",
              "    .colab-df-container {\n",
              "      display:flex;\n",
              "      flex-wrap:wrap;\n",
              "      gap: 12px;\n",
              "    }\n",
              "\n",
              "    .colab-df-convert {\n",
              "      background-color: #E8F0FE;\n",
              "      border: none;\n",
              "      border-radius: 50%;\n",
              "      cursor: pointer;\n",
              "      display: none;\n",
              "      fill: #1967D2;\n",
              "      height: 32px;\n",
              "      padding: 0 0 0 0;\n",
              "      width: 32px;\n",
              "    }\n",
              "\n",
              "    .colab-df-convert:hover {\n",
              "      background-color: #E2EBFA;\n",
              "      box-shadow: 0px 1px 2px rgba(60, 64, 67, 0.3), 0px 1px 3px 1px rgba(60, 64, 67, 0.15);\n",
              "      fill: #174EA6;\n",
              "    }\n",
              "\n",
              "    [theme=dark] .colab-df-convert {\n",
              "      background-color: #3B4455;\n",
              "      fill: #D2E3FC;\n",
              "    }\n",
              "\n",
              "    [theme=dark] .colab-df-convert:hover {\n",
              "      background-color: #434B5C;\n",
              "      box-shadow: 0px 1px 3px 1px rgba(0, 0, 0, 0.15);\n",
              "      filter: drop-shadow(0px 1px 2px rgba(0, 0, 0, 0.3));\n",
              "      fill: #FFFFFF;\n",
              "    }\n",
              "  </style>\n",
              "\n",
              "      <script>\n",
              "        const buttonEl =\n",
              "          document.querySelector('#df-6ad30266-c5a6-41ef-9523-5c0dc28a364e button.colab-df-convert');\n",
              "        buttonEl.style.display =\n",
              "          google.colab.kernel.accessAllowed ? 'block' : 'none';\n",
              "\n",
              "        async function convertToInteractive(key) {\n",
              "          const element = document.querySelector('#df-6ad30266-c5a6-41ef-9523-5c0dc28a364e');\n",
              "          const dataTable =\n",
              "            await google.colab.kernel.invokeFunction('convertToInteractive',\n",
              "                                                     [key], {});\n",
              "          if (!dataTable) return;\n",
              "\n",
              "          const docLinkHtml = 'Like what you see? Visit the ' +\n",
              "            '<a target=\"_blank\" href=https://colab.research.google.com/notebooks/data_table.ipynb>data table notebook</a>'\n",
              "            + ' to learn more about interactive tables.';\n",
              "          element.innerHTML = '';\n",
              "          dataTable['output_type'] = 'display_data';\n",
              "          await google.colab.output.renderOutput(dataTable, element);\n",
              "          const docLink = document.createElement('div');\n",
              "          docLink.innerHTML = docLinkHtml;\n",
              "          element.appendChild(docLink);\n",
              "        }\n",
              "      </script>\n",
              "    </div>\n",
              "  </div>\n",
              "  "
            ]
          },
          "metadata": {},
          "execution_count": 124
        }
      ]
    },
    {
      "cell_type": "code",
      "source": [
        "plotter.plot({'Large Model': history_large}, metric=\"mae\")\n",
        "\n",
        "plt.ylabel('MAE [air_pollution_index]')"
      ],
      "metadata": {
        "colab": {
          "base_uri": "https://localhost:8080/",
          "height": 521
        },
        "id": "cvEyt65rx0jb",
        "outputId": "5e8bf85a-a664-42b7-99a9-3275c83da3d1"
      },
      "execution_count": null,
      "outputs": [
        {
          "output_type": "execute_result",
          "data": {
            "text/plain": [
              "Text(0, 0.5, 'MAE [air_pollution_index]')"
            ]
          },
          "metadata": {},
          "execution_count": 126
        },
        {
          "output_type": "display_data",
          "data": {
            "text/plain": [
              "<Figure size 800x550 with 1 Axes>"
            ],
            "image/png": "[encoded data removed]"
          },
          "metadata": {}
        }
      ]
    },
    {
      "cell_type": "code",
      "source": [
        "loss, mae, mse = model.evaluate(normed_test_data, test_labels, verbose=2)\n",
        "\n",
        "print(\"Testing set Mean Abs Error: {:5.2f} air_pollution_index\".format(mae))"
      ],
      "metadata": {
        "colab": {
          "base_uri": "https://localhost:8080/"
        },
        "id": "0t4_ywk9yCNl",
        "outputId": "af3edede-26b6-4138-be6b-390bedb4277c"
      },
      "execution_count": null,
      "outputs": [
        {
          "output_type": "stream",
          "name": "stdout",
          "text": [
            "169/169 - 1s - loss: 38057.1094 - mae: 86.2740 - mse: 38057.1094 - 611ms/epoch - 4ms/step\n",
            "Testing set Mean Abs Error: 86.27 air_pollution_index\n"
          ]
        }
      ]
    },
    {
      "cell_type": "code",
      "source": [
        "# above model overfits hence regularize weights"
      ],
      "metadata": {
        "id": "Q9eucj_FyRjo"
      },
      "execution_count": null,
      "outputs": []
    },
    {
      "cell_type": "code",
      "source": [
        "from tensorflow.keras import regularizers"
      ],
      "metadata": {
        "id": "7deaSY_WyWa6"
      },
      "execution_count": null,
      "outputs": []
    },
    {
      "cell_type": "code",
      "source": [
        "model = keras.Sequential([layers.Dense(256, activation='relu', kernel_regularizer=regularizers.l2(0.001), input_shape=[len(train_dataset.keys())]),\n",
        "                          layers.Dense(256, activation='relu', kernel_regularizer=regularizers.l2(0.001)),\n",
        "                          layers.Dense(256, activation='relu', kernel_regularizer=regularizers.l2(0.001)),\n",
        "                          layers.Dense(256, activation='relu', kernel_regularizer=regularizers.l2(0.001)),\n",
        "                          layers.Dense(1)])"
      ],
      "metadata": {
        "id": "NLy8ipoQyZti"
      },
      "execution_count": null,
      "outputs": []
    },
    {
      "cell_type": "code",
      "source": [
        "model.summary()"
      ],
      "metadata": {
        "colab": {
          "base_uri": "https://localhost:8080/"
        },
        "id": "cFx-VOvsyeI_",
        "outputId": "b7ae7c02-1183-4565-e6c7-49b018ab22b3"
      },
      "execution_count": null,
      "outputs": [
        {
          "output_type": "stream",
          "name": "stdout",
          "text": [
            "Model: \"sequential_2\"\n",
            "_________________________________________________________________\n",
            " Layer (type)                Output Shape              Param #   \n",
            "=================================================================\n",
            " dense_6 (Dense)             (None, 256)               3328      \n",
            "                                                                 \n",
            " dense_7 (Dense)             (None, 256)               65792     \n",
            "                                                                 \n",
            " dense_8 (Dense)             (None, 256)               65792     \n",
            "                                                                 \n",
            " dense_9 (Dense)             (None, 256)               65792     \n",
            "                                                                 \n",
            " dense_10 (Dense)            (None, 1)                 257       \n",
            "                                                                 \n",
            "=================================================================\n",
            "Total params: 200,961\n",
            "Trainable params: 200,961\n",
            "Non-trainable params: 0\n",
            "_________________________________________________________________\n"
          ]
        }
      ]
    },
    {
      "cell_type": "code",
      "source": [
        "# Defining the optimizer with a specific learning rate of 0.001\n",
        "optimizer = tf.keras.optimizers.Adam(learning_rate=0.001)\n",
        "\n",
        "# Compiling the model\n",
        "model.compile(loss='mse', optimizer=optimizer, metrics=['mae', 'mse'])"
      ],
      "metadata": {
        "id": "nkomgia4yibz"
      },
      "execution_count": null,
      "outputs": []
    },
    {
      "cell_type": "code",
      "source": [
        "history_l2 = model.fit(normed_train_data, train_labels, epochs=100, validation_split=0.2,\n",
        "                          verbose=0, callbacks=[tfdocs.modeling.EpochDots()])"
      ],
      "metadata": {
        "colab": {
          "base_uri": "https://localhost:8080/"
        },
        "id": "FKNA38Tnys1-",
        "outputId": "e94c1d0c-f59f-4bbb-9cbf-ce96040c3a01"
      },
      "execution_count": null,
      "outputs": [
        {
          "output_type": "stream",
          "name": "stdout",
          "text": [
            "\n",
            "Epoch: 0, loss:8621.4062,  mae:77.4821,  mse:8620.5957,  val_loss:7392.9619,  val_mae:73.7265,  val_mse:7392.1821,  \n",
            "...................................................................................................."
          ]
        }
      ]
    },
    {
      "cell_type": "markdown",
      "source": [
        "Decent difference in train - test mae"
      ],
      "metadata": {
        "id": "rEQp2Yz7LVca"
      }
    },
    {
      "cell_type": "code",
      "source": [
        "hist_l2 = pd.DataFrame(history_l2.history)\n",
        "hist_l2['epoch'] = history_l2.epoch\n",
        "hist_l2.tail()"
      ],
      "metadata": {
        "colab": {
          "base_uri": "https://localhost:8080/",
          "height": 206
        },
        "id": "DHcjk_e-0wBC",
        "outputId": "af1d2921-f0d7-4538-9793-265ec9f356ba"
      },
      "execution_count": null,
      "outputs": [
        {
          "output_type": "execute_result",
          "data": {
            "text/plain": [
              "           loss        mae          mse     val_loss    val_mae      val_mse  \\\n",
              "95  4304.800293  53.318703  4298.804688  9790.844727  82.106667  9784.777344   \n",
              "96  4241.629395  53.015736  4235.471191  9722.562500  82.000801  9716.332031   \n",
              "97  4195.716797  52.636612  4189.396484  9690.319336  82.029678  9683.924805   \n",
              "98  4145.652344  52.122719  4139.171875  9924.835938  82.811592  9918.291992   \n",
              "99  4110.437012  51.973118  4103.806152  9776.554688  82.300514  9769.847656   \n",
              "\n",
              "    epoch  \n",
              "95     95  \n",
              "96     96  \n",
              "97     97  \n",
              "98     98  \n",
              "99     99  "
            ],
            "text/html": [
              "\n",
              "  <div id=\"df-d0908a68-6ea5-423d-ab5a-e0d3e9015bf8\">\n",
              "    <div class=\"colab-df-container\">\n",
              "      <div>\n",
              "<style scoped>\n",
              "    .dataframe tbody tr th:only-of-type {\n",
              "        vertical-align: middle;\n",
              "    }\n",
              "\n",
              "    .dataframe tbody tr th {\n",
              "        vertical-align: top;\n",
              "    }\n",
              "\n",
              "    .dataframe thead th {\n",
              "        text-align: right;\n",
              "    }\n",
              "</style>\n",
              "<table border=\"1\" class=\"dataframe\">\n",
              "  <thead>\n",
              "    <tr style=\"text-align: right;\">\n",
              "      <th></th>\n",
              "      <th>loss</th>\n",
              "      <th>mae</th>\n",
              "      <th>mse</th>\n",
              "      <th>val_loss</th>\n",
              "      <th>val_mae</th>\n",
              "      <th>val_mse</th>\n",
              "      <th>epoch</th>\n",
              "    </tr>\n",
              "  </thead>\n",
              "  <tbody>\n",
              "    <tr>\n",
              "      <th>95</th>\n",
              "      <td>4304.800293</td>\n",
              "      <td>53.318703</td>\n",
              "      <td>4298.804688</td>\n",
              "      <td>9790.844727</td>\n",
              "      <td>82.106667</td>\n",
              "      <td>9784.777344</td>\n",
              "      <td>95</td>\n",
              "    </tr>\n",
              "    <tr>\n",
              "      <th>96</th>\n",
              "      <td>4241.629395</td>\n",
              "      <td>53.015736</td>\n",
              "      <td>4235.471191</td>\n",
              "      <td>9722.562500</td>\n",
              "      <td>82.000801</td>\n",
              "      <td>9716.332031</td>\n",
              "      <td>96</td>\n",
              "    </tr>\n",
              "    <tr>\n",
              "      <th>97</th>\n",
              "      <td>4195.716797</td>\n",
              "      <td>52.636612</td>\n",
              "      <td>4189.396484</td>\n",
              "      <td>9690.319336</td>\n",
              "      <td>82.029678</td>\n",
              "      <td>9683.924805</td>\n",
              "      <td>97</td>\n",
              "    </tr>\n",
              "    <tr>\n",
              "      <th>98</th>\n",
              "      <td>4145.652344</td>\n",
              "      <td>52.122719</td>\n",
              "      <td>4139.171875</td>\n",
              "      <td>9924.835938</td>\n",
              "      <td>82.811592</td>\n",
              "      <td>9918.291992</td>\n",
              "      <td>98</td>\n",
              "    </tr>\n",
              "    <tr>\n",
              "      <th>99</th>\n",
              "      <td>4110.437012</td>\n",
              "      <td>51.973118</td>\n",
              "      <td>4103.806152</td>\n",
              "      <td>9776.554688</td>\n",
              "      <td>82.300514</td>\n",
              "      <td>9769.847656</td>\n",
              "      <td>99</td>\n",
              "    </tr>\n",
              "  </tbody>\n",
              "</table>\n",
              "</div>\n",
              "      <button class=\"colab-df-convert\" onclick=\"convertToInteractive('df-d0908a68-6ea5-423d-ab5a-e0d3e9015bf8')\"\n",
              "              title=\"Convert this dataframe to an interactive table.\"\n",
              "              style=\"display:none;\">\n",
              "        \n",
              "  <svg xmlns=\"http://www.w3.org/2000/svg\" height=\"24px\"viewBox=\"0 0 24 24\"\n",
              "       width=\"24px\">\n",
              "    <path d=\"M0 0h24v24H0V0z\" fill=\"none\"/>\n",
              "    <path d=\"M18.56 5.44l.94 2.06.94-2.06 2.06-.94-2.06-.94-.94-2.06-.94 2.06-2.06.94zm-11 1L8.5 8.5l.94-2.06 2.06-.94-2.06-.94L8.5 2.5l-.94 2.06-2.06.94zm10 10l.94 2.06.94-2.06 2.06-.94-2.06-.94-.94-2.06-.94 2.06-2.06.94z\"/><path d=\"M17.41 7.96l-1.37-1.37c-.4-.4-.92-.59-1.43-.59-.52 0-1.04.2-1.43.59L10.3 9.45l-7.72 7.72c-.78.78-.78 2.05 0 2.83L4 21.41c.39.39.9.59 1.41.59.51 0 1.02-.2 1.41-.59l7.78-7.78 2.81-2.81c.8-.78.8-2.07 0-2.86zM5.41 20L4 18.59l7.72-7.72 1.47 1.35L5.41 20z\"/>\n",
              "  </svg>\n",
              "      </button>\n",
              "      \n",
              "  <style>\n",
              "    .colab-df-container {\n",
              "      display:flex;\n",
              "      flex-wrap:wrap;\n",
              "      gap: 12px;\n",
              "    }\n",
              "\n",
              "    .colab-df-convert {\n",
              "      background-color: #E8F0FE;\n",
              "      border: none;\n",
              "      border-radius: 50%;\n",
              "      cursor: pointer;\n",
              "      display: none;\n",
              "      fill: #1967D2;\n",
              "      height: 32px;\n",
              "      padding: 0 0 0 0;\n",
              "      width: 32px;\n",
              "    }\n",
              "\n",
              "    .colab-df-convert:hover {\n",
              "      background-color: #E2EBFA;\n",
              "      box-shadow: 0px 1px 2px rgba(60, 64, 67, 0.3), 0px 1px 3px 1px rgba(60, 64, 67, 0.15);\n",
              "      fill: #174EA6;\n",
              "    }\n",
              "\n",
              "    [theme=dark] .colab-df-convert {\n",
              "      background-color: #3B4455;\n",
              "      fill: #D2E3FC;\n",
              "    }\n",
              "\n",
              "    [theme=dark] .colab-df-convert:hover {\n",
              "      background-color: #434B5C;\n",
              "      box-shadow: 0px 1px 3px 1px rgba(0, 0, 0, 0.15);\n",
              "      filter: drop-shadow(0px 1px 2px rgba(0, 0, 0, 0.3));\n",
              "      fill: #FFFFFF;\n",
              "    }\n",
              "  </style>\n",
              "\n",
              "      <script>\n",
              "        const buttonEl =\n",
              "          document.querySelector('#df-d0908a68-6ea5-423d-ab5a-e0d3e9015bf8 button.colab-df-convert');\n",
              "        buttonEl.style.display =\n",
              "          google.colab.kernel.accessAllowed ? 'block' : 'none';\n",
              "\n",
              "        async function convertToInteractive(key) {\n",
              "          const element = document.querySelector('#df-d0908a68-6ea5-423d-ab5a-e0d3e9015bf8');\n",
              "          const dataTable =\n",
              "            await google.colab.kernel.invokeFunction('convertToInteractive',\n",
              "                                                     [key], {});\n",
              "          if (!dataTable) return;\n",
              "\n",
              "          const docLinkHtml = 'Like what you see? Visit the ' +\n",
              "            '<a target=\"_blank\" href=https://colab.research.google.com/notebooks/data_table.ipynb>data table notebook</a>'\n",
              "            + ' to learn more about interactive tables.';\n",
              "          element.innerHTML = '';\n",
              "          dataTable['output_type'] = 'display_data';\n",
              "          await google.colab.output.renderOutput(dataTable, element);\n",
              "          const docLink = document.createElement('div');\n",
              "          docLink.innerHTML = docLinkHtml;\n",
              "          element.appendChild(docLink);\n",
              "        }\n",
              "      </script>\n",
              "    </div>\n",
              "  </div>\n",
              "  "
            ]
          },
          "metadata": {},
          "execution_count": 134
        }
      ]
    },
    {
      "cell_type": "code",
      "source": [
        "plotter.plot({'L2 Regularization Model': history_l2}, metric=\"mae\")\n",
        "plt.ylabel('MAE [index]')"
      ],
      "metadata": {
        "colab": {
          "base_uri": "https://localhost:8080/",
          "height": 521
        },
        "id": "Q1COnHTG00XG",
        "outputId": "83c64dcb-cae8-406c-821b-d904649567d4"
      },
      "execution_count": null,
      "outputs": [
        {
          "output_type": "execute_result",
          "data": {
            "text/plain": [
              "Text(0, 0.5, 'MAE [index]')"
            ]
          },
          "metadata": {},
          "execution_count": 136
        },
        {
          "output_type": "display_data",
          "data": {
            "text/plain": [
              "<Figure size 800x550 with 1 Axes>"
            ],
            "image/png": "[encoded data removed]"
          },
          "metadata": {}
        }
      ]
    },
    {
      "cell_type": "code",
      "source": [
        "# Still high variance."
      ],
      "metadata": {
        "id": "8q41ncPI0-E6"
      },
      "execution_count": null,
      "outputs": []
    },
    {
      "cell_type": "code",
      "source": [
        "loss, mae, mse = model.evaluate(normed_test_data, test_labels, verbose=2)\n",
        "\n",
        "print(\"Testing set Mean Abs Error: {:5.2f} index\".format(mae))"
      ],
      "metadata": {
        "colab": {
          "base_uri": "https://localhost:8080/"
        },
        "id": "vtZiu0Ty1HgB",
        "outputId": "0f98179a-00eb-487d-d30a-711c9485273f"
      },
      "execution_count": null,
      "outputs": [
        {
          "output_type": "stream",
          "name": "stdout",
          "text": [
            "169/169 - 1s - loss: 35815.8242 - mae: 84.5326 - mse: 35809.1133 - 544ms/epoch - 3ms/step\n",
            "Testing set Mean Abs Error: 84.53 index\n"
          ]
        }
      ]
    },
    {
      "cell_type": "code",
      "source": [
        "# Dropout"
      ],
      "metadata": {
        "id": "bwjqnCiw1L-K"
      },
      "execution_count": null,
      "outputs": []
    },
    {
      "cell_type": "code",
      "source": [
        "model = keras.Sequential([layers.Dense(256, activation='relu', input_shape=[len(train_dataset.keys())]),\n",
        "                          layers.Dropout(0.2),\n",
        "                          layers.Dense(256, activation='relu'),\n",
        "                          layers.Dropout(0.2),\n",
        "                          layers.Dense(256, activation='relu'),\n",
        "                          layers.Dropout(0.2),\n",
        "                          layers.Dense(256, activation='relu'),\n",
        "                          layers.Dropout(0.2),\n",
        "                          layers.Dense(1)])"
      ],
      "metadata": {
        "id": "ibpTuulH1URO"
      },
      "execution_count": null,
      "outputs": []
    },
    {
      "cell_type": "code",
      "source": [
        "model.summary()"
      ],
      "metadata": {
        "colab": {
          "base_uri": "https://localhost:8080/"
        },
        "id": "72HKbym71W-O",
        "outputId": "034cd2be-0717-4531-ad32-90ba0100f114"
      },
      "execution_count": null,
      "outputs": [
        {
          "output_type": "stream",
          "name": "stdout",
          "text": [
            "Model: \"sequential_9\"\n",
            "_________________________________________________________________\n",
            " Layer (type)                Output Shape              Param #   \n",
            "=================================================================\n",
            " dense_31 (Dense)            (None, 256)               3328      \n",
            "                                                                 \n",
            " dropout (Dropout)           (None, 256)               0         \n",
            "                                                                 \n",
            " dense_32 (Dense)            (None, 256)               65792     \n",
            "                                                                 \n",
            " dropout_1 (Dropout)         (None, 256)               0         \n",
            "                                                                 \n",
            " dense_33 (Dense)            (None, 256)               65792     \n",
            "                                                                 \n",
            " dropout_2 (Dropout)         (None, 256)               0         \n",
            "                                                                 \n",
            " dense_34 (Dense)            (None, 256)               65792     \n",
            "                                                                 \n",
            " dropout_3 (Dropout)         (None, 256)               0         \n",
            "                                                                 \n",
            " dense_35 (Dense)            (None, 1)                 257       \n",
            "                                                                 \n",
            "=================================================================\n",
            "Total params: 200,961\n",
            "Trainable params: 200,961\n",
            "Non-trainable params: 0\n",
            "_________________________________________________________________\n"
          ]
        }
      ]
    },
    {
      "cell_type": "code",
      "source": [
        "# Defining the optimizer with a specific learning rate of 0.001\n",
        "optimizer = tf.keras.optimizers.Adam(learning_rate=0.001)\n",
        "\n",
        "# Compiling the model\n",
        "model.compile(loss='mse', optimizer=optimizer, metrics=['mae', 'mse'])"
      ],
      "metadata": {
        "id": "JXCiuGth1ZeM"
      },
      "execution_count": null,
      "outputs": []
    },
    {
      "cell_type": "code",
      "source": [
        "history_dropout = model.fit(normed_train_data, train_labels, epochs=100, validation_split=0.2,\n",
        "                          verbose=0, callbacks=[tfdocs.modeling.EpochDots()])"
      ],
      "metadata": {
        "colab": {
          "base_uri": "https://localhost:8080/"
        },
        "id": "M-TYyfdkyPau",
        "outputId": "d319e147-89f2-45ed-f019-587ce6310e81"
      },
      "execution_count": null,
      "outputs": [
        {
          "output_type": "stream",
          "name": "stdout",
          "text": [
            "\n",
            "Epoch: 0, loss:8928.8438,  mae:78.2087,  mse:8928.8438,  val_loss:7555.9155,  val_mae:73.8844,  val_mse:7555.9155,  \n",
            "...................................................................................................."
          ]
        }
      ]
    },
    {
      "cell_type": "code",
      "source": [
        "hist_dropout = pd.DataFrame(history_dropout.history)\n",
        "hist_dropout['epoch'] = history_dropout.epoch\n",
        "hist_dropout.tail()"
      ],
      "metadata": {
        "colab": {
          "base_uri": "https://localhost:8080/",
          "height": 206
        },
        "id": "mIL5LfUv4Aoe",
        "outputId": "8b503f99-e077-4ee4-a562-970da8a901c0"
      },
      "execution_count": null,
      "outputs": [
        {
          "output_type": "execute_result",
          "data": {
            "text/plain": [
              "           loss        mae          mse     val_loss    val_mae      val_mse  \\\n",
              "95  6134.017578  65.999229  6134.017578  7698.330566  74.871506  7698.330566   \n",
              "96  6111.661621  65.868317  6111.661621  7760.753906  75.200676  7760.753906   \n",
              "97  6123.520508  66.045288  6123.520508  7720.653809  74.864151  7720.653809   \n",
              "98  6118.729980  65.889091  6118.729980  7828.379395  75.401451  7828.379395   \n",
              "99  6112.674805  65.871658  6112.674805  7768.866699  75.046318  7768.866699   \n",
              "\n",
              "    epoch  \n",
              "95     95  \n",
              "96     96  \n",
              "97     97  \n",
              "98     98  \n",
              "99     99  "
            ],
            "text/html": [
              "\n",
              "  <div id=\"df-036d4b3a-d998-40cb-bce4-88682cebfd16\">\n",
              "    <div class=\"colab-df-container\">\n",
              "      <div>\n",
              "<style scoped>\n",
              "    .dataframe tbody tr th:only-of-type {\n",
              "        vertical-align: middle;\n",
              "    }\n",
              "\n",
              "    .dataframe tbody tr th {\n",
              "        vertical-align: top;\n",
              "    }\n",
              "\n",
              "    .dataframe thead th {\n",
              "        text-align: right;\n",
              "    }\n",
              "</style>\n",
              "<table border=\"1\" class=\"dataframe\">\n",
              "  <thead>\n",
              "    <tr style=\"text-align: right;\">\n",
              "      <th></th>\n",
              "      <th>loss</th>\n",
              "      <th>mae</th>\n",
              "      <th>mse</th>\n",
              "      <th>val_loss</th>\n",
              "      <th>val_mae</th>\n",
              "      <th>val_mse</th>\n",
              "      <th>epoch</th>\n",
              "    </tr>\n",
              "  </thead>\n",
              "  <tbody>\n",
              "    <tr>\n",
              "      <th>95</th>\n",
              "      <td>6134.017578</td>\n",
              "      <td>65.999229</td>\n",
              "      <td>6134.017578</td>\n",
              "      <td>7698.330566</td>\n",
              "      <td>74.871506</td>\n",
              "      <td>7698.330566</td>\n",
              "      <td>95</td>\n",
              "    </tr>\n",
              "    <tr>\n",
              "      <th>96</th>\n",
              "      <td>6111.661621</td>\n",
              "      <td>65.868317</td>\n",
              "      <td>6111.661621</td>\n",
              "      <td>7760.753906</td>\n",
              "      <td>75.200676</td>\n",
              "      <td>7760.753906</td>\n",
              "      <td>96</td>\n",
              "    </tr>\n",
              "    <tr>\n",
              "      <th>97</th>\n",
              "      <td>6123.520508</td>\n",
              "      <td>66.045288</td>\n",
              "      <td>6123.520508</td>\n",
              "      <td>7720.653809</td>\n",
              "      <td>74.864151</td>\n",
              "      <td>7720.653809</td>\n",
              "      <td>97</td>\n",
              "    </tr>\n",
              "    <tr>\n",
              "      <th>98</th>\n",
              "      <td>6118.729980</td>\n",
              "      <td>65.889091</td>\n",
              "      <td>6118.729980</td>\n",
              "      <td>7828.379395</td>\n",
              "      <td>75.401451</td>\n",
              "      <td>7828.379395</td>\n",
              "      <td>98</td>\n",
              "    </tr>\n",
              "    <tr>\n",
              "      <th>99</th>\n",
              "      <td>6112.674805</td>\n",
              "      <td>65.871658</td>\n",
              "      <td>6112.674805</td>\n",
              "      <td>7768.866699</td>\n",
              "      <td>75.046318</td>\n",
              "      <td>7768.866699</td>\n",
              "      <td>99</td>\n",
              "    </tr>\n",
              "  </tbody>\n",
              "</table>\n",
              "</div>\n",
              "      <button class=\"colab-df-convert\" onclick=\"convertToInteractive('df-036d4b3a-d998-40cb-bce4-88682cebfd16')\"\n",
              "              title=\"Convert this dataframe to an interactive table.\"\n",
              "              style=\"display:none;\">\n",
              "        \n",
              "  <svg xmlns=\"http://www.w3.org/2000/svg\" height=\"24px\"viewBox=\"0 0 24 24\"\n",
              "       width=\"24px\">\n",
              "    <path d=\"M0 0h24v24H0V0z\" fill=\"none\"/>\n",
              "    <path d=\"M18.56 5.44l.94 2.06.94-2.06 2.06-.94-2.06-.94-.94-2.06-.94 2.06-2.06.94zm-11 1L8.5 8.5l.94-2.06 2.06-.94-2.06-.94L8.5 2.5l-.94 2.06-2.06.94zm10 10l.94 2.06.94-2.06 2.06-.94-2.06-.94-.94-2.06-.94 2.06-2.06.94z\"/><path d=\"M17.41 7.96l-1.37-1.37c-.4-.4-.92-.59-1.43-.59-.52 0-1.04.2-1.43.59L10.3 9.45l-7.72 7.72c-.78.78-.78 2.05 0 2.83L4 21.41c.39.39.9.59 1.41.59.51 0 1.02-.2 1.41-.59l7.78-7.78 2.81-2.81c.8-.78.8-2.07 0-2.86zM5.41 20L4 18.59l7.72-7.72 1.47 1.35L5.41 20z\"/>\n",
              "  </svg>\n",
              "      </button>\n",
              "      \n",
              "  <style>\n",
              "    .colab-df-container {\n",
              "      display:flex;\n",
              "      flex-wrap:wrap;\n",
              "      gap: 12px;\n",
              "    }\n",
              "\n",
              "    .colab-df-convert {\n",
              "      background-color: #E8F0FE;\n",
              "      border: none;\n",
              "      border-radius: 50%;\n",
              "      cursor: pointer;\n",
              "      display: none;\n",
              "      fill: #1967D2;\n",
              "      height: 32px;\n",
              "      padding: 0 0 0 0;\n",
              "      width: 32px;\n",
              "    }\n",
              "\n",
              "    .colab-df-convert:hover {\n",
              "      background-color: #E2EBFA;\n",
              "      box-shadow: 0px 1px 2px rgba(60, 64, 67, 0.3), 0px 1px 3px 1px rgba(60, 64, 67, 0.15);\n",
              "      fill: #174EA6;\n",
              "    }\n",
              "\n",
              "    [theme=dark] .colab-df-convert {\n",
              "      background-color: #3B4455;\n",
              "      fill: #D2E3FC;\n",
              "    }\n",
              "\n",
              "    [theme=dark] .colab-df-convert:hover {\n",
              "      background-color: #434B5C;\n",
              "      box-shadow: 0px 1px 3px 1px rgba(0, 0, 0, 0.15);\n",
              "      filter: drop-shadow(0px 1px 2px rgba(0, 0, 0, 0.3));\n",
              "      fill: #FFFFFF;\n",
              "    }\n",
              "  </style>\n",
              "\n",
              "      <script>\n",
              "        const buttonEl =\n",
              "          document.querySelector('#df-036d4b3a-d998-40cb-bce4-88682cebfd16 button.colab-df-convert');\n",
              "        buttonEl.style.display =\n",
              "          google.colab.kernel.accessAllowed ? 'block' : 'none';\n",
              "\n",
              "        async function convertToInteractive(key) {\n",
              "          const element = document.querySelector('#df-036d4b3a-d998-40cb-bce4-88682cebfd16');\n",
              "          const dataTable =\n",
              "            await google.colab.kernel.invokeFunction('convertToInteractive',\n",
              "                                                     [key], {});\n",
              "          if (!dataTable) return;\n",
              "\n",
              "          const docLinkHtml = 'Like what you see? Visit the ' +\n",
              "            '<a target=\"_blank\" href=https://colab.research.google.com/notebooks/data_table.ipynb>data table notebook</a>'\n",
              "            + ' to learn more about interactive tables.';\n",
              "          element.innerHTML = '';\n",
              "          dataTable['output_type'] = 'display_data';\n",
              "          await google.colab.output.renderOutput(dataTable, element);\n",
              "          const docLink = document.createElement('div');\n",
              "          docLink.innerHTML = docLinkHtml;\n",
              "          element.appendChild(docLink);\n",
              "        }\n",
              "      </script>\n",
              "    </div>\n",
              "  </div>\n",
              "  "
            ]
          },
          "metadata": {},
          "execution_count": 142
        }
      ]
    },
    {
      "cell_type": "code",
      "source": [
        "plotter.plot({'Dropout Model': history_dropout}, metric=\"mae\")\n",
        "plt.ylabel('MAE [index]')"
      ],
      "metadata": {
        "colab": {
          "base_uri": "https://localhost:8080/",
          "height": 521
        },
        "id": "BlFIFYZF4Jsq",
        "outputId": "94e9ea7a-c738-47dd-b6a4-413782602e4e"
      },
      "execution_count": null,
      "outputs": [
        {
          "output_type": "execute_result",
          "data": {
            "text/plain": [
              "Text(0, 0.5, 'MAE [index]')"
            ]
          },
          "metadata": {},
          "execution_count": 143
        },
        {
          "output_type": "display_data",
          "data": {
            "text/plain": [
              "<Figure size 800x550 with 1 Axes>"
            ],
            "image/png": "[encoded data removed]"
          },
          "metadata": {}
        }
      ]
    },
    {
      "cell_type": "code",
      "source": [
        "loss, mae, mse = model.evaluate(normed_test_data, test_labels, verbose=2)\n",
        "\n",
        "print(\"Testing set Mean Abs Error: {:5.2f} MPG\".format(mae))"
      ],
      "metadata": {
        "colab": {
          "base_uri": "https://localhost:8080/"
        },
        "id": "JYoQf8ZU4TnH",
        "outputId": "09a07cca-dc09-4a60-a4d2-8aced4f97a6d"
      },
      "execution_count": null,
      "outputs": [
        {
          "output_type": "stream",
          "name": "stdout",
          "text": [
            "169/169 - 1s - loss: 18014.9844 - mae: 76.0741 - mse: 18014.9844 - 786ms/epoch - 5ms/step\n",
            "Testing set Mean Abs Error: 76.07 MPG\n"
          ]
        }
      ]
    },
    {
      "cell_type": "code",
      "source": [
        "# Batch Normalization"
      ],
      "metadata": {
        "id": "n6oAyI7n4V35"
      },
      "execution_count": null,
      "outputs": []
    },
    {
      "cell_type": "code",
      "source": [
        "model = keras.Sequential([layers.Dense(256, input_shape=[len(train_dataset.keys())]),\n",
        "                          layers.BatchNormalization(),\n",
        "                          layers.ReLU(),\n",
        "                          layers.Dense(256),\n",
        "                          layers.BatchNormalization(),\n",
        "                          layers.ReLU(),\n",
        "                          layers.Dense(256),\n",
        "                          layers.BatchNormalization(),\n",
        "                          layers.ReLU(),\n",
        "                          layers.Dense(256),\n",
        "                          layers.BatchNormalization(),\n",
        "                          layers.ReLU(),\n",
        "                          layers.Dense(1)])"
      ],
      "metadata": {
        "id": "EWG960sZ4mK8"
      },
      "execution_count": null,
      "outputs": []
    },
    {
      "cell_type": "code",
      "source": [
        "model.summary()"
      ],
      "metadata": {
        "colab": {
          "base_uri": "https://localhost:8080/"
        },
        "id": "YjjMM6mf4ng8",
        "outputId": "e1dfc0d3-fbcc-4f42-ba27-e44d69ff4466"
      },
      "execution_count": null,
      "outputs": [
        {
          "output_type": "stream",
          "name": "stdout",
          "text": [
            "Model: \"sequential_10\"\n",
            "_________________________________________________________________\n",
            " Layer (type)                Output Shape              Param #   \n",
            "=================================================================\n",
            " dense_36 (Dense)            (None, 256)               3328      \n",
            "                                                                 \n",
            " batch_normalization (BatchN  (None, 256)              1024      \n",
            " ormalization)                                                   \n",
            "                                                                 \n",
            " re_lu (ReLU)                (None, 256)               0         \n",
            "                                                                 \n",
            " dense_37 (Dense)            (None, 256)               65792     \n",
            "                                                                 \n",
            " batch_normalization_1 (Batc  (None, 256)              1024      \n",
            " hNormalization)                                                 \n",
            "                                                                 \n",
            " re_lu_1 (ReLU)              (None, 256)               0         \n",
            "                                                                 \n",
            " dense_38 (Dense)            (None, 256)               65792     \n",
            "                                                                 \n",
            " batch_normalization_2 (Batc  (None, 256)              1024      \n",
            " hNormalization)                                                 \n",
            "                                                                 \n",
            " re_lu_2 (ReLU)              (None, 256)               0         \n",
            "                                                                 \n",
            " dense_39 (Dense)            (None, 256)               65792     \n",
            "                                                                 \n",
            " batch_normalization_3 (Batc  (None, 256)              1024      \n",
            " hNormalization)                                                 \n",
            "                                                                 \n",
            " re_lu_3 (ReLU)              (None, 256)               0         \n",
            "                                                                 \n",
            " dense_40 (Dense)            (None, 1)                 257       \n",
            "                                                                 \n",
            "=================================================================\n",
            "Total params: 205,057\n",
            "Trainable params: 203,009\n",
            "Non-trainable params: 2,048\n",
            "_________________________________________________________________\n"
          ]
        }
      ]
    },
    {
      "cell_type": "code",
      "source": [
        "# Defining the optimizer with a specific learning rate of 0.001\n",
        "optimizer = tf.keras.optimizers.Adam(learning_rate=0.001)\n",
        "\n",
        "# Compiling the model\n",
        "model.compile(loss='mse', optimizer=optimizer, metrics=['mae', 'mse'])"
      ],
      "metadata": {
        "id": "v1qf8OiM4qMD"
      },
      "execution_count": null,
      "outputs": []
    },
    {
      "cell_type": "code",
      "source": [
        "history_batch_norm = model.fit(normed_train_data, train_labels, epochs=100, validation_split=0.2,\n",
        "                          verbose=0, callbacks=[tfdocs.modeling.EpochDots()])"
      ],
      "metadata": {
        "colab": {
          "base_uri": "https://localhost:8080/"
        },
        "id": "5tE5zgr340RW",
        "outputId": "75da794e-ab0c-42d0-ef09-7d4ae38deb59"
      },
      "execution_count": null,
      "outputs": [
        {
          "output_type": "stream",
          "name": "stdout",
          "text": [
            "\n",
            "Epoch: 0, loss:18180.1895,  mae:110.9493,  mse:18180.1895,  val_loss:8370.9922,  val_mae:77.4030,  val_mse:8370.9922,  \n",
            "...................................................................................................."
          ]
        }
      ]
    },
    {
      "cell_type": "code",
      "source": [
        "hist_batch_norm = pd.DataFrame(history_batch_norm.history)\n",
        "hist_batch_norm['epoch'] = history_batch_norm.epoch\n",
        "hist_batch_norm.tail()"
      ],
      "metadata": {
        "colab": {
          "base_uri": "https://localhost:8080/",
          "height": 206
        },
        "id": "dIRzpJJ87FXg",
        "outputId": "2a26c841-3931-4506-e115-b771e19fd01b"
      },
      "execution_count": null,
      "outputs": [
        {
          "output_type": "execute_result",
          "data": {
            "text/plain": [
              "           loss        mae          mse     val_loss    val_mae      val_mse  \\\n",
              "95  5997.529785  65.568733  5997.529785  8009.227051  76.101776  8009.227051   \n",
              "96  6021.200684  65.751656  6021.200684  8030.195312  76.300537  8030.195312   \n",
              "97  5968.592773  65.187378  5968.592773  8096.918457  76.517120  8096.918457   \n",
              "98  6069.645996  65.914917  6069.645996  8019.517578  76.226646  8019.517578   \n",
              "99  6019.308594  65.656006  6019.308594  8111.012207  76.799774  8111.012207   \n",
              "\n",
              "    epoch  \n",
              "95     95  \n",
              "96     96  \n",
              "97     97  \n",
              "98     98  \n",
              "99     99  "
            ],
            "text/html": [
              "\n",
              "  <div id=\"df-53cb1be1-03f2-44e6-8121-5d5681793458\">\n",
              "    <div class=\"colab-df-container\">\n",
              "      <div>\n",
              "<style scoped>\n",
              "    .dataframe tbody tr th:only-of-type {\n",
              "        vertical-align: middle;\n",
              "    }\n",
              "\n",
              "    .dataframe tbody tr th {\n",
              "        vertical-align: top;\n",
              "    }\n",
              "\n",
              "    .dataframe thead th {\n",
              "        text-align: right;\n",
              "    }\n",
              "</style>\n",
              "<table border=\"1\" class=\"dataframe\">\n",
              "  <thead>\n",
              "    <tr style=\"text-align: right;\">\n",
              "      <th></th>\n",
              "      <th>loss</th>\n",
              "      <th>mae</th>\n",
              "      <th>mse</th>\n",
              "      <th>val_loss</th>\n",
              "      <th>val_mae</th>\n",
              "      <th>val_mse</th>\n",
              "      <th>epoch</th>\n",
              "    </tr>\n",
              "  </thead>\n",
              "  <tbody>\n",
              "    <tr>\n",
              "      <th>95</th>\n",
              "      <td>5997.529785</td>\n",
              "      <td>65.568733</td>\n",
              "      <td>5997.529785</td>\n",
              "      <td>8009.227051</td>\n",
              "      <td>76.101776</td>\n",
              "      <td>8009.227051</td>\n",
              "      <td>95</td>\n",
              "    </tr>\n",
              "    <tr>\n",
              "      <th>96</th>\n",
              "      <td>6021.200684</td>\n",
              "      <td>65.751656</td>\n",
              "      <td>6021.200684</td>\n",
              "      <td>8030.195312</td>\n",
              "      <td>76.300537</td>\n",
              "      <td>8030.195312</td>\n",
              "      <td>96</td>\n",
              "    </tr>\n",
              "    <tr>\n",
              "      <th>97</th>\n",
              "      <td>5968.592773</td>\n",
              "      <td>65.187378</td>\n",
              "      <td>5968.592773</td>\n",
              "      <td>8096.918457</td>\n",
              "      <td>76.517120</td>\n",
              "      <td>8096.918457</td>\n",
              "      <td>97</td>\n",
              "    </tr>\n",
              "    <tr>\n",
              "      <th>98</th>\n",
              "      <td>6069.645996</td>\n",
              "      <td>65.914917</td>\n",
              "      <td>6069.645996</td>\n",
              "      <td>8019.517578</td>\n",
              "      <td>76.226646</td>\n",
              "      <td>8019.517578</td>\n",
              "      <td>98</td>\n",
              "    </tr>\n",
              "    <tr>\n",
              "      <th>99</th>\n",
              "      <td>6019.308594</td>\n",
              "      <td>65.656006</td>\n",
              "      <td>6019.308594</td>\n",
              "      <td>8111.012207</td>\n",
              "      <td>76.799774</td>\n",
              "      <td>8111.012207</td>\n",
              "      <td>99</td>\n",
              "    </tr>\n",
              "  </tbody>\n",
              "</table>\n",
              "</div>\n",
              "      <button class=\"colab-df-convert\" onclick=\"convertToInteractive('df-53cb1be1-03f2-44e6-8121-5d5681793458')\"\n",
              "              title=\"Convert this dataframe to an interactive table.\"\n",
              "              style=\"display:none;\">\n",
              "        \n",
              "  <svg xmlns=\"http://www.w3.org/2000/svg\" height=\"24px\"viewBox=\"0 0 24 24\"\n",
              "       width=\"24px\">\n",
              "    <path d=\"M0 0h24v24H0V0z\" fill=\"none\"/>\n",
              "    <path d=\"M18.56 5.44l.94 2.06.94-2.06 2.06-.94-2.06-.94-.94-2.06-.94 2.06-2.06.94zm-11 1L8.5 8.5l.94-2.06 2.06-.94-2.06-.94L8.5 2.5l-.94 2.06-2.06.94zm10 10l.94 2.06.94-2.06 2.06-.94-2.06-.94-.94-2.06-.94 2.06-2.06.94z\"/><path d=\"M17.41 7.96l-1.37-1.37c-.4-.4-.92-.59-1.43-.59-.52 0-1.04.2-1.43.59L10.3 9.45l-7.72 7.72c-.78.78-.78 2.05 0 2.83L4 21.41c.39.39.9.59 1.41.59.51 0 1.02-.2 1.41-.59l7.78-7.78 2.81-2.81c.8-.78.8-2.07 0-2.86zM5.41 20L4 18.59l7.72-7.72 1.47 1.35L5.41 20z\"/>\n",
              "  </svg>\n",
              "      </button>\n",
              "      \n",
              "  <style>\n",
              "    .colab-df-container {\n",
              "      display:flex;\n",
              "      flex-wrap:wrap;\n",
              "      gap: 12px;\n",
              "    }\n",
              "\n",
              "    .colab-df-convert {\n",
              "      background-color: #E8F0FE;\n",
              "      border: none;\n",
              "      border-radius: 50%;\n",
              "      cursor: pointer;\n",
              "      display: none;\n",
              "      fill: #1967D2;\n",
              "      height: 32px;\n",
              "      padding: 0 0 0 0;\n",
              "      width: 32px;\n",
              "    }\n",
              "\n",
              "    .colab-df-convert:hover {\n",
              "      background-color: #E2EBFA;\n",
              "      box-shadow: 0px 1px 2px rgba(60, 64, 67, 0.3), 0px 1px 3px 1px rgba(60, 64, 67, 0.15);\n",
              "      fill: #174EA6;\n",
              "    }\n",
              "\n",
              "    [theme=dark] .colab-df-convert {\n",
              "      background-color: #3B4455;\n",
              "      fill: #D2E3FC;\n",
              "    }\n",
              "\n",
              "    [theme=dark] .colab-df-convert:hover {\n",
              "      background-color: #434B5C;\n",
              "      box-shadow: 0px 1px 3px 1px rgba(0, 0, 0, 0.15);\n",
              "      filter: drop-shadow(0px 1px 2px rgba(0, 0, 0, 0.3));\n",
              "      fill: #FFFFFF;\n",
              "    }\n",
              "  </style>\n",
              "\n",
              "      <script>\n",
              "        const buttonEl =\n",
              "          document.querySelector('#df-53cb1be1-03f2-44e6-8121-5d5681793458 button.colab-df-convert');\n",
              "        buttonEl.style.display =\n",
              "          google.colab.kernel.accessAllowed ? 'block' : 'none';\n",
              "\n",
              "        async function convertToInteractive(key) {\n",
              "          const element = document.querySelector('#df-53cb1be1-03f2-44e6-8121-5d5681793458');\n",
              "          const dataTable =\n",
              "            await google.colab.kernel.invokeFunction('convertToInteractive',\n",
              "                                                     [key], {});\n",
              "          if (!dataTable) return;\n",
              "\n",
              "          const docLinkHtml = 'Like what you see? Visit the ' +\n",
              "            '<a target=\"_blank\" href=https://colab.research.google.com/notebooks/data_table.ipynb>data table notebook</a>'\n",
              "            + ' to learn more about interactive tables.';\n",
              "          element.innerHTML = '';\n",
              "          dataTable['output_type'] = 'display_data';\n",
              "          await google.colab.output.renderOutput(dataTable, element);\n",
              "          const docLink = document.createElement('div');\n",
              "          docLink.innerHTML = docLinkHtml;\n",
              "          element.appendChild(docLink);\n",
              "        }\n",
              "      </script>\n",
              "    </div>\n",
              "  </div>\n",
              "  "
            ]
          },
          "metadata": {},
          "execution_count": 149
        }
      ]
    },
    {
      "cell_type": "code",
      "source": [
        "plotter.plot({'Batch Normalization Model': history_batch_norm}, metric=\"mae\")\n",
        "plt.ylabel('MAE [index]')"
      ],
      "metadata": {
        "colab": {
          "base_uri": "https://localhost:8080/",
          "height": 521
        },
        "id": "zdCLhcYH7IrK",
        "outputId": "04f27937-4824-4bf9-cf08-e8bb3b0e4b96"
      },
      "execution_count": null,
      "outputs": [
        {
          "output_type": "execute_result",
          "data": {
            "text/plain": [
              "Text(0, 0.5, 'MAE [index]')"
            ]
          },
          "metadata": {},
          "execution_count": 150
        },
        {
          "output_type": "display_data",
          "data": {
            "text/plain": [
              "<Figure size 800x550 with 1 Axes>"
            ],
            "image/png": "[encoded data removed]"
          },
          "metadata": {}
        }
      ]
    },
    {
      "cell_type": "code",
      "source": [
        "loss, mae, mse = model.evaluate(normed_test_data, test_labels, verbose=2)\n",
        "\n",
        "print(\"Testing set Mean Abs Error: {:5.2f} MPG\".format(mae))"
      ],
      "metadata": {
        "colab": {
          "base_uri": "https://localhost:8080/"
        },
        "id": "nNyLXeFE7QH-",
        "outputId": "331093a2-87e0-4e32-9374-d2c656d8977a"
      },
      "execution_count": null,
      "outputs": [
        {
          "output_type": "stream",
          "name": "stdout",
          "text": [
            "169/169 - 1s - loss: 10702.4189 - mae: 75.7972 - mse: 10702.4189 - 674ms/epoch - 4ms/step\n",
            "Testing set Mean Abs Error: 75.80 MPG\n"
          ]
        }
      ]
    }
  ]
}