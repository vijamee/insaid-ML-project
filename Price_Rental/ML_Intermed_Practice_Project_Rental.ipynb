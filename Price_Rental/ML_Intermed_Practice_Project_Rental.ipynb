{
 "cells": [
  {
   "cell_type": "code",
   "execution_count": 6,
   "id": "9512eb26",
   "metadata": {},
   "outputs": [],
   "source": [
    "# Run the below libraries\n",
    "!pip install -q datascience                                        \n",
    "!pip install -q pandas-profiling                                    \n",
    "!pip install -q yellowbrick "
   ]
  },
  {
   "cell_type": "code",
   "execution_count": 7,
   "id": "becf8dc4",
   "metadata": {},
   "outputs": [],
   "source": [
    "!pip install -q --upgrade pandas-profiling\n",
    "!pip install -q --upgrade yellowbrick"
   ]
  },
  {
   "cell_type": "code",
   "execution_count": 1,
   "id": "83aa94f8",
   "metadata": {},
   "outputs": [],
   "source": [
    "import pandas as pd                                                               # Importing for panel data analysis\n",
    "from pandas_profiling import ProfileReport                                        # Import Pandas Profiling (To generate Univariate Analysis) \n",
    "pd.set_option('display.max_columns', None)                                        # Unfolding hidden features if the cardinality is high      \n",
    "pd.set_option('display.max_colwidth', None)                                       # Unfolding the max feature width for better clearity      \n",
    "pd.set_option('display.max_rows', None)                                           # Unfolding hidden data points if the cardinality is high\n",
    "pd.set_option('display.float_format', lambda x: '%.5f' % x)                       # To suppress scientific notation over exponential values\n",
    "#-------------------------------------------------------------------------------------------------------------------------------\n",
    "import numpy as np                                                                # Importing package numpys (For Numerical Python)\n",
    "#-------------------------------------------------------------------------------------------------------------------------------\n",
    "import matplotlib.pyplot as plt                                                   # Importing pyplot interface using matplotlib                                              \n",
    "import seaborn as sns                                                             # Importing seaborm library for interactive visualization\n",
    "%matplotlib inline\n",
    "#-------------------------------------------------------------------------------------------------------------------------------\n",
    "from sklearn.model_selection import train_test_split                              # To split the data in training and testing part \n",
    "from sklearn.preprocessing import StandardScaler                                  # Importing Standard Scaler library from preprocessing.                             \n",
    "from sklearn.linear_model import LinearRegression                                 # Importing Linear Regression model\n",
    "from sklearn.metrics import mean_squared_error                                    # To calculate the MSE of a regression model\n",
    "from sklearn.metrics import mean_absolute_error                                   # To calculate the MAE of a regression model\n",
    "from sklearn.metrics import r2_score                                              # To calculate the R-squared score of a regression model\n",
    "from sklearn.metrics import accuracy_score                          # For calculating the accuracy for the model\n",
    "from sklearn.metrics import precision_score                         # For calculating the Precision of the model\n",
    "from sklearn.metrics import recall_score                            # For calculating the recall of the model\n",
    "from sklearn.metrics import precision_recall_curve                  # For precision and recall metric estimation\n",
    "from sklearn.metrics import confusion_matrix                        # For verifying model performance using confusion matrix\n",
    "from sklearn.metrics import f1_score                                # For Checking the F1-Score of our model  \n",
    "from sklearn.metrics import roc_curve                               # For Roc-Auc metric estimation\n",
    "#-------------------------------------------------------------------------------------------------------------------------------\n",
    "from sklearn.model_selection import train_test_split                # To split the data in training and testing part     \n",
    "from sklearn.linear_model import LogisticRegression                 # To create the Logistic Regression Model\n",
    "from sklearn.model_selection import train_test_split\n",
    "from sklearn.tree import DecisionTreeClassifier\n",
    "from sklearn.linear_model import LogisticRegression\n",
    "from sklearn.metrics import confusion_matrix, classification_report, accuracy_score\n",
    "from sklearn.decomposition import PCA\n",
    "from sklearn.ensemble import RandomForestClassifier\n",
    "import sklearn.metrics as metrics\n",
    "from sklearn.model_selection import RandomizedSearchCV\n",
    "from sklearn.preprocessing import LabelEncoder\n",
    "from random import randint                                          # Importing to generate random integers\n",
    "from sklearn.preprocessing import StandardScaler                    # Importing standard scaler to perform standardization\n",
    "from sklearn.feature_selection import SelectFromModel               # To select features from model using Yellow bricks\n",
    " \n",
    "from sklearn.naive_bayes import GaussianNB                          # To create a naive bayes model using algorithm\n",
    "from sklearn.ensemble import RandomForestClassifier                 # To create a random forest model using algorithm\n",
    "from sklearn.metrics import plot_confusion_matrix                   # To plot confusion matrix \n",
    "from yellowbrick.model_selection import FeatureImportances\n",
    "from sklearn.model_selection import train_test_split\n",
    "from sklearn.ensemble import RandomForestRegressor, AdaBoostRegressor, GradientBoostingRegressor, StackingRegressor\n",
    "from sklearn.metrics import mean_squared_error, mean_absolute_error, r2_score\n",
    "from sklearn.preprocessing import LabelEncoder\n",
    "from sklearn.utils import shuffle                                   # To shuffle the data\n",
    "from sklearn.impute import KNNImputer                               # To performing iterative imputing over missing data\n",
    "from sklearn.preprocessing import StandardScaler                    # Importing standard scaler to perform standardization\n",
    "from sklearn.base import BaseEstimator                              # To create custom transformers\n",
    "from sklearn.base import ClassifierMixin                            # To create custom transformers\n",
    "from sklearn.base import TransformerMixin                           # To create custom transformers\n",
    "from sklearn.feature_selection import SelectFromModel               # To select features from model using Yellow bricks\n",
    "from yellowbrick.model_selection import FeatureImportances          # To select important features out of the model\n",
    "from sklearn.model_selection import KFold                           # To perform K-fold executions\n",
    "from sklearn.naive_bayes import GaussianNB                          # To create a naive bayes model using algorithm\n",
    "from sklearn.ensemble import RandomForestClassifier                 # To create a random forest model using algorithm\n",
    "from sklearn.metrics import plot_confusion_matrix                   # To plot confusion matrix \n",
    "from yellowbrick.model_selection import FeatureImportances\n",
    "from sklearn.model_selection import cross_validate                  # To calculate cross validation scores\n",
    "from sklearn.model_selection import GridSearchCV                    # To tune the models\n",
    "import time                                                         # Importing to calculate time\n",
    "from sklearn import base\n",
    "\n",
    "#-----------------------------------------------------------------------------------------"
   ]
  },
  {
   "cell_type": "code",
   "execution_count": 70,
   "id": "4d2b560f",
   "metadata": {},
   "outputs": [
    {
     "name": "stdout",
     "output_type": "stream",
     "text": [
      "Data Shape: (137023, 17)\n"
     ]
    },
    {
     "data": {
      "text/html": [
       "<div>\n",
       "<style scoped>\n",
       "    .dataframe tbody tr th:only-of-type {\n",
       "        vertical-align: middle;\n",
       "    }\n",
       "\n",
       "    .dataframe tbody tr th {\n",
       "        vertical-align: top;\n",
       "    }\n",
       "\n",
       "    .dataframe thead th {\n",
       "        text-align: right;\n",
       "    }\n",
       "</style>\n",
       "<table border=\"1\" class=\"dataframe\">\n",
       "  <thead>\n",
       "    <tr style=\"text-align: right;\">\n",
       "      <th></th>\n",
       "      <th>id</th>\n",
       "      <th>name</th>\n",
       "      <th>host_id</th>\n",
       "      <th>host_name</th>\n",
       "      <th>neighbourhood_group</th>\n",
       "      <th>neighbourhood</th>\n",
       "      <th>latitude</th>\n",
       "      <th>longitude</th>\n",
       "      <th>room_type</th>\n",
       "      <th>minimum_nights</th>\n",
       "      <th>number_of_reviews</th>\n",
       "      <th>last_review</th>\n",
       "      <th>reviews_per_month</th>\n",
       "      <th>calculated_host_listings_count</th>\n",
       "      <th>availability_365</th>\n",
       "      <th>city</th>\n",
       "      <th>price</th>\n",
       "    </tr>\n",
       "  </thead>\n",
       "  <tbody>\n",
       "    <tr>\n",
       "      <th>0</th>\n",
       "      <td>149653</td>\n",
       "      <td>Private bedroom located in Downtown Manhattan</td>\n",
       "      <td>257599351.00000</td>\n",
       "      <td>Sandra And Katharina</td>\n",
       "      <td>Manhattan</td>\n",
       "      <td>Chinatown</td>\n",
       "      <td>40.71703</td>\n",
       "      <td>-73.99538</td>\n",
       "      <td>Private room</td>\n",
       "      <td>2.00000</td>\n",
       "      <td>17.00000</td>\n",
       "      <td>18/09/19</td>\n",
       "      <td>1.04000</td>\n",
       "      <td>1.00000</td>\n",
       "      <td>0.00000</td>\n",
       "      <td>New York City</td>\n",
       "      <td>100.00000</td>\n",
       "    </tr>\n",
       "    <tr>\n",
       "      <th>1</th>\n",
       "      <td>74702</td>\n",
       "      <td>Quiet, Comfy West LA Cottage - HSR 19-000047</td>\n",
       "      <td>2882551.00000</td>\n",
       "      <td>James</td>\n",
       "      <td>City of Los Angeles</td>\n",
       "      <td>Mar Vista</td>\n",
       "      <td>34.01257</td>\n",
       "      <td>-118.44254</td>\n",
       "      <td>Entire home/apt</td>\n",
       "      <td>2.00000</td>\n",
       "      <td>331.00000</td>\n",
       "      <td>07/09/20</td>\n",
       "      <td>4.28000</td>\n",
       "      <td>1.00000</td>\n",
       "      <td>170.00000</td>\n",
       "      <td>Los Angeles</td>\n",
       "      <td>102.00000</td>\n",
       "    </tr>\n",
       "    <tr>\n",
       "      <th>2</th>\n",
       "      <td>95858</td>\n",
       "      <td>Home away from Home !</td>\n",
       "      <td>287662307.00000</td>\n",
       "      <td>Kahee</td>\n",
       "      <td>Other Cities</td>\n",
       "      <td>Pasadena</td>\n",
       "      <td>34.14255</td>\n",
       "      <td>-118.09888</td>\n",
       "      <td>Entire home/apt</td>\n",
       "      <td>10.00000</td>\n",
       "      <td>4.00000</td>\n",
       "      <td>29/03/20</td>\n",
       "      <td>0.37000</td>\n",
       "      <td>1.00000</td>\n",
       "      <td>306.00000</td>\n",
       "      <td>Los Angeles</td>\n",
       "      <td>131.00000</td>\n",
       "    </tr>\n",
       "    <tr>\n",
       "      <th>3</th>\n",
       "      <td>61301</td>\n",
       "      <td>Kukui‚Äôula Club Villa 11</td>\n",
       "      <td>198477445.00000</td>\n",
       "      <td>Lodge</td>\n",
       "      <td>Kauai</td>\n",
       "      <td>Koloa-Poipu</td>\n",
       "      <td>21.88471</td>\n",
       "      <td>-159.48359</td>\n",
       "      <td>Entire home/apt</td>\n",
       "      <td>1.00000</td>\n",
       "      <td>0.00000</td>\n",
       "      <td>NaN</td>\n",
       "      <td>NaN</td>\n",
       "      <td>19.00000</td>\n",
       "      <td>358.00000</td>\n",
       "      <td>Hawaii</td>\n",
       "      <td>2399.00000</td>\n",
       "    </tr>\n",
       "    <tr>\n",
       "      <th>4</th>\n",
       "      <td>132101</td>\n",
       "      <td>One bedroom apartment</td>\n",
       "      <td>87835557.00000</td>\n",
       "      <td>Kostas</td>\n",
       "      <td>Queens</td>\n",
       "      <td>Astoria</td>\n",
       "      <td>40.76623</td>\n",
       "      <td>-73.90911</td>\n",
       "      <td>Entire home/apt</td>\n",
       "      <td>2.00000</td>\n",
       "      <td>189.00000</td>\n",
       "      <td>31/08/20</td>\n",
       "      <td>3.82000</td>\n",
       "      <td>1.00000</td>\n",
       "      <td>331.00000</td>\n",
       "      <td>New York City</td>\n",
       "      <td>76.00000</td>\n",
       "    </tr>\n",
       "  </tbody>\n",
       "</table>\n",
       "</div>"
      ],
      "text/plain": [
       "       id                                           name         host_id  \\\n",
       "0  149653  Private bedroom located in Downtown Manhattan 257599351.00000   \n",
       "1   74702   Quiet, Comfy West LA Cottage - HSR 19-000047   2882551.00000   \n",
       "2   95858                          Home away from Home ! 287662307.00000   \n",
       "3   61301                      Kukui‚Äôula Club Villa 11 198477445.00000   \n",
       "4  132101                          One bedroom apartment  87835557.00000   \n",
       "\n",
       "              host_name  neighbourhood_group neighbourhood  latitude  \\\n",
       "0  Sandra And Katharina            Manhattan     Chinatown  40.71703   \n",
       "1                 James  City of Los Angeles     Mar Vista  34.01257   \n",
       "2                 Kahee         Other Cities      Pasadena  34.14255   \n",
       "3                 Lodge                Kauai   Koloa-Poipu  21.88471   \n",
       "4                Kostas               Queens       Astoria  40.76623   \n",
       "\n",
       "   longitude        room_type  minimum_nights  number_of_reviews last_review  \\\n",
       "0  -73.99538     Private room         2.00000           17.00000    18/09/19   \n",
       "1 -118.44254  Entire home/apt         2.00000          331.00000    07/09/20   \n",
       "2 -118.09888  Entire home/apt        10.00000            4.00000    29/03/20   \n",
       "3 -159.48359  Entire home/apt         1.00000            0.00000         NaN   \n",
       "4  -73.90911  Entire home/apt         2.00000          189.00000    31/08/20   \n",
       "\n",
       "   reviews_per_month  calculated_host_listings_count  availability_365  \\\n",
       "0            1.04000                         1.00000           0.00000   \n",
       "1            4.28000                         1.00000         170.00000   \n",
       "2            0.37000                         1.00000         306.00000   \n",
       "3                NaN                        19.00000         358.00000   \n",
       "4            3.82000                         1.00000         331.00000   \n",
       "\n",
       "            city      price  \n",
       "0  New York City  100.00000  \n",
       "1    Los Angeles  102.00000  \n",
       "2    Los Angeles  131.00000  \n",
       "3         Hawaii 2399.00000  \n",
       "4  New York City   76.00000  "
      ]
     },
     "execution_count": 70,
     "metadata": {},
     "output_type": "execute_result"
    }
   ],
   "source": [
    "# Import Train Data\n",
    "rent_train = pd.read_csv(r'C:\\Users\\vc00482003\\Desktop\\INSAIDclassdocs\\ML\\DecisionTree\\Practice_Project_ML_Intermediate\\drive-download-20221230T105128Z-001\\train_data.csv')\n",
    "print('Data Shape:', rent_train.shape)\n",
    "rent_train.head()"
   ]
  },
  {
   "cell_type": "code",
   "execution_count": 71,
   "id": "37dcfbf0",
   "metadata": {},
   "outputs": [
    {
     "data": {
      "text/html": [
       "<div>\n",
       "<style scoped>\n",
       "    .dataframe tbody tr th:only-of-type {\n",
       "        vertical-align: middle;\n",
       "    }\n",
       "\n",
       "    .dataframe tbody tr th {\n",
       "        vertical-align: top;\n",
       "    }\n",
       "\n",
       "    .dataframe thead th {\n",
       "        text-align: right;\n",
       "    }\n",
       "</style>\n",
       "<table border=\"1\" class=\"dataframe\">\n",
       "  <thead>\n",
       "    <tr style=\"text-align: right;\">\n",
       "      <th></th>\n",
       "      <th>id</th>\n",
       "      <th>host_id</th>\n",
       "      <th>latitude</th>\n",
       "      <th>longitude</th>\n",
       "      <th>minimum_nights</th>\n",
       "      <th>number_of_reviews</th>\n",
       "      <th>reviews_per_month</th>\n",
       "      <th>calculated_host_listings_count</th>\n",
       "      <th>availability_365</th>\n",
       "      <th>price</th>\n",
       "    </tr>\n",
       "  </thead>\n",
       "  <tbody>\n",
       "    <tr>\n",
       "      <th>count</th>\n",
       "      <td>137023.00000</td>\n",
       "      <td>137023.00000</td>\n",
       "      <td>137023.00000</td>\n",
       "      <td>137023.00000</td>\n",
       "      <td>137023.00000</td>\n",
       "      <td>137023.00000</td>\n",
       "      <td>107232.00000</td>\n",
       "      <td>137023.00000</td>\n",
       "      <td>137023.00000</td>\n",
       "      <td>137023.00000</td>\n",
       "    </tr>\n",
       "    <tr>\n",
       "      <th>mean</th>\n",
       "      <td>85580.72340</td>\n",
       "      <td>96325667.55713</td>\n",
       "      <td>34.58421</td>\n",
       "      <td>-101.51015</td>\n",
       "      <td>10.44607</td>\n",
       "      <td>33.13883</td>\n",
       "      <td>1.38722</td>\n",
       "      <td>17.22617</td>\n",
       "      <td>163.60245</td>\n",
       "      <td>205.28179</td>\n",
       "    </tr>\n",
       "    <tr>\n",
       "      <th>std</th>\n",
       "      <td>49471.66241</td>\n",
       "      <td>100705648.79176</td>\n",
       "      <td>7.06333</td>\n",
       "      <td>28.01388</td>\n",
       "      <td>25.59344</td>\n",
       "      <td>61.90353</td>\n",
       "      <td>1.65096</td>\n",
       "      <td>52.67018</td>\n",
       "      <td>140.76675</td>\n",
       "      <td>504.57358</td>\n",
       "    </tr>\n",
       "    <tr>\n",
       "      <th>min</th>\n",
       "      <td>1.00000</td>\n",
       "      <td>23.00000</td>\n",
       "      <td>18.92099</td>\n",
       "      <td>-159.71490</td>\n",
       "      <td>1.00000</td>\n",
       "      <td>0.00000</td>\n",
       "      <td>0.01000</td>\n",
       "      <td>1.00000</td>\n",
       "      <td>0.00000</td>\n",
       "      <td>0.00000</td>\n",
       "    </tr>\n",
       "    <tr>\n",
       "      <th>25%</th>\n",
       "      <td>42729.50000</td>\n",
       "      <td>14310639.00000</td>\n",
       "      <td>30.24950</td>\n",
       "      <td>-118.36571</td>\n",
       "      <td>1.00000</td>\n",
       "      <td>1.00000</td>\n",
       "      <td>0.22000</td>\n",
       "      <td>1.00000</td>\n",
       "      <td>1.00000</td>\n",
       "      <td>75.00000</td>\n",
       "    </tr>\n",
       "    <tr>\n",
       "      <th>50%</th>\n",
       "      <td>85640.00000</td>\n",
       "      <td>52746810.00000</td>\n",
       "      <td>36.05899</td>\n",
       "      <td>-90.10552</td>\n",
       "      <td>3.00000</td>\n",
       "      <td>7.00000</td>\n",
       "      <td>0.78000</td>\n",
       "      <td>2.00000</td>\n",
       "      <td>151.00000</td>\n",
       "      <td>120.00000</td>\n",
       "    </tr>\n",
       "    <tr>\n",
       "      <th>75%</th>\n",
       "      <td>128374.50000</td>\n",
       "      <td>154391381.50000</td>\n",
       "      <td>40.71840</td>\n",
       "      <td>-73.98932</td>\n",
       "      <td>7.00000</td>\n",
       "      <td>37.00000</td>\n",
       "      <td>2.00000</td>\n",
       "      <td>7.00000</td>\n",
       "      <td>316.00000</td>\n",
       "      <td>200.00000</td>\n",
       "    </tr>\n",
       "    <tr>\n",
       "      <th>max</th>\n",
       "      <td>171279.00000</td>\n",
       "      <td>367907062.00000</td>\n",
       "      <td>45.61727</td>\n",
       "      <td>-70.99595</td>\n",
       "      <td>1250.00000</td>\n",
       "      <td>966.00000</td>\n",
       "      <td>44.06000</td>\n",
       "      <td>593.00000</td>\n",
       "      <td>365.00000</td>\n",
       "      <td>24999.00000</td>\n",
       "    </tr>\n",
       "  </tbody>\n",
       "</table>\n",
       "</div>"
      ],
      "text/plain": [
       "                id         host_id     latitude    longitude  minimum_nights  \\\n",
       "count 137023.00000    137023.00000 137023.00000 137023.00000    137023.00000   \n",
       "mean   85580.72340  96325667.55713     34.58421   -101.51015        10.44607   \n",
       "std    49471.66241 100705648.79176      7.06333     28.01388        25.59344   \n",
       "min        1.00000        23.00000     18.92099   -159.71490         1.00000   \n",
       "25%    42729.50000  14310639.00000     30.24950   -118.36571         1.00000   \n",
       "50%    85640.00000  52746810.00000     36.05899    -90.10552         3.00000   \n",
       "75%   128374.50000 154391381.50000     40.71840    -73.98932         7.00000   \n",
       "max   171279.00000 367907062.00000     45.61727    -70.99595      1250.00000   \n",
       "\n",
       "       number_of_reviews  reviews_per_month  calculated_host_listings_count  \\\n",
       "count       137023.00000       107232.00000                    137023.00000   \n",
       "mean            33.13883            1.38722                        17.22617   \n",
       "std             61.90353            1.65096                        52.67018   \n",
       "min              0.00000            0.01000                         1.00000   \n",
       "25%              1.00000            0.22000                         1.00000   \n",
       "50%              7.00000            0.78000                         2.00000   \n",
       "75%             37.00000            2.00000                         7.00000   \n",
       "max            966.00000           44.06000                       593.00000   \n",
       "\n",
       "       availability_365        price  \n",
       "count      137023.00000 137023.00000  \n",
       "mean          163.60245    205.28179  \n",
       "std           140.76675    504.57358  \n",
       "min             0.00000      0.00000  \n",
       "25%             1.00000     75.00000  \n",
       "50%           151.00000    120.00000  \n",
       "75%           316.00000    200.00000  \n",
       "max           365.00000  24999.00000  "
      ]
     },
     "execution_count": 71,
     "metadata": {},
     "output_type": "execute_result"
    }
   ],
   "source": [
    "# Describe Train data\n",
    "rent_train.describe()"
   ]
  },
  {
   "cell_type": "code",
   "execution_count": 72,
   "id": "8479f64c",
   "metadata": {},
   "outputs": [
    {
     "name": "stderr",
     "output_type": "stream",
     "text": [
      "C:\\Users\\vc00482003\\AppData\\Local\\Temp\\ipykernel_12640\\3362222793.py:2: FutureWarning: Dropping of nuisance columns in DataFrame reductions (with 'numeric_only=None') is deprecated; in a future version this will raise TypeError.  Select only valid columns before calling the reduction.\n",
      "  rent_train.skew()\n"
     ]
    },
    {
     "data": {
      "text/plain": [
       "id                                0.00150\n",
       "host_id                           1.05147\n",
       "latitude                         -0.72582\n",
       "longitude                        -0.74066\n",
       "minimum_nights                   15.69466\n",
       "number_of_reviews                 3.70293\n",
       "reviews_per_month                 2.45973\n",
       "calculated_host_listings_count    6.38812\n",
       "availability_365                  0.18285\n",
       "price                            20.79093\n",
       "dtype: float64"
      ]
     },
     "execution_count": 72,
     "metadata": {},
     "output_type": "execute_result"
    }
   ],
   "source": [
    "# Check Skewness Train data\n",
    "rent_train.skew()"
   ]
  },
  {
   "cell_type": "code",
   "execution_count": 73,
   "id": "a05b0360",
   "metadata": {},
   "outputs": [
    {
     "name": "stdout",
     "output_type": "stream",
     "text": [
      "<class 'pandas.core.frame.DataFrame'>\n",
      "RangeIndex: 137023 entries, 0 to 137022\n",
      "Data columns (total 17 columns):\n",
      " #   Column                          Non-Null Count   Dtype  \n",
      "---  ------                          --------------   -----  \n",
      " 0   id                              137023 non-null  int64  \n",
      " 1   name                            137007 non-null  object \n",
      " 2   host_id                         137023 non-null  float64\n",
      " 3   host_name                       137002 non-null  object \n",
      " 4   neighbourhood_group             80300 non-null   object \n",
      " 5   neighbourhood                   137023 non-null  object \n",
      " 6   latitude                        137023 non-null  float64\n",
      " 7   longitude                       137023 non-null  float64\n",
      " 8   room_type                       137023 non-null  object \n",
      " 9   minimum_nights                  137023 non-null  float64\n",
      " 10  number_of_reviews               137023 non-null  float64\n",
      " 11  last_review                     107232 non-null  object \n",
      " 12  reviews_per_month               107232 non-null  float64\n",
      " 13  calculated_host_listings_count  137023 non-null  float64\n",
      " 14  availability_365                137023 non-null  float64\n",
      " 15  city                            137023 non-null  object \n",
      " 16  price                           137023 non-null  float64\n",
      "dtypes: float64(9), int64(1), object(7)\n",
      "memory usage: 17.8+ MB\n"
     ]
    }
   ],
   "source": [
    "# Check Train Data info\n",
    "rent_train.info()"
   ]
  },
  {
   "cell_type": "code",
   "execution_count": 74,
   "id": "f4f558e0",
   "metadata": {},
   "outputs": [],
   "source": [
    "# Missing value variables- name,host_name,neighbourhood_group,last_review,reviews_per_month \n",
    "# change last review dataetype, or convert it to age of last review\n",
    "# last review age, number of reviews per month fill missing values by zeros \n",
    "# drop varibales name, host_id, host_name,neighbourhood_group,neighbourhood, "
   ]
  },
  {
   "cell_type": "code",
   "execution_count": 4,
   "id": "62df54b0",
   "metadata": {},
   "outputs": [],
   "source": [
    "# Run profile report\n",
    "profile = ProfileReport(rent_train, title=\"Rental Dataset\", html={'style': {'full_width': True}})"
   ]
  },
  {
   "cell_type": "code",
   "execution_count": 5,
   "id": "bacf4b06",
   "metadata": {},
   "outputs": [
    {
     "data": {
      "application/vnd.jupyter.widget-view+json": {
       "model_id": "4b87ec78c9144e7bbd85a563bb330a35",
       "version_major": 2,
       "version_minor": 0
      },
      "text/plain": [
       "Summarize dataset:   0%|          | 0/5 [00:00<?, ?it/s]"
      ]
     },
     "metadata": {},
     "output_type": "display_data"
    },
    {
     "data": {
      "application/vnd.jupyter.widget-view+json": {
       "model_id": "6a70e2d941734703aeb8d2f70f8740bf",
       "version_major": 2,
       "version_minor": 0
      },
      "text/plain": [
       "Generate report structure:   0%|          | 0/1 [00:00<?, ?it/s]"
      ]
     },
     "metadata": {},
     "output_type": "display_data"
    },
    {
     "data": {
      "application/vnd.jupyter.widget-view+json": {
       "model_id": "",
       "version_major": 2,
       "version_minor": 0
      },
      "text/plain": [
       "Render widgets:   0%|          | 0/1 [00:00<?, ?it/s]"
      ]
     },
     "metadata": {},
     "output_type": "display_data"
    },
    {
     "data": {
      "application/vnd.jupyter.widget-view+json": {
       "model_id": "94175476ab8c4ceea6d54e3ca897ed18",
       "version_major": 2,
       "version_minor": 0
      },
      "text/plain": [
       "VBox(children=(Tab(children=(Tab(children=(GridBox(children=(VBox(children=(GridspecLayout(children=(HTML(valu…"
      ]
     },
     "metadata": {},
     "output_type": "display_data"
    }
   ],
   "source": [
    "profile.to_widgets()"
   ]
  },
  {
   "cell_type": "code",
   "execution_count": 6,
   "id": "567d4bbb",
   "metadata": {},
   "outputs": [
    {
     "data": {
      "text/plain": [
       "Index(['id', 'name', 'host_id', 'host_name', 'neighbourhood_group',\n",
       "       'neighbourhood', 'latitude', 'longitude', 'room_type', 'minimum_nights',\n",
       "       'number_of_reviews', 'last_review', 'reviews_per_month',\n",
       "       'calculated_host_listings_count', 'availability_365', 'city', 'price'],\n",
       "      dtype='object')"
      ]
     },
     "execution_count": 6,
     "metadata": {},
     "output_type": "execute_result"
    }
   ],
   "source": [
    "rent_train.columns"
   ]
  },
  {
   "cell_type": "code",
   "execution_count": 75,
   "id": "5b8f99f0",
   "metadata": {},
   "outputs": [],
   "source": [
    "# Data Prep\n",
    "def data_prep(df):\n",
    "  #fixing inconsistencies\n",
    "  df['last_review'] = pd.to_datetime(df['last_review'])\n",
    "  df['review_Year'] = df['last_review'].dt.year\n",
    "  df['Age_Last_Review'] = 2023 - df['review_Year']\n",
    "  df['reviews_per_month'] = df['reviews_per_month'].fillna(0)\n",
    "  df['Age_Last_Review'] = df['Age_Last_Review'].fillna(0)  \n",
    "  df.drop(['name', 'host_id', 'host_name', 'neighbourhood_group','neighbourhood','last_review','review_Year'], axis=1,inplace=True)\n",
    "  \n",
    "  return df"
   ]
  },
  {
   "cell_type": "code",
   "execution_count": 76,
   "id": "ac3d7238",
   "metadata": {},
   "outputs": [],
   "source": [
    "rent_train = data_prep(rent_train)"
   ]
  },
  {
   "cell_type": "code",
   "execution_count": 77,
   "id": "bdf1e86e",
   "metadata": {},
   "outputs": [
    {
     "data": {
      "text/html": [
       "<div>\n",
       "<style scoped>\n",
       "    .dataframe tbody tr th:only-of-type {\n",
       "        vertical-align: middle;\n",
       "    }\n",
       "\n",
       "    .dataframe tbody tr th {\n",
       "        vertical-align: top;\n",
       "    }\n",
       "\n",
       "    .dataframe thead th {\n",
       "        text-align: right;\n",
       "    }\n",
       "</style>\n",
       "<table border=\"1\" class=\"dataframe\">\n",
       "  <thead>\n",
       "    <tr style=\"text-align: right;\">\n",
       "      <th></th>\n",
       "      <th>id</th>\n",
       "      <th>latitude</th>\n",
       "      <th>longitude</th>\n",
       "      <th>room_type</th>\n",
       "      <th>minimum_nights</th>\n",
       "      <th>number_of_reviews</th>\n",
       "      <th>reviews_per_month</th>\n",
       "      <th>calculated_host_listings_count</th>\n",
       "      <th>availability_365</th>\n",
       "      <th>city</th>\n",
       "      <th>price</th>\n",
       "      <th>Age_Last_Review</th>\n",
       "    </tr>\n",
       "  </thead>\n",
       "  <tbody>\n",
       "    <tr>\n",
       "      <th>0</th>\n",
       "      <td>149653</td>\n",
       "      <td>40.71703</td>\n",
       "      <td>-73.99538</td>\n",
       "      <td>Private room</td>\n",
       "      <td>2.00000</td>\n",
       "      <td>17.00000</td>\n",
       "      <td>1.04000</td>\n",
       "      <td>1.00000</td>\n",
       "      <td>0.00000</td>\n",
       "      <td>New York City</td>\n",
       "      <td>100.00000</td>\n",
       "      <td>4.00000</td>\n",
       "    </tr>\n",
       "    <tr>\n",
       "      <th>1</th>\n",
       "      <td>74702</td>\n",
       "      <td>34.01257</td>\n",
       "      <td>-118.44254</td>\n",
       "      <td>Entire home/apt</td>\n",
       "      <td>2.00000</td>\n",
       "      <td>331.00000</td>\n",
       "      <td>4.28000</td>\n",
       "      <td>1.00000</td>\n",
       "      <td>170.00000</td>\n",
       "      <td>Los Angeles</td>\n",
       "      <td>102.00000</td>\n",
       "      <td>3.00000</td>\n",
       "    </tr>\n",
       "    <tr>\n",
       "      <th>2</th>\n",
       "      <td>95858</td>\n",
       "      <td>34.14255</td>\n",
       "      <td>-118.09888</td>\n",
       "      <td>Entire home/apt</td>\n",
       "      <td>10.00000</td>\n",
       "      <td>4.00000</td>\n",
       "      <td>0.37000</td>\n",
       "      <td>1.00000</td>\n",
       "      <td>306.00000</td>\n",
       "      <td>Los Angeles</td>\n",
       "      <td>131.00000</td>\n",
       "      <td>3.00000</td>\n",
       "    </tr>\n",
       "    <tr>\n",
       "      <th>3</th>\n",
       "      <td>61301</td>\n",
       "      <td>21.88471</td>\n",
       "      <td>-159.48359</td>\n",
       "      <td>Entire home/apt</td>\n",
       "      <td>1.00000</td>\n",
       "      <td>0.00000</td>\n",
       "      <td>0.00000</td>\n",
       "      <td>19.00000</td>\n",
       "      <td>358.00000</td>\n",
       "      <td>Hawaii</td>\n",
       "      <td>2399.00000</td>\n",
       "      <td>0.00000</td>\n",
       "    </tr>\n",
       "    <tr>\n",
       "      <th>4</th>\n",
       "      <td>132101</td>\n",
       "      <td>40.76623</td>\n",
       "      <td>-73.90911</td>\n",
       "      <td>Entire home/apt</td>\n",
       "      <td>2.00000</td>\n",
       "      <td>189.00000</td>\n",
       "      <td>3.82000</td>\n",
       "      <td>1.00000</td>\n",
       "      <td>331.00000</td>\n",
       "      <td>New York City</td>\n",
       "      <td>76.00000</td>\n",
       "      <td>3.00000</td>\n",
       "    </tr>\n",
       "  </tbody>\n",
       "</table>\n",
       "</div>"
      ],
      "text/plain": [
       "       id  latitude  longitude        room_type  minimum_nights  \\\n",
       "0  149653  40.71703  -73.99538     Private room         2.00000   \n",
       "1   74702  34.01257 -118.44254  Entire home/apt         2.00000   \n",
       "2   95858  34.14255 -118.09888  Entire home/apt        10.00000   \n",
       "3   61301  21.88471 -159.48359  Entire home/apt         1.00000   \n",
       "4  132101  40.76623  -73.90911  Entire home/apt         2.00000   \n",
       "\n",
       "   number_of_reviews  reviews_per_month  calculated_host_listings_count  \\\n",
       "0           17.00000            1.04000                         1.00000   \n",
       "1          331.00000            4.28000                         1.00000   \n",
       "2            4.00000            0.37000                         1.00000   \n",
       "3            0.00000            0.00000                        19.00000   \n",
       "4          189.00000            3.82000                         1.00000   \n",
       "\n",
       "   availability_365           city      price  Age_Last_Review  \n",
       "0           0.00000  New York City  100.00000          4.00000  \n",
       "1         170.00000    Los Angeles  102.00000          3.00000  \n",
       "2         306.00000    Los Angeles  131.00000          3.00000  \n",
       "3         358.00000         Hawaii 2399.00000          0.00000  \n",
       "4         331.00000  New York City   76.00000          3.00000  "
      ]
     },
     "execution_count": 77,
     "metadata": {},
     "output_type": "execute_result"
    }
   ],
   "source": [
    "rent_train.head()"
   ]
  },
  {
   "cell_type": "code",
   "execution_count": 78,
   "id": "fabb9921",
   "metadata": {},
   "outputs": [
    {
     "name": "stdout",
     "output_type": "stream",
     "text": [
      "<class 'pandas.core.frame.DataFrame'>\n",
      "RangeIndex: 137023 entries, 0 to 137022\n",
      "Data columns (total 12 columns):\n",
      " #   Column                          Non-Null Count   Dtype  \n",
      "---  ------                          --------------   -----  \n",
      " 0   id                              137023 non-null  int64  \n",
      " 1   latitude                        137023 non-null  float64\n",
      " 2   longitude                       137023 non-null  float64\n",
      " 3   room_type                       137023 non-null  object \n",
      " 4   minimum_nights                  137023 non-null  float64\n",
      " 5   number_of_reviews               137023 non-null  float64\n",
      " 6   reviews_per_month               137023 non-null  float64\n",
      " 7   calculated_host_listings_count  137023 non-null  float64\n",
      " 8   availability_365                137023 non-null  float64\n",
      " 9   city                            137023 non-null  object \n",
      " 10  price                           137023 non-null  float64\n",
      " 11  Age_Last_Review                 137023 non-null  float64\n",
      "dtypes: float64(9), int64(1), object(2)\n",
      "memory usage: 12.5+ MB\n"
     ]
    }
   ],
   "source": [
    "# info of rent data after data prep\n",
    "rent_train.info()"
   ]
  },
  {
   "cell_type": "code",
   "execution_count": 26,
   "id": "2eaa4fe8",
   "metadata": {},
   "outputs": [
    {
     "name": "stderr",
     "output_type": "stream",
     "text": [
      "C:\\Users\\vc00482003\\Anaconda3\\lib\\site-packages\\seaborn\\_decorators.py:36: FutureWarning: Pass the following variable as a keyword arg: x. From version 0.12, the only valid positional argument will be `data`, and passing other arguments without an explicit keyword will result in an error or misinterpretation.\n",
      "  warnings.warn(\n"
     ]
    },
    {
     "data": {
      "text/plain": [
       "<AxesSubplot:xlabel='city', ylabel='count'>"
      ]
     },
     "execution_count": 26,
     "metadata": {},
     "output_type": "execute_result"
    },
    {
     "data": {
      "image/png": "[encoded data removed]",
      "text/plain": [
       "<Figure size 1440x720 with 1 Axes>"
      ]
     },
     "metadata": {},
     "output_type": "display_data"
    }
   ],
   "source": [
    "#EDA\n",
    "# 1) what is the distribution of hotels across the cities ( univariate)\n",
    "# Creating a custom figure size of 15 X 7 inches\n",
    "figure = plt.figure(figsize=[20, 10])\n",
    "sns.countplot(rent_train['city']) \n",
    "# highest hotel lisitng are in NYC and least are in Pacific Grove"
   ]
  },
  {
   "cell_type": "code",
   "execution_count": 27,
   "id": "89c2c23c",
   "metadata": {},
   "outputs": [
    {
     "name": "stderr",
     "output_type": "stream",
     "text": [
      "C:\\Users\\vc00482003\\Anaconda3\\lib\\site-packages\\seaborn\\_decorators.py:36: FutureWarning: Pass the following variable as a keyword arg: x. From version 0.12, the only valid positional argument will be `data`, and passing other arguments without an explicit keyword will result in an error or misinterpretation.\n",
      "  warnings.warn(\n"
     ]
    },
    {
     "data": {
      "text/plain": [
       "<AxesSubplot:xlabel='room_type', ylabel='count'>"
      ]
     },
     "execution_count": 27,
     "metadata": {},
     "output_type": "execute_result"
    },
    {
     "data": {
      "image/png": "[encoded data removed]",
      "text/plain": [
       "<Figure size 1440x720 with 1 Axes>"
      ]
     },
     "metadata": {},
     "output_type": "display_data"
    }
   ],
   "source": [
    "# 2) what is the room type distri of hotels ( uni)\n",
    "# Creating a custom figure size of 15 X 7 inches\n",
    "figure = plt.figure(figsize=[20, 10])\n",
    "sns.countplot(rent_train['room_type']) \n",
    "# Most property listed are entire house and then private rooms, very few shared or hotel room listed"
   ]
  },
  {
   "cell_type": "code",
   "execution_count": 31,
   "id": "5980e1fb",
   "metadata": {},
   "outputs": [
    {
     "data": {
      "text/plain": [
       "<seaborn.axisgrid.FacetGrid at 0x1544f879730>"
      ]
     },
     "execution_count": 31,
     "metadata": {},
     "output_type": "execute_result"
    },
    {
     "data": {
      "image/png": "[encoded data removed]",
      "text/plain": [
       "<Figure size 1080x360 with 1 Axes>"
      ]
     },
     "metadata": {},
     "output_type": "display_data"
    }
   ],
   "source": [
    "# how is price correlated to city\n",
    "sns.catplot(data=rent_train, x=\"city\", y=\"price\",kind=\"bar\",height=5,aspect=3)\n",
    "# columbus & hawaii seem to have the most pricey rentals amongst the cities"
   ]
  },
  {
   "cell_type": "code",
   "execution_count": 36,
   "id": "38fc7cfd",
   "metadata": {},
   "outputs": [
    {
     "data": {
      "image/png": "[encoded data removed]",
      "text/plain": [
       "<Figure size 1080x504 with 1 Axes>"
      ]
     },
     "metadata": {},
     "output_type": "display_data"
    }
   ],
   "source": [
    "#4)how is min nights related to price\n",
    "# Creating a custom figure size of 15 X 7 inches\n",
    "# as mn nights decreases, the price of property increases and vise versa\n",
    "figure = plt.figure(figsize=[15, 7])\n",
    "\n",
    "# Using magic of seabron regplot() function\n",
    "sns.regplot(x='minimum_nights', y='price', data=rent_train, color='brown')\n",
    "\n",
    "# Changing x-ticks ranging from 0 to 90 with step size of 5 and label size of 12\n",
    "plt.xticks(ticks=np.arange(0, 1400, 250), size=12)\n",
    "\n",
    "# Changing y-ticks ranging from 0 to 800 with step size of 50 and label size of 12\n",
    "plt.yticks(ticks=np.arange(0, 25000, 5000), size=12)\n",
    "\n",
    "# Labelling x-axis with a custom label and size of 14\n",
    "plt.xlabel(xlabel='Min Nights', size=14)\n",
    "\n",
    "# Labelling y-axis with a custom label and size of 14\n",
    "plt.ylabel(ylabel='Price', size=14)\n",
    "\n",
    "# Labelling title with a custom label and size of 14\n",
    "plt.title(label='Price vs Nights', size=16)\n",
    "\n",
    "# Dispaly the output by rendering visual on the screen\n",
    "plt.show()"
   ]
  },
  {
   "cell_type": "code",
   "execution_count": 37,
   "id": "5269c0fc",
   "metadata": {},
   "outputs": [
    {
     "data": {
      "text/plain": [
       "<seaborn.axisgrid.FacetGrid at 0x1546bd52790>"
      ]
     },
     "execution_count": 37,
     "metadata": {},
     "output_type": "execute_result"
    },
    {
     "data": {
      "image/png": "[encoded data removed]",
      "text/plain": [
       "<Figure size 1080x360 with 1 Axes>"
      ]
     },
     "metadata": {},
     "output_type": "display_data"
    }
   ],
   "source": [
    "# 5)how is number of reviews related to room type\n",
    "sns.catplot(data=rent_train, x=\"room_type\", y=\"number_of_reviews\",kind=\"bar\",height=5,aspect=3)\n",
    "# Entire home & private rooms have hightes number of reviews"
   ]
  },
  {
   "cell_type": "code",
   "execution_count": 38,
   "id": "4cb0cb94",
   "metadata": {},
   "outputs": [
    {
     "data": {
      "text/plain": [
       "<seaborn.axisgrid.FacetGrid at 0x1547852be20>"
      ]
     },
     "execution_count": 38,
     "metadata": {},
     "output_type": "execute_result"
    },
    {
     "data": {
      "image/png": "[encoded data removed]",
      "text/plain": [
       "<Figure size 1080x360 with 1 Axes>"
      ]
     },
     "metadata": {},
     "output_type": "display_data"
    }
   ],
   "source": [
    "#6) how is reviews per month related to room type\n",
    "sns.catplot(data=rent_train, x=\"room_type\", y=\"reviews_per_month\",kind=\"bar\",height=5,aspect=3)\n",
    "# Entire home & hotel rooms have highest number of reviews per month"
   ]
  },
  {
   "cell_type": "code",
   "execution_count": 39,
   "id": "0ae5f6f6",
   "metadata": {},
   "outputs": [
    {
     "data": {
      "text/plain": [
       "<seaborn.axisgrid.FacetGrid at 0x154733ce970>"
      ]
     },
     "execution_count": 39,
     "metadata": {},
     "output_type": "execute_result"
    },
    {
     "data": {
      "image/png": "[encoded data removed]",
      "text/plain": [
       "<Figure size 1080x360 with 1 Axes>"
      ]
     },
     "metadata": {},
     "output_type": "display_data"
    }
   ],
   "source": [
    "#7)how is room availabilty related to room type \n",
    "sns.catplot(data=rent_train, x=\"room_type\", y=\"availability_365\",kind=\"bar\",height=5,aspect=3)\n",
    "# availabiity of shared & hotel rooms ae higher than privat or entire homes.."
   ]
  },
  {
   "cell_type": "code",
   "execution_count": 40,
   "id": "e55a2135",
   "metadata": {},
   "outputs": [
    {
     "data": {
      "text/plain": [
       "<seaborn.axisgrid.FacetGrid at 0x15478552910>"
      ]
     },
     "execution_count": 40,
     "metadata": {},
     "output_type": "execute_result"
    },
    {
     "data": {
      "image/png": "[encoded data removed]",
      "text/plain": [
       "<Figure size 1080x360 with 1 Axes>"
      ]
     },
     "metadata": {},
     "output_type": "display_data"
    }
   ],
   "source": [
    "#8) how is room type related to price\n",
    "sns.catplot(data=rent_train, x=\"room_type\", y=\"price\",kind=\"bar\",height=5,aspect=3)\n",
    "# Hotel rooms & Entire homes are high price rentals"
   ]
  },
  {
   "cell_type": "code",
   "execution_count": 41,
   "id": "30180ad1",
   "metadata": {},
   "outputs": [
    {
     "data": {
      "image/png": "[encoded data removed]",
      "text/plain": [
       "<Figure size 1080x504 with 1 Axes>"
      ]
     },
     "metadata": {},
     "output_type": "display_data"
    }
   ],
   "source": [
    "#9)how is room availabiity related to price\n",
    "# Creating a custom figure size of 15 X 7 inches\n",
    "# as price increases, availabitity descreaes,\n",
    "figure = plt.figure(figsize=[15, 7])\n",
    "\n",
    "# Using magic of seabron regplot() function\n",
    "sns.regplot(x='availability_365', y='price', data=rent_train, color='brown')\n",
    "\n",
    "# Changing x-ticks ranging from 0 to 90 with step size of 5 and label size of 12\n",
    "plt.xticks(ticks=np.arange(0, 400, 25), size=12)\n",
    "\n",
    "# Changing y-ticks ranging from 0 to 800 with step size of 50 and label size of 12\n",
    "plt.yticks(ticks=np.arange(0, 25000, 5000), size=12)\n",
    "\n",
    "# Labelling x-axis with a custom label and size of 14\n",
    "plt.xlabel(xlabel='Availability', size=14)\n",
    "\n",
    "# Labelling y-axis with a custom label and size of 14\n",
    "plt.ylabel(ylabel='Price', size=14)\n",
    "\n",
    "# Labelling title with a custom label and size of 14\n",
    "plt.title(label='Availability vs Nights', size=16)\n",
    "\n",
    "# Dispaly the output by rendering visual on the screen\n",
    "plt.show()\n"
   ]
  },
  {
   "cell_type": "code",
   "execution_count": 42,
   "id": "a8a3491e",
   "metadata": {},
   "outputs": [
    {
     "data": {
      "text/plain": [
       "<seaborn.axisgrid.FacetGrid at 0x15472cb4040>"
      ]
     },
     "execution_count": 42,
     "metadata": {},
     "output_type": "execute_result"
    },
    {
     "data": {
      "image/png": "[encoded data removed]",
      "text/plain": [
       "<Figure size 1080x360 with 1 Axes>"
      ]
     },
     "metadata": {},
     "output_type": "display_data"
    }
   ],
   "source": [
    "#10)which city has the most availability of rooms\n",
    "sns.catplot(data=rent_train, x=\"city\", y=\"availability_365\",kind=\"bar\",height=5,aspect=3)\n",
    "# Hawaii, LA,Broward county has high availaibity of rooms"
   ]
  },
  {
   "cell_type": "code",
   "execution_count": 16,
   "id": "b0459749",
   "metadata": {},
   "outputs": [
    {
     "data": {
      "text/plain": [
       "<seaborn.axisgrid.FacetGrid at 0x226bed45430>"
      ]
     },
     "execution_count": 16,
     "metadata": {},
     "output_type": "execute_result"
    },
    {
     "data": {
      "image/png": "[encoded data removed]",
      "text/plain": [
       "<Figure size 1080x360 with 1 Axes>"
      ]
     },
     "metadata": {},
     "output_type": "display_data"
    }
   ],
   "source": [
    "#11)how is host listing related to the city\n",
    "sns.catplot(data=rent_train, x=\"city\", y=\"calculated_host_listings_count\", kind=\"bar\", height=5,aspect=3)\n",
    "#Hawai and Austin have the most city listings\n"
   ]
  },
  {
   "cell_type": "code",
   "execution_count": 43,
   "id": "5360b246",
   "metadata": {},
   "outputs": [
    {
     "data": {
      "text/plain": [
       "Text(0.5, 1.0, 'Correlation between features')"
      ]
     },
     "execution_count": 43,
     "metadata": {},
     "output_type": "execute_result"
    },
    {
     "data": {
      "image/png": "[encoded data removed]",
      "text/plain": [
       "<Figure size 1800x792 with 2 Axes>"
      ]
     },
     "metadata": {},
     "output_type": "display_data"
    }
   ],
   "source": [
    "#12)Correlation plot\n",
    "# Correlation plot analysis\n",
    "corr = rent_train.corr()\n",
    "plt.figure(figsize=(25,11))\n",
    "sns.heatmap(corr,vmax=.8,linewidth=.01, square = True, annot = True,cmap='YlGnBu',linecolor ='black')\n",
    "plt.title('Correlation between features')"
   ]
  },
  {
   "cell_type": "code",
   "execution_count": 79,
   "id": "7ffb8663",
   "metadata": {},
   "outputs": [
    {
     "name": "stdout",
     "output_type": "stream",
     "text": [
      "Total Categorical Features: 2\n"
     ]
    },
    {
     "data": {
      "text/html": [
       "<div>\n",
       "<style scoped>\n",
       "    .dataframe tbody tr th:only-of-type {\n",
       "        vertical-align: middle;\n",
       "    }\n",
       "\n",
       "    .dataframe tbody tr th {\n",
       "        vertical-align: top;\n",
       "    }\n",
       "\n",
       "    .dataframe thead th {\n",
       "        text-align: right;\n",
       "    }\n",
       "</style>\n",
       "<table border=\"1\" class=\"dataframe\">\n",
       "  <thead>\n",
       "    <tr style=\"text-align: right;\">\n",
       "      <th></th>\n",
       "      <th>room_type</th>\n",
       "      <th>city</th>\n",
       "    </tr>\n",
       "  </thead>\n",
       "  <tbody>\n",
       "    <tr>\n",
       "      <th>Length</th>\n",
       "      <td>4</td>\n",
       "      <td>19</td>\n",
       "    </tr>\n",
       "  </tbody>\n",
       "</table>\n",
       "</div>"
      ],
      "text/plain": [
       "        room_type  city\n",
       "Length          4    19"
      ]
     },
     "execution_count": 79,
     "metadata": {},
     "output_type": "execute_result"
    }
   ],
   "source": [
    "# Data Post processsing \n",
    "# Find classes of categorical variables \n",
    "\n",
    "# Intialize empty list for categorical features and their length\n",
    "cat_features = []\n",
    "label_len = []\n",
    "\n",
    "# Identify categorical features\n",
    "for i in rent_train.columns:\n",
    "  if (rent_train[i].dtype == object):\n",
    "    cat_features.append(i)\n",
    "\n",
    "# Identify labels length per leature\n",
    "for i in cat_features:\n",
    "  label_len.append(len(rent_train[i].unique()))\n",
    "\n",
    "# Display total categorical features\n",
    "print('Total Categorical Features:', len(cat_features))\n",
    "\n",
    "# Create and show categorical feature frame\n",
    "cat_frame = pd.DataFrame(data = {'Length': label_len}, index=cat_features)\n",
    "cat_frame.transpose()"
   ]
  },
  {
   "cell_type": "code",
   "execution_count": 80,
   "id": "9d096559",
   "metadata": {},
   "outputs": [],
   "source": [
    "# drop ID\n",
    "rent_train.drop(['id'], axis=1,inplace=True)"
   ]
  },
  {
   "cell_type": "code",
   "execution_count": 81,
   "id": "5ef042b5",
   "metadata": {},
   "outputs": [
    {
     "name": "stdout",
     "output_type": "stream",
     "text": [
      "<class 'pandas.core.frame.DataFrame'>\n",
      "RangeIndex: 137023 entries, 0 to 137022\n",
      "Data columns (total 11 columns):\n",
      " #   Column                          Non-Null Count   Dtype  \n",
      "---  ------                          --------------   -----  \n",
      " 0   latitude                        137023 non-null  float64\n",
      " 1   longitude                       137023 non-null  float64\n",
      " 2   room_type                       137023 non-null  object \n",
      " 3   minimum_nights                  137023 non-null  float64\n",
      " 4   number_of_reviews               137023 non-null  float64\n",
      " 5   reviews_per_month               137023 non-null  float64\n",
      " 6   calculated_host_listings_count  137023 non-null  float64\n",
      " 7   availability_365                137023 non-null  float64\n",
      " 8   city                            137023 non-null  object \n",
      " 9   price                           137023 non-null  float64\n",
      " 10  Age_Last_Review                 137023 non-null  float64\n",
      "dtypes: float64(9), object(2)\n",
      "memory usage: 11.5+ MB\n"
     ]
    }
   ],
   "source": [
    "rent_train.info()"
   ]
  },
  {
   "cell_type": "code",
   "execution_count": 12,
   "id": "a808cdc3",
   "metadata": {},
   "outputs": [
    {
     "data": {
      "text/plain": [
       "Index(['latitude', 'longitude', 'room_type', 'minimum_nights',\n",
       "       'number_of_reviews', 'reviews_per_month',\n",
       "       'calculated_host_listings_count', 'availability_365', 'city', 'price',\n",
       "       'Age_Last_Review'],\n",
       "      dtype='object')"
      ]
     },
     "execution_count": 12,
     "metadata": {},
     "output_type": "execute_result"
    }
   ],
   "source": [
    "rent_train.columns"
   ]
  },
  {
   "cell_type": "code",
   "execution_count": 82,
   "id": "51843fb4",
   "metadata": {},
   "outputs": [
    {
     "name": "stdout",
     "output_type": "stream",
     "text": [
      "Data Shape: (137023, 8)\n"
     ]
    },
    {
     "data": {
      "text/html": [
       "<div>\n",
       "<style scoped>\n",
       "    .dataframe tbody tr th:only-of-type {\n",
       "        vertical-align: middle;\n",
       "    }\n",
       "\n",
       "    .dataframe tbody tr th {\n",
       "        vertical-align: top;\n",
       "    }\n",
       "\n",
       "    .dataframe thead th {\n",
       "        text-align: right;\n",
       "    }\n",
       "</style>\n",
       "<table border=\"1\" class=\"dataframe\">\n",
       "  <thead>\n",
       "    <tr style=\"text-align: right;\">\n",
       "      <th></th>\n",
       "      <th>latitude</th>\n",
       "      <th>longitude</th>\n",
       "      <th>minimum_nights</th>\n",
       "      <th>number_of_reviews</th>\n",
       "      <th>reviews_per_month</th>\n",
       "      <th>calculated_host_listings_count</th>\n",
       "      <th>availability_365</th>\n",
       "      <th>Age_Last_Review</th>\n",
       "    </tr>\n",
       "  </thead>\n",
       "  <tbody>\n",
       "    <tr>\n",
       "      <th>0</th>\n",
       "      <td>40.71703</td>\n",
       "      <td>-73.99538</td>\n",
       "      <td>2.00000</td>\n",
       "      <td>17.00000</td>\n",
       "      <td>1.04000</td>\n",
       "      <td>1.00000</td>\n",
       "      <td>0.00000</td>\n",
       "      <td>4.00000</td>\n",
       "    </tr>\n",
       "    <tr>\n",
       "      <th>1</th>\n",
       "      <td>34.01257</td>\n",
       "      <td>-118.44254</td>\n",
       "      <td>2.00000</td>\n",
       "      <td>331.00000</td>\n",
       "      <td>4.28000</td>\n",
       "      <td>1.00000</td>\n",
       "      <td>170.00000</td>\n",
       "      <td>3.00000</td>\n",
       "    </tr>\n",
       "    <tr>\n",
       "      <th>2</th>\n",
       "      <td>34.14255</td>\n",
       "      <td>-118.09888</td>\n",
       "      <td>10.00000</td>\n",
       "      <td>4.00000</td>\n",
       "      <td>0.37000</td>\n",
       "      <td>1.00000</td>\n",
       "      <td>306.00000</td>\n",
       "      <td>3.00000</td>\n",
       "    </tr>\n",
       "    <tr>\n",
       "      <th>3</th>\n",
       "      <td>21.88471</td>\n",
       "      <td>-159.48359</td>\n",
       "      <td>1.00000</td>\n",
       "      <td>0.00000</td>\n",
       "      <td>0.00000</td>\n",
       "      <td>19.00000</td>\n",
       "      <td>358.00000</td>\n",
       "      <td>0.00000</td>\n",
       "    </tr>\n",
       "    <tr>\n",
       "      <th>4</th>\n",
       "      <td>40.76623</td>\n",
       "      <td>-73.90911</td>\n",
       "      <td>2.00000</td>\n",
       "      <td>189.00000</td>\n",
       "      <td>3.82000</td>\n",
       "      <td>1.00000</td>\n",
       "      <td>331.00000</td>\n",
       "      <td>3.00000</td>\n",
       "    </tr>\n",
       "  </tbody>\n",
       "</table>\n",
       "</div>"
      ],
      "text/plain": [
       "   latitude  longitude  minimum_nights  number_of_reviews  reviews_per_month  \\\n",
       "0  40.71703  -73.99538         2.00000           17.00000            1.04000   \n",
       "1  34.01257 -118.44254         2.00000          331.00000            4.28000   \n",
       "2  34.14255 -118.09888        10.00000            4.00000            0.37000   \n",
       "3  21.88471 -159.48359         1.00000            0.00000            0.00000   \n",
       "4  40.76623  -73.90911         2.00000          189.00000            3.82000   \n",
       "\n",
       "   calculated_host_listings_count  availability_365  Age_Last_Review  \n",
       "0                         1.00000           0.00000          4.00000  \n",
       "1                         1.00000         170.00000          3.00000  \n",
       "2                         1.00000         306.00000          3.00000  \n",
       "3                        19.00000         358.00000          0.00000  \n",
       "4                         1.00000         331.00000          3.00000  "
      ]
     },
     "execution_count": 82,
     "metadata": {},
     "output_type": "execute_result"
    }
   ],
   "source": [
    "# Filter data into cat & continuous variable & Target variable\n",
    "rent_train_con = rent_train[['latitude', 'longitude', 'minimum_nights',\n",
    "       'number_of_reviews', 'reviews_per_month',\n",
    "       'calculated_host_listings_count', 'availability_365',\n",
    "       'Age_Last_Review']]\n",
    "print('Data Shape:', rent_train_con.shape)\n",
    "rent_train_con.head() "
   ]
  },
  {
   "cell_type": "code",
   "execution_count": 83,
   "id": "414d786d",
   "metadata": {},
   "outputs": [
    {
     "name": "stdout",
     "output_type": "stream",
     "text": [
      "Data Shape: (137023, 3)\n"
     ]
    },
    {
     "data": {
      "text/html": [
       "<div>\n",
       "<style scoped>\n",
       "    .dataframe tbody tr th:only-of-type {\n",
       "        vertical-align: middle;\n",
       "    }\n",
       "\n",
       "    .dataframe tbody tr th {\n",
       "        vertical-align: top;\n",
       "    }\n",
       "\n",
       "    .dataframe thead th {\n",
       "        text-align: right;\n",
       "    }\n",
       "</style>\n",
       "<table border=\"1\" class=\"dataframe\">\n",
       "  <thead>\n",
       "    <tr style=\"text-align: right;\">\n",
       "      <th></th>\n",
       "      <th>room_type</th>\n",
       "      <th>city</th>\n",
       "      <th>price</th>\n",
       "    </tr>\n",
       "  </thead>\n",
       "  <tbody>\n",
       "    <tr>\n",
       "      <th>0</th>\n",
       "      <td>Private room</td>\n",
       "      <td>New York City</td>\n",
       "      <td>100.00000</td>\n",
       "    </tr>\n",
       "    <tr>\n",
       "      <th>1</th>\n",
       "      <td>Entire home/apt</td>\n",
       "      <td>Los Angeles</td>\n",
       "      <td>102.00000</td>\n",
       "    </tr>\n",
       "    <tr>\n",
       "      <th>2</th>\n",
       "      <td>Entire home/apt</td>\n",
       "      <td>Los Angeles</td>\n",
       "      <td>131.00000</td>\n",
       "    </tr>\n",
       "    <tr>\n",
       "      <th>3</th>\n",
       "      <td>Entire home/apt</td>\n",
       "      <td>Hawaii</td>\n",
       "      <td>2399.00000</td>\n",
       "    </tr>\n",
       "    <tr>\n",
       "      <th>4</th>\n",
       "      <td>Entire home/apt</td>\n",
       "      <td>New York City</td>\n",
       "      <td>76.00000</td>\n",
       "    </tr>\n",
       "  </tbody>\n",
       "</table>\n",
       "</div>"
      ],
      "text/plain": [
       "         room_type           city      price\n",
       "0     Private room  New York City  100.00000\n",
       "1  Entire home/apt    Los Angeles  102.00000\n",
       "2  Entire home/apt    Los Angeles  131.00000\n",
       "3  Entire home/apt         Hawaii 2399.00000\n",
       "4  Entire home/apt  New York City   76.00000"
      ]
     },
     "execution_count": 83,
     "metadata": {},
     "output_type": "execute_result"
    }
   ],
   "source": [
    "# Filter Categorical variable & Target Variable\n",
    "rent_train_cat = rent_train[['room_type','city','price']]\n",
    "print('Data Shape:', rent_train_cat.shape)\n",
    "rent_train_cat.head()"
   ]
  },
  {
   "cell_type": "code",
   "execution_count": 84,
   "id": "fb139d75",
   "metadata": {},
   "outputs": [
    {
     "data": {
      "text/plain": [
       "Index(['latitude', 'longitude', 'minimum_nights', 'number_of_reviews',\n",
       "       'reviews_per_month', 'calculated_host_listings_count',\n",
       "       'availability_365', 'Age_Last_Review'],\n",
       "      dtype='object')"
      ]
     },
     "execution_count": 84,
     "metadata": {},
     "output_type": "execute_result"
    }
   ],
   "source": [
    "# Scaling the continuous variables for train & test data\n",
    "rent_train_con.columns"
   ]
  },
  {
   "cell_type": "code",
   "execution_count": 85,
   "id": "f74a15fe",
   "metadata": {},
   "outputs": [
    {
     "name": "stderr",
     "output_type": "stream",
     "text": [
      "C:\\Users\\vc00482003\\AppData\\Local\\Temp\\ipykernel_12640\\472834717.py:4: SettingWithCopyWarning: \n",
      "A value is trying to be set on a copy of a slice from a DataFrame.\n",
      "Try using .loc[row_indexer,col_indexer] = value instead\n",
      "\n",
      "See the caveats in the documentation: https://pandas.pydata.org/pandas-docs/stable/user_guide/indexing.html#returning-a-view-versus-a-copy\n",
      "  rent_train_con['longitude_pos'] = rent_train_con['longitude'] + abs(rent_train_con['longitude'].min()) + 1\n"
     ]
    }
   ],
   "source": [
    "# Log transformation\n",
    "\n",
    "# add a constant to make all values positive\n",
    "rent_train_con['longitude_pos'] = rent_train_con['longitude'] + abs(rent_train_con['longitude'].min()) + 1"
   ]
  },
  {
   "cell_type": "code",
   "execution_count": 86,
   "id": "b465bbc1",
   "metadata": {},
   "outputs": [
    {
     "data": {
      "text/html": [
       "<div>\n",
       "<style scoped>\n",
       "    .dataframe tbody tr th:only-of-type {\n",
       "        vertical-align: middle;\n",
       "    }\n",
       "\n",
       "    .dataframe tbody tr th {\n",
       "        vertical-align: top;\n",
       "    }\n",
       "\n",
       "    .dataframe thead th {\n",
       "        text-align: right;\n",
       "    }\n",
       "</style>\n",
       "<table border=\"1\" class=\"dataframe\">\n",
       "  <thead>\n",
       "    <tr style=\"text-align: right;\">\n",
       "      <th></th>\n",
       "      <th>latitude</th>\n",
       "      <th>longitude</th>\n",
       "      <th>minimum_nights</th>\n",
       "      <th>number_of_reviews</th>\n",
       "      <th>reviews_per_month</th>\n",
       "      <th>calculated_host_listings_count</th>\n",
       "      <th>availability_365</th>\n",
       "      <th>Age_Last_Review</th>\n",
       "      <th>longitude_pos</th>\n",
       "    </tr>\n",
       "  </thead>\n",
       "  <tbody>\n",
       "    <tr>\n",
       "      <th>0</th>\n",
       "      <td>40.71703</td>\n",
       "      <td>-73.99538</td>\n",
       "      <td>2.00000</td>\n",
       "      <td>17.00000</td>\n",
       "      <td>1.04000</td>\n",
       "      <td>1.00000</td>\n",
       "      <td>0.00000</td>\n",
       "      <td>4.00000</td>\n",
       "      <td>86.71952</td>\n",
       "    </tr>\n",
       "    <tr>\n",
       "      <th>1</th>\n",
       "      <td>34.01257</td>\n",
       "      <td>-118.44254</td>\n",
       "      <td>2.00000</td>\n",
       "      <td>331.00000</td>\n",
       "      <td>4.28000</td>\n",
       "      <td>1.00000</td>\n",
       "      <td>170.00000</td>\n",
       "      <td>3.00000</td>\n",
       "      <td>42.27236</td>\n",
       "    </tr>\n",
       "    <tr>\n",
       "      <th>2</th>\n",
       "      <td>34.14255</td>\n",
       "      <td>-118.09888</td>\n",
       "      <td>10.00000</td>\n",
       "      <td>4.00000</td>\n",
       "      <td>0.37000</td>\n",
       "      <td>1.00000</td>\n",
       "      <td>306.00000</td>\n",
       "      <td>3.00000</td>\n",
       "      <td>42.61602</td>\n",
       "    </tr>\n",
       "    <tr>\n",
       "      <th>3</th>\n",
       "      <td>21.88471</td>\n",
       "      <td>-159.48359</td>\n",
       "      <td>1.00000</td>\n",
       "      <td>0.00000</td>\n",
       "      <td>0.00000</td>\n",
       "      <td>19.00000</td>\n",
       "      <td>358.00000</td>\n",
       "      <td>0.00000</td>\n",
       "      <td>1.23131</td>\n",
       "    </tr>\n",
       "    <tr>\n",
       "      <th>4</th>\n",
       "      <td>40.76623</td>\n",
       "      <td>-73.90911</td>\n",
       "      <td>2.00000</td>\n",
       "      <td>189.00000</td>\n",
       "      <td>3.82000</td>\n",
       "      <td>1.00000</td>\n",
       "      <td>331.00000</td>\n",
       "      <td>3.00000</td>\n",
       "      <td>86.80579</td>\n",
       "    </tr>\n",
       "  </tbody>\n",
       "</table>\n",
       "</div>"
      ],
      "text/plain": [
       "   latitude  longitude  minimum_nights  number_of_reviews  reviews_per_month  \\\n",
       "0  40.71703  -73.99538         2.00000           17.00000            1.04000   \n",
       "1  34.01257 -118.44254         2.00000          331.00000            4.28000   \n",
       "2  34.14255 -118.09888        10.00000            4.00000            0.37000   \n",
       "3  21.88471 -159.48359         1.00000            0.00000            0.00000   \n",
       "4  40.76623  -73.90911         2.00000          189.00000            3.82000   \n",
       "\n",
       "   calculated_host_listings_count  availability_365  Age_Last_Review  \\\n",
       "0                         1.00000           0.00000          4.00000   \n",
       "1                         1.00000         170.00000          3.00000   \n",
       "2                         1.00000         306.00000          3.00000   \n",
       "3                        19.00000         358.00000          0.00000   \n",
       "4                         1.00000         331.00000          3.00000   \n",
       "\n",
       "   longitude_pos  \n",
       "0       86.71952  \n",
       "1       42.27236  \n",
       "2       42.61602  \n",
       "3        1.23131  \n",
       "4       86.80579  "
      ]
     },
     "execution_count": 86,
     "metadata": {},
     "output_type": "execute_result"
    }
   ],
   "source": [
    "rent_train_con.head()"
   ]
  },
  {
   "cell_type": "code",
   "execution_count": 87,
   "id": "45841df4",
   "metadata": {},
   "outputs": [
    {
     "name": "stderr",
     "output_type": "stream",
     "text": [
      "C:\\Users\\vc00482003\\AppData\\Local\\Temp\\ipykernel_12640\\1445072571.py:2: SettingWithCopyWarning: \n",
      "A value is trying to be set on a copy of a slice from a DataFrame\n",
      "\n",
      "See the caveats in the documentation: https://pandas.pydata.org/pandas-docs/stable/user_guide/indexing.html#returning-a-view-versus-a-copy\n",
      "  rent_train_con.drop(['longitude'], axis=1,inplace=True)\n"
     ]
    }
   ],
   "source": [
    "# drop longitude\n",
    "rent_train_con.drop(['longitude'], axis=1,inplace=True)"
   ]
  },
  {
   "cell_type": "code",
   "execution_count": 88,
   "id": "a34eedf1",
   "metadata": {},
   "outputs": [
    {
     "data": {
      "text/html": [
       "<div>\n",
       "<style scoped>\n",
       "    .dataframe tbody tr th:only-of-type {\n",
       "        vertical-align: middle;\n",
       "    }\n",
       "\n",
       "    .dataframe tbody tr th {\n",
       "        vertical-align: top;\n",
       "    }\n",
       "\n",
       "    .dataframe thead th {\n",
       "        text-align: right;\n",
       "    }\n",
       "</style>\n",
       "<table border=\"1\" class=\"dataframe\">\n",
       "  <thead>\n",
       "    <tr style=\"text-align: right;\">\n",
       "      <th></th>\n",
       "      <th>latitude</th>\n",
       "      <th>minimum_nights</th>\n",
       "      <th>number_of_reviews</th>\n",
       "      <th>reviews_per_month</th>\n",
       "      <th>calculated_host_listings_count</th>\n",
       "      <th>availability_365</th>\n",
       "      <th>Age_Last_Review</th>\n",
       "      <th>longitude_pos</th>\n",
       "    </tr>\n",
       "  </thead>\n",
       "  <tbody>\n",
       "    <tr>\n",
       "      <th>0</th>\n",
       "      <td>3.73091</td>\n",
       "      <td>1.09861</td>\n",
       "      <td>2.89037</td>\n",
       "      <td>0.71295</td>\n",
       "      <td>0.69315</td>\n",
       "      <td>0.00000</td>\n",
       "      <td>1.60944</td>\n",
       "      <td>4.47414</td>\n",
       "    </tr>\n",
       "    <tr>\n",
       "      <th>1</th>\n",
       "      <td>3.55571</td>\n",
       "      <td>1.09861</td>\n",
       "      <td>5.80513</td>\n",
       "      <td>1.66393</td>\n",
       "      <td>0.69315</td>\n",
       "      <td>5.14166</td>\n",
       "      <td>1.38629</td>\n",
       "      <td>3.76751</td>\n",
       "    </tr>\n",
       "    <tr>\n",
       "      <th>2</th>\n",
       "      <td>3.55941</td>\n",
       "      <td>2.39790</td>\n",
       "      <td>1.60944</td>\n",
       "      <td>0.31481</td>\n",
       "      <td>0.69315</td>\n",
       "      <td>5.72685</td>\n",
       "      <td>1.38629</td>\n",
       "      <td>3.77542</td>\n",
       "    </tr>\n",
       "    <tr>\n",
       "      <th>3</th>\n",
       "      <td>3.13047</td>\n",
       "      <td>0.69315</td>\n",
       "      <td>0.00000</td>\n",
       "      <td>0.00000</td>\n",
       "      <td>2.99573</td>\n",
       "      <td>5.88332</td>\n",
       "      <td>0.00000</td>\n",
       "      <td>0.80259</td>\n",
       "    </tr>\n",
       "    <tr>\n",
       "      <th>4</th>\n",
       "      <td>3.73209</td>\n",
       "      <td>1.09861</td>\n",
       "      <td>5.24702</td>\n",
       "      <td>1.57277</td>\n",
       "      <td>0.69315</td>\n",
       "      <td>5.80513</td>\n",
       "      <td>1.38629</td>\n",
       "      <td>4.47513</td>\n",
       "    </tr>\n",
       "  </tbody>\n",
       "</table>\n",
       "</div>"
      ],
      "text/plain": [
       "   latitude  minimum_nights  number_of_reviews  reviews_per_month  \\\n",
       "0   3.73091         1.09861            2.89037            0.71295   \n",
       "1   3.55571         1.09861            5.80513            1.66393   \n",
       "2   3.55941         2.39790            1.60944            0.31481   \n",
       "3   3.13047         0.69315            0.00000            0.00000   \n",
       "4   3.73209         1.09861            5.24702            1.57277   \n",
       "\n",
       "   calculated_host_listings_count  availability_365  Age_Last_Review  \\\n",
       "0                         0.69315           0.00000          1.60944   \n",
       "1                         0.69315           5.14166          1.38629   \n",
       "2                         0.69315           5.72685          1.38629   \n",
       "3                         2.99573           5.88332          0.00000   \n",
       "4                         0.69315           5.80513          1.38629   \n",
       "\n",
       "   longitude_pos  \n",
       "0        4.47414  \n",
       "1        3.76751  \n",
       "2        3.77542  \n",
       "3        0.80259  \n",
       "4        4.47513  "
      ]
     },
     "execution_count": 88,
     "metadata": {},
     "output_type": "execute_result"
    }
   ],
   "source": [
    "# Scale numerical training data set\n",
    "scaled_rent_train_con = np.log1p(rent_train_con) \n",
    "scaled_rent_train_con.head()"
   ]
  },
  {
   "cell_type": "code",
   "execution_count": 89,
   "id": "f4bf4edc",
   "metadata": {},
   "outputs": [
    {
     "data": {
      "text/plain": [
       "Index(['room_type', 'city', 'price'], dtype='object')"
      ]
     },
     "execution_count": 89,
     "metadata": {},
     "output_type": "execute_result"
    }
   ],
   "source": [
    "# performing K-folding on cat data\n",
    "rent_train_cat.columns"
   ]
  },
  {
   "cell_type": "code",
   "execution_count": 90,
   "id": "a429d7ab",
   "metadata": {},
   "outputs": [],
   "source": [
    "class KFoldTargetEncoderTrain(base.BaseEstimator, base.TransformerMixin):\n",
    "\n",
    "    def __init__(self, colnames,targetName,n_fold=5,verbosity=True,discardOriginal_col=False):\n",
    "\n",
    "        self.colnames = colnames\n",
    "        self.targetName = targetName\n",
    "        self.n_fold = n_fold\n",
    "        self.verbosity = verbosity\n",
    "        self.discardOriginal_col = discardOriginal_col\n",
    "\n",
    "    def fit(self, X, y=None):\n",
    "        return self\n",
    "\n",
    "\n",
    "    def transform(self,X):\n",
    "\n",
    "        assert(type(self.targetName) == str)\n",
    "        assert(type(self.colnames) == str)\n",
    "        assert(self.colnames in X.columns)\n",
    "        assert(self.targetName in X.columns)\n",
    "\n",
    "        mean_of_target = X[self.targetName].mean()\n",
    "        kf = KFold(n_splits = self.n_fold, shuffle = False)\n",
    "\n",
    "\n",
    "\n",
    "        col_mean_name = self.colnames + '_' + 'Kfold_Target_Enc'\n",
    "        X[col_mean_name] = np.nan\n",
    "\n",
    "        for tr_ind, val_ind in kf.split(X):\n",
    "            X_tr, X_val = X.iloc[tr_ind], X.iloc[val_ind]\n",
    "#             print(tr_ind,val_ind)\n",
    "            X.loc[X.index[val_ind], col_mean_name] = X_val[self.colnames].map(X_tr.groupby(self.colnames)[self.targetName].mean())\n",
    "\n",
    "        X[col_mean_name].fillna(mean_of_target, inplace = True)\n",
    "\n",
    "        if self.verbosity:\n",
    "\n",
    "            encoded_feature = X[col_mean_name].values\n",
    "            print('Correlation between the new feature, {} and, {} is {}.'.format(col_mean_name,\n",
    "                                                                                      self.targetName,\n",
    "                                                                                      np.corrcoef(X[self.targetName].values, encoded_feature)[0][1]))\n",
    "        if self.discardOriginal_col:\n",
    "            X = X.drop(self.targetName, axis=1)\n",
    "            \n",
    "\n",
    "        return X"
   ]
  },
  {
   "cell_type": "code",
   "execution_count": 91,
   "id": "8698f3d8",
   "metadata": {},
   "outputs": [
    {
     "name": "stdout",
     "output_type": "stream",
     "text": [
      "Correlation between the new feature, room_type_Kfold_Target_Enc and, price is 0.13787909180772437.\n"
     ]
    },
    {
     "name": "stderr",
     "output_type": "stream",
     "text": [
      "C:\\Users\\vc00482003\\AppData\\Local\\Temp\\ipykernel_12640\\1254515137.py:28: SettingWithCopyWarning: \n",
      "A value is trying to be set on a copy of a slice from a DataFrame.\n",
      "Try using .loc[row_indexer,col_indexer] = value instead\n",
      "\n",
      "See the caveats in the documentation: https://pandas.pydata.org/pandas-docs/stable/user_guide/indexing.html#returning-a-view-versus-a-copy\n",
      "  X[col_mean_name] = np.nan\n",
      "C:\\Users\\vc00482003\\AppData\\Local\\Temp\\ipykernel_12640\\1254515137.py:35: SettingWithCopyWarning: \n",
      "A value is trying to be set on a copy of a slice from a DataFrame\n",
      "\n",
      "See the caveats in the documentation: https://pandas.pydata.org/pandas-docs/stable/user_guide/indexing.html#returning-a-view-versus-a-copy\n",
      "  X[col_mean_name].fillna(mean_of_target, inplace = True)\n"
     ]
    }
   ],
   "source": [
    "targetc = KFoldTargetEncoderTrain('room_type','price',n_fold=5)\n",
    "new_rent_cat = targetc.fit_transform(rent_train_cat)"
   ]
  },
  {
   "cell_type": "code",
   "execution_count": 92,
   "id": "a437bcd9",
   "metadata": {},
   "outputs": [
    {
     "name": "stdout",
     "output_type": "stream",
     "text": [
      "Correlation between the new feature, city_Kfold_Target_Enc and, price is 0.10933296126059598.\n"
     ]
    },
    {
     "name": "stderr",
     "output_type": "stream",
     "text": [
      "C:\\Users\\vc00482003\\AppData\\Local\\Temp\\ipykernel_12640\\1254515137.py:28: SettingWithCopyWarning: \n",
      "A value is trying to be set on a copy of a slice from a DataFrame.\n",
      "Try using .loc[row_indexer,col_indexer] = value instead\n",
      "\n",
      "See the caveats in the documentation: https://pandas.pydata.org/pandas-docs/stable/user_guide/indexing.html#returning-a-view-versus-a-copy\n",
      "  X[col_mean_name] = np.nan\n",
      "C:\\Users\\vc00482003\\AppData\\Local\\Temp\\ipykernel_12640\\1254515137.py:35: SettingWithCopyWarning: \n",
      "A value is trying to be set on a copy of a slice from a DataFrame\n",
      "\n",
      "See the caveats in the documentation: https://pandas.pydata.org/pandas-docs/stable/user_guide/indexing.html#returning-a-view-versus-a-copy\n",
      "  X[col_mean_name].fillna(mean_of_target, inplace = True)\n"
     ]
    }
   ],
   "source": [
    "targetc = KFoldTargetEncoderTrain('city','price',n_fold=5)\n",
    "new_rent_cat = targetc.fit_transform(rent_train_cat)"
   ]
  },
  {
   "cell_type": "code",
   "execution_count": 93,
   "id": "e8cf0dde",
   "metadata": {},
   "outputs": [
    {
     "data": {
      "text/html": [
       "<div>\n",
       "<style scoped>\n",
       "    .dataframe tbody tr th:only-of-type {\n",
       "        vertical-align: middle;\n",
       "    }\n",
       "\n",
       "    .dataframe tbody tr th {\n",
       "        vertical-align: top;\n",
       "    }\n",
       "\n",
       "    .dataframe thead th {\n",
       "        text-align: right;\n",
       "    }\n",
       "</style>\n",
       "<table border=\"1\" class=\"dataframe\">\n",
       "  <thead>\n",
       "    <tr style=\"text-align: right;\">\n",
       "      <th></th>\n",
       "      <th>room_type</th>\n",
       "      <th>city</th>\n",
       "      <th>price</th>\n",
       "      <th>room_type_Kfold_Target_Enc</th>\n",
       "      <th>city_Kfold_Target_Enc</th>\n",
       "    </tr>\n",
       "  </thead>\n",
       "  <tbody>\n",
       "    <tr>\n",
       "      <th>0</th>\n",
       "      <td>Private room</td>\n",
       "      <td>New York City</td>\n",
       "      <td>100.00000</td>\n",
       "      <td>101.40496</td>\n",
       "      <td>148.81347</td>\n",
       "    </tr>\n",
       "    <tr>\n",
       "      <th>1</th>\n",
       "      <td>Entire home/apt</td>\n",
       "      <td>Los Angeles</td>\n",
       "      <td>102.00000</td>\n",
       "      <td>248.92068</td>\n",
       "      <td>219.50806</td>\n",
       "    </tr>\n",
       "    <tr>\n",
       "      <th>2</th>\n",
       "      <td>Entire home/apt</td>\n",
       "      <td>Los Angeles</td>\n",
       "      <td>131.00000</td>\n",
       "      <td>248.92068</td>\n",
       "      <td>219.50806</td>\n",
       "    </tr>\n",
       "    <tr>\n",
       "      <th>3</th>\n",
       "      <td>Entire home/apt</td>\n",
       "      <td>Hawaii</td>\n",
       "      <td>2399.00000</td>\n",
       "      <td>248.92068</td>\n",
       "      <td>297.99286</td>\n",
       "    </tr>\n",
       "    <tr>\n",
       "      <th>4</th>\n",
       "      <td>Entire home/apt</td>\n",
       "      <td>New York City</td>\n",
       "      <td>76.00000</td>\n",
       "      <td>248.92068</td>\n",
       "      <td>148.81347</td>\n",
       "    </tr>\n",
       "  </tbody>\n",
       "</table>\n",
       "</div>"
      ],
      "text/plain": [
       "         room_type           city      price  room_type_Kfold_Target_Enc  \\\n",
       "0     Private room  New York City  100.00000                   101.40496   \n",
       "1  Entire home/apt    Los Angeles  102.00000                   248.92068   \n",
       "2  Entire home/apt    Los Angeles  131.00000                   248.92068   \n",
       "3  Entire home/apt         Hawaii 2399.00000                   248.92068   \n",
       "4  Entire home/apt  New York City   76.00000                   248.92068   \n",
       "\n",
       "   city_Kfold_Target_Enc  \n",
       "0              148.81347  \n",
       "1              219.50806  \n",
       "2              219.50806  \n",
       "3              297.99286  \n",
       "4              148.81347  "
      ]
     },
     "execution_count": 93,
     "metadata": {},
     "output_type": "execute_result"
    }
   ],
   "source": [
    "new_rent_cat.head()"
   ]
  },
  {
   "cell_type": "code",
   "execution_count": 25,
   "id": "2c127ec6",
   "metadata": {},
   "outputs": [
    {
     "name": "stderr",
     "output_type": "stream",
     "text": [
      "C:\\Users\\vc00482003\\AppData\\Local\\Temp\\ipykernel_12640\\2551313654.py:2: SettingWithCopyWarning: \n",
      "A value is trying to be set on a copy of a slice from a DataFrame\n",
      "\n",
      "See the caveats in the documentation: https://pandas.pydata.org/pandas-docs/stable/user_guide/indexing.html#returning-a-view-versus-a-copy\n",
      "  new_rent_cat.drop(['room_type', 'city'], axis=1, inplace=True)\n"
     ]
    }
   ],
   "source": [
    "# Dropping orignnal cat variables\n",
    "new_rent_cat.drop(['room_type', 'city'], axis=1, inplace=True)"
   ]
  },
  {
   "cell_type": "code",
   "execution_count": 26,
   "id": "c320a9ef",
   "metadata": {},
   "outputs": [
    {
     "data": {
      "text/html": [
       "<div>\n",
       "<style scoped>\n",
       "    .dataframe tbody tr th:only-of-type {\n",
       "        vertical-align: middle;\n",
       "    }\n",
       "\n",
       "    .dataframe tbody tr th {\n",
       "        vertical-align: top;\n",
       "    }\n",
       "\n",
       "    .dataframe thead th {\n",
       "        text-align: right;\n",
       "    }\n",
       "</style>\n",
       "<table border=\"1\" class=\"dataframe\">\n",
       "  <thead>\n",
       "    <tr style=\"text-align: right;\">\n",
       "      <th></th>\n",
       "      <th>price</th>\n",
       "      <th>room_type_Kfold_Target_Enc</th>\n",
       "      <th>city_Kfold_Target_Enc</th>\n",
       "    </tr>\n",
       "  </thead>\n",
       "  <tbody>\n",
       "    <tr>\n",
       "      <th>0</th>\n",
       "      <td>100.00000</td>\n",
       "      <td>101.40496</td>\n",
       "      <td>148.81347</td>\n",
       "    </tr>\n",
       "    <tr>\n",
       "      <th>1</th>\n",
       "      <td>102.00000</td>\n",
       "      <td>248.92068</td>\n",
       "      <td>219.50806</td>\n",
       "    </tr>\n",
       "    <tr>\n",
       "      <th>2</th>\n",
       "      <td>131.00000</td>\n",
       "      <td>248.92068</td>\n",
       "      <td>219.50806</td>\n",
       "    </tr>\n",
       "    <tr>\n",
       "      <th>3</th>\n",
       "      <td>2399.00000</td>\n",
       "      <td>248.92068</td>\n",
       "      <td>297.99286</td>\n",
       "    </tr>\n",
       "    <tr>\n",
       "      <th>4</th>\n",
       "      <td>76.00000</td>\n",
       "      <td>248.92068</td>\n",
       "      <td>148.81347</td>\n",
       "    </tr>\n",
       "  </tbody>\n",
       "</table>\n",
       "</div>"
      ],
      "text/plain": [
       "       price  room_type_Kfold_Target_Enc  city_Kfold_Target_Enc\n",
       "0  100.00000                   101.40496              148.81347\n",
       "1  102.00000                   248.92068              219.50806\n",
       "2  131.00000                   248.92068              219.50806\n",
       "3 2399.00000                   248.92068              297.99286\n",
       "4   76.00000                   248.92068              148.81347"
      ]
     },
     "execution_count": 26,
     "metadata": {},
     "output_type": "execute_result"
    }
   ],
   "source": [
    "new_rent_cat.head()"
   ]
  },
  {
   "cell_type": "code",
   "execution_count": 94,
   "id": "1c2e9e04",
   "metadata": {},
   "outputs": [
    {
     "name": "stdout",
     "output_type": "stream",
     "text": [
      "Data Shape: (137023, 13)\n"
     ]
    },
    {
     "data": {
      "text/html": [
       "<div>\n",
       "<style scoped>\n",
       "    .dataframe tbody tr th:only-of-type {\n",
       "        vertical-align: middle;\n",
       "    }\n",
       "\n",
       "    .dataframe tbody tr th {\n",
       "        vertical-align: top;\n",
       "    }\n",
       "\n",
       "    .dataframe thead th {\n",
       "        text-align: right;\n",
       "    }\n",
       "</style>\n",
       "<table border=\"1\" class=\"dataframe\">\n",
       "  <thead>\n",
       "    <tr style=\"text-align: right;\">\n",
       "      <th></th>\n",
       "      <th>room_type</th>\n",
       "      <th>city</th>\n",
       "      <th>price</th>\n",
       "      <th>room_type_Kfold_Target_Enc</th>\n",
       "      <th>city_Kfold_Target_Enc</th>\n",
       "      <th>latitude</th>\n",
       "      <th>minimum_nights</th>\n",
       "      <th>number_of_reviews</th>\n",
       "      <th>reviews_per_month</th>\n",
       "      <th>calculated_host_listings_count</th>\n",
       "      <th>availability_365</th>\n",
       "      <th>Age_Last_Review</th>\n",
       "      <th>longitude_pos</th>\n",
       "    </tr>\n",
       "  </thead>\n",
       "  <tbody>\n",
       "    <tr>\n",
       "      <th>0</th>\n",
       "      <td>Private room</td>\n",
       "      <td>New York City</td>\n",
       "      <td>100.00000</td>\n",
       "      <td>101.40496</td>\n",
       "      <td>148.81347</td>\n",
       "      <td>3.73091</td>\n",
       "      <td>1.09861</td>\n",
       "      <td>2.89037</td>\n",
       "      <td>0.71295</td>\n",
       "      <td>0.69315</td>\n",
       "      <td>0.00000</td>\n",
       "      <td>1.60944</td>\n",
       "      <td>4.47414</td>\n",
       "    </tr>\n",
       "    <tr>\n",
       "      <th>1</th>\n",
       "      <td>Entire home/apt</td>\n",
       "      <td>Los Angeles</td>\n",
       "      <td>102.00000</td>\n",
       "      <td>248.92068</td>\n",
       "      <td>219.50806</td>\n",
       "      <td>3.55571</td>\n",
       "      <td>1.09861</td>\n",
       "      <td>5.80513</td>\n",
       "      <td>1.66393</td>\n",
       "      <td>0.69315</td>\n",
       "      <td>5.14166</td>\n",
       "      <td>1.38629</td>\n",
       "      <td>3.76751</td>\n",
       "    </tr>\n",
       "    <tr>\n",
       "      <th>2</th>\n",
       "      <td>Entire home/apt</td>\n",
       "      <td>Los Angeles</td>\n",
       "      <td>131.00000</td>\n",
       "      <td>248.92068</td>\n",
       "      <td>219.50806</td>\n",
       "      <td>3.55941</td>\n",
       "      <td>2.39790</td>\n",
       "      <td>1.60944</td>\n",
       "      <td>0.31481</td>\n",
       "      <td>0.69315</td>\n",
       "      <td>5.72685</td>\n",
       "      <td>1.38629</td>\n",
       "      <td>3.77542</td>\n",
       "    </tr>\n",
       "    <tr>\n",
       "      <th>3</th>\n",
       "      <td>Entire home/apt</td>\n",
       "      <td>Hawaii</td>\n",
       "      <td>2399.00000</td>\n",
       "      <td>248.92068</td>\n",
       "      <td>297.99286</td>\n",
       "      <td>3.13047</td>\n",
       "      <td>0.69315</td>\n",
       "      <td>0.00000</td>\n",
       "      <td>0.00000</td>\n",
       "      <td>2.99573</td>\n",
       "      <td>5.88332</td>\n",
       "      <td>0.00000</td>\n",
       "      <td>0.80259</td>\n",
       "    </tr>\n",
       "    <tr>\n",
       "      <th>4</th>\n",
       "      <td>Entire home/apt</td>\n",
       "      <td>New York City</td>\n",
       "      <td>76.00000</td>\n",
       "      <td>248.92068</td>\n",
       "      <td>148.81347</td>\n",
       "      <td>3.73209</td>\n",
       "      <td>1.09861</td>\n",
       "      <td>5.24702</td>\n",
       "      <td>1.57277</td>\n",
       "      <td>0.69315</td>\n",
       "      <td>5.80513</td>\n",
       "      <td>1.38629</td>\n",
       "      <td>4.47513</td>\n",
       "    </tr>\n",
       "  </tbody>\n",
       "</table>\n",
       "</div>"
      ],
      "text/plain": [
       "         room_type           city      price  room_type_Kfold_Target_Enc  \\\n",
       "0     Private room  New York City  100.00000                   101.40496   \n",
       "1  Entire home/apt    Los Angeles  102.00000                   248.92068   \n",
       "2  Entire home/apt    Los Angeles  131.00000                   248.92068   \n",
       "3  Entire home/apt         Hawaii 2399.00000                   248.92068   \n",
       "4  Entire home/apt  New York City   76.00000                   248.92068   \n",
       "\n",
       "   city_Kfold_Target_Enc  latitude  minimum_nights  number_of_reviews  \\\n",
       "0              148.81347   3.73091         1.09861            2.89037   \n",
       "1              219.50806   3.55571         1.09861            5.80513   \n",
       "2              219.50806   3.55941         2.39790            1.60944   \n",
       "3              297.99286   3.13047         0.69315            0.00000   \n",
       "4              148.81347   3.73209         1.09861            5.24702   \n",
       "\n",
       "   reviews_per_month  calculated_host_listings_count  availability_365  \\\n",
       "0            0.71295                         0.69315           0.00000   \n",
       "1            1.66393                         0.69315           5.14166   \n",
       "2            0.31481                         0.69315           5.72685   \n",
       "3            0.00000                         2.99573           5.88332   \n",
       "4            1.57277                         0.69315           5.80513   \n",
       "\n",
       "   Age_Last_Review  longitude_pos  \n",
       "0          1.60944        4.47414  \n",
       "1          1.38629        3.76751  \n",
       "2          1.38629        3.77542  \n",
       "3          0.00000        0.80259  \n",
       "4          1.38629        4.47513  "
      ]
     },
     "execution_count": 94,
     "metadata": {},
     "output_type": "execute_result"
    }
   ],
   "source": [
    "# Concatenate categorical  & continues variables for train Data\n",
    "\n",
    "final_rent_train = pd.concat([new_rent_cat,scaled_rent_train_con], axis=1)\n",
    "print('Data Shape:', final_rent_train.shape)\n",
    "final_rent_train.head()"
   ]
  },
  {
   "cell_type": "code",
   "execution_count": 95,
   "id": "f4e5591d",
   "metadata": {},
   "outputs": [],
   "source": [
    "# Dropping orignnal cat variables\n",
    "final_rent_train.drop(['room_type', 'city'], axis=1, inplace=True)"
   ]
  },
  {
   "cell_type": "code",
   "execution_count": 96,
   "id": "e5801706",
   "metadata": {},
   "outputs": [
    {
     "name": "stdout",
     "output_type": "stream",
     "text": [
      "<class 'pandas.core.frame.DataFrame'>\n",
      "RangeIndex: 137023 entries, 0 to 137022\n",
      "Data columns (total 11 columns):\n",
      " #   Column                          Non-Null Count   Dtype  \n",
      "---  ------                          --------------   -----  \n",
      " 0   price                           137023 non-null  float64\n",
      " 1   room_type_Kfold_Target_Enc      137023 non-null  float64\n",
      " 2   city_Kfold_Target_Enc           137023 non-null  float64\n",
      " 3   latitude                        137023 non-null  float64\n",
      " 4   minimum_nights                  137023 non-null  float64\n",
      " 5   number_of_reviews               137023 non-null  float64\n",
      " 6   reviews_per_month               137023 non-null  float64\n",
      " 7   calculated_host_listings_count  137023 non-null  float64\n",
      " 8   availability_365                137023 non-null  float64\n",
      " 9   Age_Last_Review                 137023 non-null  float64\n",
      " 10  longitude_pos                   137023 non-null  float64\n",
      "dtypes: float64(11)\n",
      "memory usage: 11.5 MB\n"
     ]
    }
   ],
   "source": [
    "final_rent_train.info()"
   ]
  },
  {
   "cell_type": "code",
   "execution_count": 29,
   "id": "45463d71",
   "metadata": {},
   "outputs": [
    {
     "data": {
      "text/plain": [
       "Index(['price', 'room_type_Kfold_Target_Enc', 'city_Kfold_Target_Enc',\n",
       "       'latitude', 'minimum_nights', 'number_of_reviews', 'reviews_per_month',\n",
       "       'calculated_host_listings_count', 'availability_365', 'Age_Last_Review',\n",
       "       'longitude_pos'],\n",
       "      dtype='object')"
      ]
     },
     "execution_count": 29,
     "metadata": {},
     "output_type": "execute_result"
    }
   ],
   "source": [
    "final_rent_train.columns"
   ]
  },
  {
   "cell_type": "code",
   "execution_count": 30,
   "id": "2cb4e03d",
   "metadata": {},
   "outputs": [],
   "source": [
    "# Split the data as per filteres features selected\n",
    "x = final_rent_train.drop('price',axis = 1)\n",
    "y = final_rent_train['price']"
   ]
  },
  {
   "cell_type": "code",
   "execution_count": 31,
   "id": "84d0cc8e",
   "metadata": {},
   "outputs": [
    {
     "name": "stdout",
     "output_type": "stream",
     "text": [
      "(109618, 10)\n",
      "(27405, 10)\n",
      "(109618,)\n",
      "(27405,)\n"
     ]
    }
   ],
   "source": [
    "# Split Train data into sub train & test split\n",
    "x_train, x_test, y_train, y_test = train_test_split(x,y, test_size = 0.2, random_state=42)\n",
    "print(x_train.shape)\n",
    "print(x_test.shape)\n",
    "print(y_train.shape)\n",
    "print(y_test.shape)"
   ]
  },
  {
   "cell_type": "code",
   "execution_count": 32,
   "id": "8148c6e4",
   "metadata": {},
   "outputs": [],
   "source": [
    "# Model development & evaluation"
   ]
  },
  {
   "cell_type": "code",
   "execution_count": 33,
   "id": "7ec661a7",
   "metadata": {},
   "outputs": [],
   "source": [
    "# RF Model\n",
    "rf = RandomForestRegressor(n_estimators=50, max_depth = 5)\n",
    "rf.fit(x_train, y_train)\n",
    "preds_rf_train = rf.predict(x_train)\n",
    "preds_rf_test = rf.predict(x_test)"
   ]
  },
  {
   "cell_type": "code",
   "execution_count": 34,
   "id": "0d9287d7",
   "metadata": {},
   "outputs": [],
   "source": [
    "def model_eval(actual, predicted):\n",
    "  mse = mean_squared_error(actual, predicted)\n",
    "  rmse = np.sqrt(mse)\n",
    "  r2 = r2_score(actual, predicted)\n",
    "  print('RMSE of Model is: ', round(rmse, 2))\n",
    "  print('R2 Score of the model is: ', round(r2, 2))"
   ]
  },
  {
   "cell_type": "code",
   "execution_count": 35,
   "id": "76ec63f8",
   "metadata": {},
   "outputs": [
    {
     "name": "stdout",
     "output_type": "stream",
     "text": [
      "RMSE of Model is:  487.42\n",
      "R2 Score of the model is:  0.09\n"
     ]
    }
   ],
   "source": [
    "model_eval(y_train, preds_rf_train)"
   ]
  },
  {
   "cell_type": "code",
   "execution_count": 36,
   "id": "7fc5490b",
   "metadata": {},
   "outputs": [
    {
     "name": "stdout",
     "output_type": "stream",
     "text": [
      "RMSE of Model is:  453.3\n",
      "R2 Score of the model is:  0.09\n"
     ]
    }
   ],
   "source": [
    "model_eval(y_test, preds_rf_test)"
   ]
  },
  {
   "cell_type": "code",
   "execution_count": 37,
   "id": "00a4e6ae",
   "metadata": {},
   "outputs": [],
   "source": [
    "#b. Ada Boosting Regressor\n",
    "ada = AdaBoostRegressor(n_estimators = 600, learning_rate = 0.2)\n",
    "ada.fit(x_train, y_train)\n",
    "preds_ada_train = ada.predict(x_train)\n",
    "preds_ada_test = ada.predict(x_test)"
   ]
  },
  {
   "cell_type": "code",
   "execution_count": 38,
   "id": "23bbb6c1",
   "metadata": {},
   "outputs": [
    {
     "name": "stdout",
     "output_type": "stream",
     "text": [
      "RMSE of Model is:  714.64\n",
      "R2 Score of the model is:  -0.95\n"
     ]
    }
   ],
   "source": [
    "model_eval(y_train, preds_ada_train)"
   ]
  },
  {
   "cell_type": "code",
   "execution_count": 39,
   "id": "57e98b67",
   "metadata": {},
   "outputs": [
    {
     "name": "stdout",
     "output_type": "stream",
     "text": [
      "RMSE of Model is:  714.14\n",
      "R2 Score of the model is:  -1.26\n"
     ]
    }
   ],
   "source": [
    "model_eval(y_test, preds_ada_test)"
   ]
  },
  {
   "cell_type": "code",
   "execution_count": 40,
   "id": "6e797665",
   "metadata": {},
   "outputs": [],
   "source": [
    "# c. Gradient Boosting Regressor\n",
    "gb = GradientBoostingRegressor(n_estimators=200)\n",
    "gb.fit(x_train, y_train)\n",
    "preds_gb_train = gb.predict(x_train)\n",
    "preds_gb_test = gb.predict(x_test)"
   ]
  },
  {
   "cell_type": "code",
   "execution_count": 41,
   "id": "754fc102",
   "metadata": {},
   "outputs": [
    {
     "name": "stdout",
     "output_type": "stream",
     "text": [
      "RMSE of Model is:  449.09\n",
      "R2 Score of the model is:  0.23\n"
     ]
    }
   ],
   "source": [
    "model_eval(y_train, preds_gb_train)"
   ]
  },
  {
   "cell_type": "code",
   "execution_count": 42,
   "id": "50ddf62a",
   "metadata": {},
   "outputs": [
    {
     "name": "stdout",
     "output_type": "stream",
     "text": [
      "RMSE of Model is:  442.21\n",
      "R2 Score of the model is:  0.13\n"
     ]
    }
   ],
   "source": [
    "model_eval(y_test, preds_gb_test)"
   ]
  },
  {
   "cell_type": "code",
   "execution_count": 43,
   "id": "867f2af9",
   "metadata": {},
   "outputs": [],
   "source": [
    "#d. Stacking Regressor\n",
    "from sklearn.neighbors import KNeighborsRegressor\n",
    "from sklearn.linear_model import LinearRegression"
   ]
  },
  {
   "cell_type": "code",
   "execution_count": 44,
   "id": "94ad4b1a",
   "metadata": {},
   "outputs": [],
   "source": [
    "estimators = [('rf',RandomForestRegressor(n_estimators=50, max_depth = 5)),\n",
    "              ('knn', KNeighborsRegressor()),\n",
    "              ('lr', LinearRegression())]"
   ]
  },
  {
   "cell_type": "code",
   "execution_count": 45,
   "id": "12b1cfe3",
   "metadata": {},
   "outputs": [],
   "source": [
    "reg = StackingRegressor(estimators = estimators)"
   ]
  },
  {
   "cell_type": "code",
   "execution_count": 46,
   "id": "0a3a55a0",
   "metadata": {},
   "outputs": [
    {
     "data": {
      "text/plain": [
       "StackingRegressor(estimators=[('rf',\n",
       "                               RandomForestRegressor(max_depth=5,\n",
       "                                                     n_estimators=50)),\n",
       "                              ('knn', KNeighborsRegressor()),\n",
       "                              ('lr', LinearRegression())])"
      ]
     },
     "execution_count": 46,
     "metadata": {},
     "output_type": "execute_result"
    }
   ],
   "source": [
    "reg.fit(x_train, y_train)"
   ]
  },
  {
   "cell_type": "code",
   "execution_count": 47,
   "id": "f8292dd6",
   "metadata": {},
   "outputs": [],
   "source": [
    "preds_stack_train = reg.predict(x_train)\n",
    "preds_stack_test = reg.predict(x_test)"
   ]
  },
  {
   "cell_type": "code",
   "execution_count": 48,
   "id": "c7704ab3",
   "metadata": {},
   "outputs": [
    {
     "name": "stdout",
     "output_type": "stream",
     "text": [
      "RMSE of Model is:  451.29\n",
      "R2 Score of the model is:  0.22\n"
     ]
    }
   ],
   "source": [
    "model_eval(y_train, preds_stack_train)"
   ]
  },
  {
   "cell_type": "code",
   "execution_count": 49,
   "id": "8798f289",
   "metadata": {},
   "outputs": [
    {
     "name": "stdout",
     "output_type": "stream",
     "text": [
      "RMSE of Model is:  449.35\n",
      "R2 Score of the model is:  0.1\n"
     ]
    }
   ],
   "source": [
    "model_eval(y_test, preds_stack_test)"
   ]
  },
  {
   "cell_type": "code",
   "execution_count": null,
   "id": "f75555a4",
   "metadata": {},
   "outputs": [],
   "source": [
    "# will take Stacking model for test data evaluation"
   ]
  },
  {
   "cell_type": "code",
   "execution_count": 50,
   "id": "7378037c",
   "metadata": {},
   "outputs": [
    {
     "name": "stdout",
     "output_type": "stream",
     "text": [
      "Data Shape: (34257, 16)\n"
     ]
    },
    {
     "data": {
      "text/html": [
       "<div>\n",
       "<style scoped>\n",
       "    .dataframe tbody tr th:only-of-type {\n",
       "        vertical-align: middle;\n",
       "    }\n",
       "\n",
       "    .dataframe tbody tr th {\n",
       "        vertical-align: top;\n",
       "    }\n",
       "\n",
       "    .dataframe thead th {\n",
       "        text-align: right;\n",
       "    }\n",
       "</style>\n",
       "<table border=\"1\" class=\"dataframe\">\n",
       "  <thead>\n",
       "    <tr style=\"text-align: right;\">\n",
       "      <th></th>\n",
       "      <th>id</th>\n",
       "      <th>name</th>\n",
       "      <th>host_id</th>\n",
       "      <th>host_name</th>\n",
       "      <th>neighbourhood_group</th>\n",
       "      <th>neighbourhood</th>\n",
       "      <th>latitude</th>\n",
       "      <th>longitude</th>\n",
       "      <th>room_type</th>\n",
       "      <th>minimum_nights</th>\n",
       "      <th>number_of_reviews</th>\n",
       "      <th>last_review</th>\n",
       "      <th>reviews_per_month</th>\n",
       "      <th>calculated_host_listings_count</th>\n",
       "      <th>availability_365</th>\n",
       "      <th>city</th>\n",
       "    </tr>\n",
       "  </thead>\n",
       "  <tbody>\n",
       "    <tr>\n",
       "      <th>0</th>\n",
       "      <td>49653</td>\n",
       "      <td>Beachfront Bungalow  &amp; Home of Honu</td>\n",
       "      <td>24843776.00000</td>\n",
       "      <td>Marco</td>\n",
       "      <td>Maui</td>\n",
       "      <td>Lahaina</td>\n",
       "      <td>20.95924</td>\n",
       "      <td>-156.68334</td>\n",
       "      <td>Entire home/apt</td>\n",
       "      <td>3.00000</td>\n",
       "      <td>79.00000</td>\n",
       "      <td>25/03/20</td>\n",
       "      <td>1.18000</td>\n",
       "      <td>1.00000</td>\n",
       "      <td>275.00000</td>\n",
       "      <td>Hawaii</td>\n",
       "    </tr>\n",
       "    <tr>\n",
       "      <th>1</th>\n",
       "      <td>128272</td>\n",
       "      <td>Resort-like living in Williamsburg</td>\n",
       "      <td>14461742.00000</td>\n",
       "      <td>Mohammed</td>\n",
       "      <td>Brooklyn</td>\n",
       "      <td>Williamsburg</td>\n",
       "      <td>40.71552</td>\n",
       "      <td>-73.93869</td>\n",
       "      <td>Entire home/apt</td>\n",
       "      <td>5.00000</td>\n",
       "      <td>1.00000</td>\n",
       "      <td>01/01/16</td>\n",
       "      <td>0.02000</td>\n",
       "      <td>1.00000</td>\n",
       "      <td>0.00000</td>\n",
       "      <td>New York City</td>\n",
       "    </tr>\n",
       "    <tr>\n",
       "      <th>2</th>\n",
       "      <td>88753</td>\n",
       "      <td>Los Angeles Luxury Apartment in Downtown LA</td>\n",
       "      <td>205959517.00000</td>\n",
       "      <td>Christian</td>\n",
       "      <td>City of Los Angeles</td>\n",
       "      <td>Downtown</td>\n",
       "      <td>34.04331</td>\n",
       "      <td>-118.25804</td>\n",
       "      <td>Entire home/apt</td>\n",
       "      <td>30.00000</td>\n",
       "      <td>0.00000</td>\n",
       "      <td>NaN</td>\n",
       "      <td>NaN</td>\n",
       "      <td>1.00000</td>\n",
       "      <td>354.00000</td>\n",
       "      <td>Los Angeles</td>\n",
       "    </tr>\n",
       "    <tr>\n",
       "      <th>3</th>\n",
       "      <td>151475</td>\n",
       "      <td>E Z Living In Harlem 2</td>\n",
       "      <td>244536777.00000</td>\n",
       "      <td>Chester</td>\n",
       "      <td>Manhattan</td>\n",
       "      <td>Harlem</td>\n",
       "      <td>40.81615</td>\n",
       "      <td>-73.94359</td>\n",
       "      <td>Entire home/apt</td>\n",
       "      <td>3.00000</td>\n",
       "      <td>4.00000</td>\n",
       "      <td>01/12/19</td>\n",
       "      <td>0.30000</td>\n",
       "      <td>2.00000</td>\n",
       "      <td>180.00000</td>\n",
       "      <td>New York City</td>\n",
       "    </tr>\n",
       "    <tr>\n",
       "      <th>4</th>\n",
       "      <td>134525</td>\n",
       "      <td>Cozy, neat, spacious 2 BR apartment in East Harlem</td>\n",
       "      <td>2247818.00000</td>\n",
       "      <td>Gonda</td>\n",
       "      <td>Manhattan</td>\n",
       "      <td>East Harlem</td>\n",
       "      <td>40.80268</td>\n",
       "      <td>-73.94051</td>\n",
       "      <td>Entire home/apt</td>\n",
       "      <td>10.00000</td>\n",
       "      <td>33.00000</td>\n",
       "      <td>13/03/20</td>\n",
       "      <td>0.77000</td>\n",
       "      <td>1.00000</td>\n",
       "      <td>10.00000</td>\n",
       "      <td>New York City</td>\n",
       "    </tr>\n",
       "  </tbody>\n",
       "</table>\n",
       "</div>"
      ],
      "text/plain": [
       "       id                                                name         host_id  \\\n",
       "0   49653                 Beachfront Bungalow  & Home of Honu  24843776.00000   \n",
       "1  128272                  Resort-like living in Williamsburg  14461742.00000   \n",
       "2   88753         Los Angeles Luxury Apartment in Downtown LA 205959517.00000   \n",
       "3  151475                              E Z Living In Harlem 2 244536777.00000   \n",
       "4  134525  Cozy, neat, spacious 2 BR apartment in East Harlem   2247818.00000   \n",
       "\n",
       "   host_name  neighbourhood_group neighbourhood  latitude  longitude  \\\n",
       "0      Marco                 Maui       Lahaina  20.95924 -156.68334   \n",
       "1   Mohammed             Brooklyn  Williamsburg  40.71552  -73.93869   \n",
       "2  Christian  City of Los Angeles      Downtown  34.04331 -118.25804   \n",
       "3    Chester            Manhattan        Harlem  40.81615  -73.94359   \n",
       "4      Gonda            Manhattan   East Harlem  40.80268  -73.94051   \n",
       "\n",
       "         room_type  minimum_nights  number_of_reviews last_review  \\\n",
       "0  Entire home/apt         3.00000           79.00000    25/03/20   \n",
       "1  Entire home/apt         5.00000            1.00000    01/01/16   \n",
       "2  Entire home/apt        30.00000            0.00000         NaN   \n",
       "3  Entire home/apt         3.00000            4.00000    01/12/19   \n",
       "4  Entire home/apt        10.00000           33.00000    13/03/20   \n",
       "\n",
       "   reviews_per_month  calculated_host_listings_count  availability_365  \\\n",
       "0            1.18000                         1.00000         275.00000   \n",
       "1            0.02000                         1.00000           0.00000   \n",
       "2                NaN                         1.00000         354.00000   \n",
       "3            0.30000                         2.00000         180.00000   \n",
       "4            0.77000                         1.00000          10.00000   \n",
       "\n",
       "            city  \n",
       "0         Hawaii  \n",
       "1  New York City  \n",
       "2    Los Angeles  \n",
       "3  New York City  \n",
       "4  New York City  "
      ]
     },
     "execution_count": 50,
     "metadata": {},
     "output_type": "execute_result"
    }
   ],
   "source": [
    "# Import Test Data\n",
    "rent_test = pd.read_csv(r'C:\\Users\\vc00482003\\Desktop\\INSAIDclassdocs\\ML\\DecisionTree\\Practice_Project_ML_Intermediate\\drive-download-20221230T105128Z-001\\test_data.csv')\n",
    "print('Data Shape:', rent_test.shape)\n",
    "rent_test.head()"
   ]
  },
  {
   "cell_type": "code",
   "execution_count": 51,
   "id": "58a56f54",
   "metadata": {},
   "outputs": [
    {
     "name": "stdout",
     "output_type": "stream",
     "text": [
      "<class 'pandas.core.frame.DataFrame'>\n",
      "RangeIndex: 34257 entries, 0 to 34256\n",
      "Data columns (total 16 columns):\n",
      " #   Column                          Non-Null Count  Dtype  \n",
      "---  ------                          --------------  -----  \n",
      " 0   id                              34257 non-null  int64  \n",
      " 1   name                            34252 non-null  object \n",
      " 2   host_id                         34257 non-null  float64\n",
      " 3   host_name                       34250 non-null  object \n",
      " 4   neighbourhood_group             20131 non-null  object \n",
      " 5   neighbourhood                   34257 non-null  object \n",
      " 6   latitude                        34257 non-null  float64\n",
      " 7   longitude                       34257 non-null  float64\n",
      " 8   room_type                       34257 non-null  object \n",
      " 9   minimum_nights                  34257 non-null  float64\n",
      " 10  number_of_reviews               34257 non-null  float64\n",
      " 11  last_review                     26850 non-null  object \n",
      " 12  reviews_per_month               26850 non-null  float64\n",
      " 13  calculated_host_listings_count  34257 non-null  float64\n",
      " 14  availability_365                34257 non-null  float64\n",
      " 15  city                            34257 non-null  object \n",
      "dtypes: float64(8), int64(1), object(7)\n",
      "memory usage: 4.2+ MB\n"
     ]
    }
   ],
   "source": [
    "# Check Train Data info\n",
    "rent_test.info()"
   ]
  },
  {
   "cell_type": "code",
   "execution_count": 52,
   "id": "91034e5e",
   "metadata": {},
   "outputs": [
    {
     "name": "stderr",
     "output_type": "stream",
     "text": [
      "C:\\Users\\vc00482003\\AppData\\Local\\Temp\\ipykernel_12640\\2373547091.py:2: FutureWarning: Dropping of nuisance columns in DataFrame reductions (with 'numeric_only=None') is deprecated; in a future version this will raise TypeError.  Select only valid columns before calling the reduction.\n",
      "  rent_test.skew()\n"
     ]
    },
    {
     "data": {
      "text/plain": [
       "id                               -0.00596\n",
       "host_id                           1.05785\n",
       "latitude                         -0.75219\n",
       "longitude                        -0.74839\n",
       "minimum_nights                   14.29227\n",
       "number_of_reviews                 3.55009\n",
       "reviews_per_month                 2.66658\n",
       "calculated_host_listings_count    6.21359\n",
       "availability_365                  0.18822\n",
       "dtype: float64"
      ]
     },
     "execution_count": 52,
     "metadata": {},
     "output_type": "execute_result"
    }
   ],
   "source": [
    "# Check Skewness Train data\n",
    "rent_test.skew()"
   ]
  },
  {
   "cell_type": "code",
   "execution_count": 53,
   "id": "800d3fe5",
   "metadata": {},
   "outputs": [],
   "source": [
    "# Missing value variables- name,host_name,neighbourhood_group,last_review,reviews_per_month \n",
    "# change last review dataetype, or convert it to age of last review\n",
    "# last review age, number of reviews per month fill missing values by zeros \n",
    "# drop varibales name, host_id, host_name,neighbourhood_group,neighbourhood, "
   ]
  },
  {
   "cell_type": "code",
   "execution_count": 54,
   "id": "853a7461",
   "metadata": {},
   "outputs": [],
   "source": [
    "# Data Prep\n",
    "def data_prep(df):\n",
    "  #fixing inconsistencies\n",
    "  df['last_review'] = pd.to_datetime(df['last_review'])\n",
    "  df['review_Year'] = df['last_review'].dt.year\n",
    "  df['Age_Last_Review'] = 2023 - df['review_Year']\n",
    "  df['reviews_per_month'] = df['reviews_per_month'].fillna(0)\n",
    "  df['Age_Last_Review'] = df['Age_Last_Review'].fillna(0)  \n",
    "  df.drop(['name', 'host_id', 'host_name', 'neighbourhood_group','neighbourhood','last_review','review_Year'], axis=1,inplace=True)\n",
    "  \n",
    "  return df"
   ]
  },
  {
   "cell_type": "code",
   "execution_count": 55,
   "id": "5355f505",
   "metadata": {},
   "outputs": [],
   "source": [
    "rent_test = data_prep(rent_test)"
   ]
  },
  {
   "cell_type": "code",
   "execution_count": 56,
   "id": "a9cc2f61",
   "metadata": {},
   "outputs": [
    {
     "data": {
      "text/html": [
       "<div>\n",
       "<style scoped>\n",
       "    .dataframe tbody tr th:only-of-type {\n",
       "        vertical-align: middle;\n",
       "    }\n",
       "\n",
       "    .dataframe tbody tr th {\n",
       "        vertical-align: top;\n",
       "    }\n",
       "\n",
       "    .dataframe thead th {\n",
       "        text-align: right;\n",
       "    }\n",
       "</style>\n",
       "<table border=\"1\" class=\"dataframe\">\n",
       "  <thead>\n",
       "    <tr style=\"text-align: right;\">\n",
       "      <th></th>\n",
       "      <th>id</th>\n",
       "      <th>latitude</th>\n",
       "      <th>longitude</th>\n",
       "      <th>room_type</th>\n",
       "      <th>minimum_nights</th>\n",
       "      <th>number_of_reviews</th>\n",
       "      <th>reviews_per_month</th>\n",
       "      <th>calculated_host_listings_count</th>\n",
       "      <th>availability_365</th>\n",
       "      <th>city</th>\n",
       "      <th>Age_Last_Review</th>\n",
       "    </tr>\n",
       "  </thead>\n",
       "  <tbody>\n",
       "    <tr>\n",
       "      <th>0</th>\n",
       "      <td>49653</td>\n",
       "      <td>20.95924</td>\n",
       "      <td>-156.68334</td>\n",
       "      <td>Entire home/apt</td>\n",
       "      <td>3.00000</td>\n",
       "      <td>79.00000</td>\n",
       "      <td>1.18000</td>\n",
       "      <td>1.00000</td>\n",
       "      <td>275.00000</td>\n",
       "      <td>Hawaii</td>\n",
       "      <td>3.00000</td>\n",
       "    </tr>\n",
       "    <tr>\n",
       "      <th>1</th>\n",
       "      <td>128272</td>\n",
       "      <td>40.71552</td>\n",
       "      <td>-73.93869</td>\n",
       "      <td>Entire home/apt</td>\n",
       "      <td>5.00000</td>\n",
       "      <td>1.00000</td>\n",
       "      <td>0.02000</td>\n",
       "      <td>1.00000</td>\n",
       "      <td>0.00000</td>\n",
       "      <td>New York City</td>\n",
       "      <td>7.00000</td>\n",
       "    </tr>\n",
       "    <tr>\n",
       "      <th>2</th>\n",
       "      <td>88753</td>\n",
       "      <td>34.04331</td>\n",
       "      <td>-118.25804</td>\n",
       "      <td>Entire home/apt</td>\n",
       "      <td>30.00000</td>\n",
       "      <td>0.00000</td>\n",
       "      <td>0.00000</td>\n",
       "      <td>1.00000</td>\n",
       "      <td>354.00000</td>\n",
       "      <td>Los Angeles</td>\n",
       "      <td>0.00000</td>\n",
       "    </tr>\n",
       "    <tr>\n",
       "      <th>3</th>\n",
       "      <td>151475</td>\n",
       "      <td>40.81615</td>\n",
       "      <td>-73.94359</td>\n",
       "      <td>Entire home/apt</td>\n",
       "      <td>3.00000</td>\n",
       "      <td>4.00000</td>\n",
       "      <td>0.30000</td>\n",
       "      <td>2.00000</td>\n",
       "      <td>180.00000</td>\n",
       "      <td>New York City</td>\n",
       "      <td>4.00000</td>\n",
       "    </tr>\n",
       "    <tr>\n",
       "      <th>4</th>\n",
       "      <td>134525</td>\n",
       "      <td>40.80268</td>\n",
       "      <td>-73.94051</td>\n",
       "      <td>Entire home/apt</td>\n",
       "      <td>10.00000</td>\n",
       "      <td>33.00000</td>\n",
       "      <td>0.77000</td>\n",
       "      <td>1.00000</td>\n",
       "      <td>10.00000</td>\n",
       "      <td>New York City</td>\n",
       "      <td>3.00000</td>\n",
       "    </tr>\n",
       "  </tbody>\n",
       "</table>\n",
       "</div>"
      ],
      "text/plain": [
       "       id  latitude  longitude        room_type  minimum_nights  \\\n",
       "0   49653  20.95924 -156.68334  Entire home/apt         3.00000   \n",
       "1  128272  40.71552  -73.93869  Entire home/apt         5.00000   \n",
       "2   88753  34.04331 -118.25804  Entire home/apt        30.00000   \n",
       "3  151475  40.81615  -73.94359  Entire home/apt         3.00000   \n",
       "4  134525  40.80268  -73.94051  Entire home/apt        10.00000   \n",
       "\n",
       "   number_of_reviews  reviews_per_month  calculated_host_listings_count  \\\n",
       "0           79.00000            1.18000                         1.00000   \n",
       "1            1.00000            0.02000                         1.00000   \n",
       "2            0.00000            0.00000                         1.00000   \n",
       "3            4.00000            0.30000                         2.00000   \n",
       "4           33.00000            0.77000                         1.00000   \n",
       "\n",
       "   availability_365           city  Age_Last_Review  \n",
       "0         275.00000         Hawaii          3.00000  \n",
       "1           0.00000  New York City          7.00000  \n",
       "2         354.00000    Los Angeles          0.00000  \n",
       "3         180.00000  New York City          4.00000  \n",
       "4          10.00000  New York City          3.00000  "
      ]
     },
     "execution_count": 56,
     "metadata": {},
     "output_type": "execute_result"
    }
   ],
   "source": [
    "rent_test.head()"
   ]
  },
  {
   "cell_type": "code",
   "execution_count": 57,
   "id": "d1880169",
   "metadata": {},
   "outputs": [
    {
     "name": "stdout",
     "output_type": "stream",
     "text": [
      "<class 'pandas.core.frame.DataFrame'>\n",
      "RangeIndex: 34257 entries, 0 to 34256\n",
      "Data columns (total 11 columns):\n",
      " #   Column                          Non-Null Count  Dtype  \n",
      "---  ------                          --------------  -----  \n",
      " 0   id                              34257 non-null  int64  \n",
      " 1   latitude                        34257 non-null  float64\n",
      " 2   longitude                       34257 non-null  float64\n",
      " 3   room_type                       34257 non-null  object \n",
      " 4   minimum_nights                  34257 non-null  float64\n",
      " 5   number_of_reviews               34257 non-null  float64\n",
      " 6   reviews_per_month               34257 non-null  float64\n",
      " 7   calculated_host_listings_count  34257 non-null  float64\n",
      " 8   availability_365                34257 non-null  float64\n",
      " 9   city                            34257 non-null  object \n",
      " 10  Age_Last_Review                 34257 non-null  float64\n",
      "dtypes: float64(8), int64(1), object(2)\n",
      "memory usage: 2.9+ MB\n"
     ]
    }
   ],
   "source": [
    "rent_test.info()"
   ]
  },
  {
   "cell_type": "code",
   "execution_count": 58,
   "id": "9dfdc382",
   "metadata": {},
   "outputs": [
    {
     "name": "stdout",
     "output_type": "stream",
     "text": [
      "Total Categorical Features: 2\n"
     ]
    },
    {
     "data": {
      "text/html": [
       "<div>\n",
       "<style scoped>\n",
       "    .dataframe tbody tr th:only-of-type {\n",
       "        vertical-align: middle;\n",
       "    }\n",
       "\n",
       "    .dataframe tbody tr th {\n",
       "        vertical-align: top;\n",
       "    }\n",
       "\n",
       "    .dataframe thead th {\n",
       "        text-align: right;\n",
       "    }\n",
       "</style>\n",
       "<table border=\"1\" class=\"dataframe\">\n",
       "  <thead>\n",
       "    <tr style=\"text-align: right;\">\n",
       "      <th></th>\n",
       "      <th>room_type</th>\n",
       "      <th>city</th>\n",
       "    </tr>\n",
       "  </thead>\n",
       "  <tbody>\n",
       "    <tr>\n",
       "      <th>Length</th>\n",
       "      <td>4</td>\n",
       "      <td>19</td>\n",
       "    </tr>\n",
       "  </tbody>\n",
       "</table>\n",
       "</div>"
      ],
      "text/plain": [
       "        room_type  city\n",
       "Length          4    19"
      ]
     },
     "execution_count": 58,
     "metadata": {},
     "output_type": "execute_result"
    }
   ],
   "source": [
    "# Data Post processsing \n",
    "# Find classes of categorical variables \n",
    "\n",
    "# Intialize empty list for categorical features and their length\n",
    "cat_features = []\n",
    "label_len = []\n",
    "\n",
    "# Identify categorical features\n",
    "for i in rent_test.columns:\n",
    "  if (rent_test[i].dtype == object):\n",
    "    cat_features.append(i)\n",
    "\n",
    "# Identify labels length per leature\n",
    "for i in cat_features:\n",
    "  label_len.append(len(rent_test[i].unique()))\n",
    "\n",
    "# Display total categorical features\n",
    "print('Total Categorical Features:', len(cat_features))\n",
    "\n",
    "# Create and show categorical feature frame\n",
    "cat_frame = pd.DataFrame(data = {'Length': label_len}, index=cat_features)\n",
    "cat_frame.transpose()"
   ]
  },
  {
   "cell_type": "code",
   "execution_count": 59,
   "id": "8d8fbeea",
   "metadata": {},
   "outputs": [],
   "source": [
    "# drop ID\n",
    "rent_test.drop(['id'], axis=1,inplace=True)"
   ]
  },
  {
   "cell_type": "code",
   "execution_count": 60,
   "id": "1148e4e8",
   "metadata": {},
   "outputs": [
    {
     "name": "stdout",
     "output_type": "stream",
     "text": [
      "Data Shape: (34257, 8)\n"
     ]
    },
    {
     "data": {
      "text/html": [
       "<div>\n",
       "<style scoped>\n",
       "    .dataframe tbody tr th:only-of-type {\n",
       "        vertical-align: middle;\n",
       "    }\n",
       "\n",
       "    .dataframe tbody tr th {\n",
       "        vertical-align: top;\n",
       "    }\n",
       "\n",
       "    .dataframe thead th {\n",
       "        text-align: right;\n",
       "    }\n",
       "</style>\n",
       "<table border=\"1\" class=\"dataframe\">\n",
       "  <thead>\n",
       "    <tr style=\"text-align: right;\">\n",
       "      <th></th>\n",
       "      <th>latitude</th>\n",
       "      <th>longitude</th>\n",
       "      <th>minimum_nights</th>\n",
       "      <th>number_of_reviews</th>\n",
       "      <th>reviews_per_month</th>\n",
       "      <th>calculated_host_listings_count</th>\n",
       "      <th>availability_365</th>\n",
       "      <th>Age_Last_Review</th>\n",
       "    </tr>\n",
       "  </thead>\n",
       "  <tbody>\n",
       "    <tr>\n",
       "      <th>0</th>\n",
       "      <td>20.95924</td>\n",
       "      <td>-156.68334</td>\n",
       "      <td>3.00000</td>\n",
       "      <td>79.00000</td>\n",
       "      <td>1.18000</td>\n",
       "      <td>1.00000</td>\n",
       "      <td>275.00000</td>\n",
       "      <td>3.00000</td>\n",
       "    </tr>\n",
       "    <tr>\n",
       "      <th>1</th>\n",
       "      <td>40.71552</td>\n",
       "      <td>-73.93869</td>\n",
       "      <td>5.00000</td>\n",
       "      <td>1.00000</td>\n",
       "      <td>0.02000</td>\n",
       "      <td>1.00000</td>\n",
       "      <td>0.00000</td>\n",
       "      <td>7.00000</td>\n",
       "    </tr>\n",
       "    <tr>\n",
       "      <th>2</th>\n",
       "      <td>34.04331</td>\n",
       "      <td>-118.25804</td>\n",
       "      <td>30.00000</td>\n",
       "      <td>0.00000</td>\n",
       "      <td>0.00000</td>\n",
       "      <td>1.00000</td>\n",
       "      <td>354.00000</td>\n",
       "      <td>0.00000</td>\n",
       "    </tr>\n",
       "    <tr>\n",
       "      <th>3</th>\n",
       "      <td>40.81615</td>\n",
       "      <td>-73.94359</td>\n",
       "      <td>3.00000</td>\n",
       "      <td>4.00000</td>\n",
       "      <td>0.30000</td>\n",
       "      <td>2.00000</td>\n",
       "      <td>180.00000</td>\n",
       "      <td>4.00000</td>\n",
       "    </tr>\n",
       "    <tr>\n",
       "      <th>4</th>\n",
       "      <td>40.80268</td>\n",
       "      <td>-73.94051</td>\n",
       "      <td>10.00000</td>\n",
       "      <td>33.00000</td>\n",
       "      <td>0.77000</td>\n",
       "      <td>1.00000</td>\n",
       "      <td>10.00000</td>\n",
       "      <td>3.00000</td>\n",
       "    </tr>\n",
       "  </tbody>\n",
       "</table>\n",
       "</div>"
      ],
      "text/plain": [
       "   latitude  longitude  minimum_nights  number_of_reviews  reviews_per_month  \\\n",
       "0  20.95924 -156.68334         3.00000           79.00000            1.18000   \n",
       "1  40.71552  -73.93869         5.00000            1.00000            0.02000   \n",
       "2  34.04331 -118.25804        30.00000            0.00000            0.00000   \n",
       "3  40.81615  -73.94359         3.00000            4.00000            0.30000   \n",
       "4  40.80268  -73.94051        10.00000           33.00000            0.77000   \n",
       "\n",
       "   calculated_host_listings_count  availability_365  Age_Last_Review  \n",
       "0                         1.00000         275.00000          3.00000  \n",
       "1                         1.00000           0.00000          7.00000  \n",
       "2                         1.00000         354.00000          0.00000  \n",
       "3                         2.00000         180.00000          4.00000  \n",
       "4                         1.00000          10.00000          3.00000  "
      ]
     },
     "execution_count": 60,
     "metadata": {},
     "output_type": "execute_result"
    }
   ],
   "source": [
    "# Filter data into cat & continuous variable & Target variable\n",
    "rent_test_con = rent_test[['latitude', 'longitude', 'minimum_nights',\n",
    "       'number_of_reviews', 'reviews_per_month',\n",
    "       'calculated_host_listings_count', 'availability_365',\n",
    "       'Age_Last_Review']]\n",
    "print('Data Shape:', rent_test_con.shape)\n",
    "rent_test_con.head() "
   ]
  },
  {
   "cell_type": "code",
   "execution_count": 61,
   "id": "5a8fd438",
   "metadata": {},
   "outputs": [
    {
     "name": "stdout",
     "output_type": "stream",
     "text": [
      "Data Shape: (34257, 2)\n"
     ]
    },
    {
     "data": {
      "text/html": [
       "<div>\n",
       "<style scoped>\n",
       "    .dataframe tbody tr th:only-of-type {\n",
       "        vertical-align: middle;\n",
       "    }\n",
       "\n",
       "    .dataframe tbody tr th {\n",
       "        vertical-align: top;\n",
       "    }\n",
       "\n",
       "    .dataframe thead th {\n",
       "        text-align: right;\n",
       "    }\n",
       "</style>\n",
       "<table border=\"1\" class=\"dataframe\">\n",
       "  <thead>\n",
       "    <tr style=\"text-align: right;\">\n",
       "      <th></th>\n",
       "      <th>room_type</th>\n",
       "      <th>city</th>\n",
       "    </tr>\n",
       "  </thead>\n",
       "  <tbody>\n",
       "    <tr>\n",
       "      <th>0</th>\n",
       "      <td>Entire home/apt</td>\n",
       "      <td>Hawaii</td>\n",
       "    </tr>\n",
       "    <tr>\n",
       "      <th>1</th>\n",
       "      <td>Entire home/apt</td>\n",
       "      <td>New York City</td>\n",
       "    </tr>\n",
       "    <tr>\n",
       "      <th>2</th>\n",
       "      <td>Entire home/apt</td>\n",
       "      <td>Los Angeles</td>\n",
       "    </tr>\n",
       "    <tr>\n",
       "      <th>3</th>\n",
       "      <td>Entire home/apt</td>\n",
       "      <td>New York City</td>\n",
       "    </tr>\n",
       "    <tr>\n",
       "      <th>4</th>\n",
       "      <td>Entire home/apt</td>\n",
       "      <td>New York City</td>\n",
       "    </tr>\n",
       "  </tbody>\n",
       "</table>\n",
       "</div>"
      ],
      "text/plain": [
       "         room_type           city\n",
       "0  Entire home/apt         Hawaii\n",
       "1  Entire home/apt  New York City\n",
       "2  Entire home/apt    Los Angeles\n",
       "3  Entire home/apt  New York City\n",
       "4  Entire home/apt  New York City"
      ]
     },
     "execution_count": 61,
     "metadata": {},
     "output_type": "execute_result"
    }
   ],
   "source": [
    "# Filter Categorical variable & Target Variable\n",
    "rent_test_cat = rent_test[['room_type','city']]\n",
    "print('Data Shape:', rent_test_cat.shape)\n",
    "rent_test_cat.head()"
   ]
  },
  {
   "cell_type": "code",
   "execution_count": 62,
   "id": "caaaa6a7",
   "metadata": {},
   "outputs": [
    {
     "name": "stderr",
     "output_type": "stream",
     "text": [
      "C:\\Users\\vc00482003\\AppData\\Local\\Temp\\ipykernel_12640\\62687179.py:4: SettingWithCopyWarning: \n",
      "A value is trying to be set on a copy of a slice from a DataFrame.\n",
      "Try using .loc[row_indexer,col_indexer] = value instead\n",
      "\n",
      "See the caveats in the documentation: https://pandas.pydata.org/pandas-docs/stable/user_guide/indexing.html#returning-a-view-versus-a-copy\n",
      "  rent_test_con['longitude_pos'] = rent_test_con['longitude'] + abs(rent_test_con['longitude'].min()) + 1\n"
     ]
    }
   ],
   "source": [
    "# Log transformation\n",
    "\n",
    "# add a constant to make all values positive\n",
    "rent_test_con['longitude_pos'] = rent_test_con['longitude'] + abs(rent_test_con['longitude'].min()) + 1"
   ]
  },
  {
   "cell_type": "code",
   "execution_count": 64,
   "id": "5d1768f9",
   "metadata": {},
   "outputs": [
    {
     "name": "stderr",
     "output_type": "stream",
     "text": [
      "C:\\Users\\vc00482003\\AppData\\Local\\Temp\\ipykernel_12640\\641910592.py:2: SettingWithCopyWarning: \n",
      "A value is trying to be set on a copy of a slice from a DataFrame\n",
      "\n",
      "See the caveats in the documentation: https://pandas.pydata.org/pandas-docs/stable/user_guide/indexing.html#returning-a-view-versus-a-copy\n",
      "  rent_test_con.drop(['longitude'], axis=1,inplace=True)\n"
     ]
    }
   ],
   "source": [
    "# drop longitude\n",
    "rent_test_con.drop(['longitude'], axis=1,inplace=True)"
   ]
  },
  {
   "cell_type": "code",
   "execution_count": 65,
   "id": "34e4f88e",
   "metadata": {},
   "outputs": [
    {
     "data": {
      "text/html": [
       "<div>\n",
       "<style scoped>\n",
       "    .dataframe tbody tr th:only-of-type {\n",
       "        vertical-align: middle;\n",
       "    }\n",
       "\n",
       "    .dataframe tbody tr th {\n",
       "        vertical-align: top;\n",
       "    }\n",
       "\n",
       "    .dataframe thead th {\n",
       "        text-align: right;\n",
       "    }\n",
       "</style>\n",
       "<table border=\"1\" class=\"dataframe\">\n",
       "  <thead>\n",
       "    <tr style=\"text-align: right;\">\n",
       "      <th></th>\n",
       "      <th>latitude</th>\n",
       "      <th>minimum_nights</th>\n",
       "      <th>number_of_reviews</th>\n",
       "      <th>reviews_per_month</th>\n",
       "      <th>calculated_host_listings_count</th>\n",
       "      <th>availability_365</th>\n",
       "      <th>Age_Last_Review</th>\n",
       "      <th>longitude_pos</th>\n",
       "    </tr>\n",
       "  </thead>\n",
       "  <tbody>\n",
       "    <tr>\n",
       "      <th>0</th>\n",
       "      <td>3.08919</td>\n",
       "      <td>1.38629</td>\n",
       "      <td>4.38203</td>\n",
       "      <td>0.77932</td>\n",
       "      <td>0.69315</td>\n",
       "      <td>5.62040</td>\n",
       "      <td>1.38629</td>\n",
       "      <td>1.61504</td>\n",
       "    </tr>\n",
       "    <tr>\n",
       "      <th>1</th>\n",
       "      <td>3.73087</td>\n",
       "      <td>1.79176</td>\n",
       "      <td>0.69315</td>\n",
       "      <td>0.01980</td>\n",
       "      <td>0.69315</td>\n",
       "      <td>0.00000</td>\n",
       "      <td>2.07944</td>\n",
       "      <td>4.47475</td>\n",
       "    </tr>\n",
       "    <tr>\n",
       "      <th>2</th>\n",
       "      <td>3.55658</td>\n",
       "      <td>3.43399</td>\n",
       "      <td>0.00000</td>\n",
       "      <td>0.00000</td>\n",
       "      <td>0.69315</td>\n",
       "      <td>5.87212</td>\n",
       "      <td>0.00000</td>\n",
       "      <td>3.77169</td>\n",
       "    </tr>\n",
       "    <tr>\n",
       "      <th>3</th>\n",
       "      <td>3.73328</td>\n",
       "      <td>1.38629</td>\n",
       "      <td>1.60944</td>\n",
       "      <td>0.26236</td>\n",
       "      <td>1.09861</td>\n",
       "      <td>5.19850</td>\n",
       "      <td>1.60944</td>\n",
       "      <td>4.47470</td>\n",
       "    </tr>\n",
       "    <tr>\n",
       "      <th>4</th>\n",
       "      <td>3.73296</td>\n",
       "      <td>2.39790</td>\n",
       "      <td>3.52636</td>\n",
       "      <td>0.57098</td>\n",
       "      <td>0.69315</td>\n",
       "      <td>2.39790</td>\n",
       "      <td>1.38629</td>\n",
       "      <td>4.47473</td>\n",
       "    </tr>\n",
       "  </tbody>\n",
       "</table>\n",
       "</div>"
      ],
      "text/plain": [
       "   latitude  minimum_nights  number_of_reviews  reviews_per_month  \\\n",
       "0   3.08919         1.38629            4.38203            0.77932   \n",
       "1   3.73087         1.79176            0.69315            0.01980   \n",
       "2   3.55658         3.43399            0.00000            0.00000   \n",
       "3   3.73328         1.38629            1.60944            0.26236   \n",
       "4   3.73296         2.39790            3.52636            0.57098   \n",
       "\n",
       "   calculated_host_listings_count  availability_365  Age_Last_Review  \\\n",
       "0                         0.69315           5.62040          1.38629   \n",
       "1                         0.69315           0.00000          2.07944   \n",
       "2                         0.69315           5.87212          0.00000   \n",
       "3                         1.09861           5.19850          1.60944   \n",
       "4                         0.69315           2.39790          1.38629   \n",
       "\n",
       "   longitude_pos  \n",
       "0        1.61504  \n",
       "1        4.47475  \n",
       "2        3.77169  \n",
       "3        4.47470  \n",
       "4        4.47473  "
      ]
     },
     "execution_count": 65,
     "metadata": {},
     "output_type": "execute_result"
    }
   ],
   "source": [
    "# Scale numerical training data set\n",
    "scaled_rent_test_con = np.log1p(rent_test_con) \n",
    "scaled_rent_test_con.head()"
   ]
  },
  {
   "cell_type": "code",
   "execution_count": 66,
   "id": "b25576b2",
   "metadata": {},
   "outputs": [
    {
     "data": {
      "text/plain": [
       "Index(['room_type', 'city'], dtype='object')"
      ]
     },
     "execution_count": 66,
     "metadata": {},
     "output_type": "execute_result"
    }
   ],
   "source": [
    "# performing K-folding on cat data\n",
    "rent_test_cat.columns"
   ]
  },
  {
   "cell_type": "code",
   "execution_count": 67,
   "id": "57e0a2d0",
   "metadata": {},
   "outputs": [],
   "source": [
    "# Apply Kfolding on categorical Test data\n",
    "class KFoldTargetEncoderTest(base.BaseEstimator, base.TransformerMixin):\n",
    "    \n",
    "    def __init__(self,train,colNames,encodedName):\n",
    "        \n",
    "        self.train = train\n",
    "        self.colNames = colNames\n",
    "        self.encodedName = encodedName\n",
    "        \n",
    "        \n",
    "    def fit(self, X, y=None):\n",
    "        return self\n",
    "\n",
    "    def transform(self,X):\n",
    "\n",
    "\n",
    "        mean = self.train[[self.colNames,self.encodedName]].groupby(self.colNames).mean().reset_index() \n",
    "        \n",
    "        dd = {}\n",
    "        for index, row in mean.iterrows():\n",
    "            dd[row[self.colNames]] = row[self.encodedName]\n",
    "\n",
    "        \n",
    "        X[self.encodedName] = X[self.colNames]\n",
    "        X = X.replace({self.encodedName: dd})\n",
    "\n",
    "        return X"
   ]
  },
  {
   "cell_type": "code",
   "execution_count": 101,
   "id": "5f8b071b",
   "metadata": {},
   "outputs": [
    {
     "name": "stderr",
     "output_type": "stream",
     "text": [
      "C:\\Users\\vc00482003\\AppData\\Local\\Temp\\ipykernel_12640\\627778734.py:24: SettingWithCopyWarning: \n",
      "A value is trying to be set on a copy of a slice from a DataFrame.\n",
      "Try using .loc[row_indexer,col_indexer] = value instead\n",
      "\n",
      "See the caveats in the documentation: https://pandas.pydata.org/pandas-docs/stable/user_guide/indexing.html#returning-a-view-versus-a-copy\n",
      "  X[self.encodedName] = X[self.colNames]\n"
     ]
    }
   ],
   "source": [
    "test_targetc = KFoldTargetEncoderTest(new_rent_cat,'room_type','room_type_Kfold_Target_Enc')\n",
    "new_happy_test_cat_room = test_targetc.fit_transform(rent_test_cat)"
   ]
  },
  {
   "cell_type": "code",
   "execution_count": 102,
   "id": "6e29d3d4",
   "metadata": {},
   "outputs": [
    {
     "data": {
      "text/html": [
       "<div>\n",
       "<style scoped>\n",
       "    .dataframe tbody tr th:only-of-type {\n",
       "        vertical-align: middle;\n",
       "    }\n",
       "\n",
       "    .dataframe tbody tr th {\n",
       "        vertical-align: top;\n",
       "    }\n",
       "\n",
       "    .dataframe thead th {\n",
       "        text-align: right;\n",
       "    }\n",
       "</style>\n",
       "<table border=\"1\" class=\"dataframe\">\n",
       "  <thead>\n",
       "    <tr style=\"text-align: right;\">\n",
       "      <th></th>\n",
       "      <th>room_type</th>\n",
       "      <th>city</th>\n",
       "      <th>room_type_Kfold_Target_Enc</th>\n",
       "    </tr>\n",
       "  </thead>\n",
       "  <tbody>\n",
       "    <tr>\n",
       "      <th>0</th>\n",
       "      <td>Entire home/apt</td>\n",
       "      <td>Hawaii</td>\n",
       "      <td>250.74417</td>\n",
       "    </tr>\n",
       "    <tr>\n",
       "      <th>1</th>\n",
       "      <td>Entire home/apt</td>\n",
       "      <td>New York City</td>\n",
       "      <td>250.74417</td>\n",
       "    </tr>\n",
       "    <tr>\n",
       "      <th>2</th>\n",
       "      <td>Entire home/apt</td>\n",
       "      <td>Los Angeles</td>\n",
       "      <td>250.74417</td>\n",
       "    </tr>\n",
       "    <tr>\n",
       "      <th>3</th>\n",
       "      <td>Entire home/apt</td>\n",
       "      <td>New York City</td>\n",
       "      <td>250.74417</td>\n",
       "    </tr>\n",
       "    <tr>\n",
       "      <th>4</th>\n",
       "      <td>Entire home/apt</td>\n",
       "      <td>New York City</td>\n",
       "      <td>250.74417</td>\n",
       "    </tr>\n",
       "  </tbody>\n",
       "</table>\n",
       "</div>"
      ],
      "text/plain": [
       "         room_type           city  room_type_Kfold_Target_Enc\n",
       "0  Entire home/apt         Hawaii                   250.74417\n",
       "1  Entire home/apt  New York City                   250.74417\n",
       "2  Entire home/apt    Los Angeles                   250.74417\n",
       "3  Entire home/apt  New York City                   250.74417\n",
       "4  Entire home/apt  New York City                   250.74417"
      ]
     },
     "execution_count": 102,
     "metadata": {},
     "output_type": "execute_result"
    }
   ],
   "source": [
    "new_happy_test_cat_room.head()\n",
    "# Drop Company name later after encoding"
   ]
  },
  {
   "cell_type": "code",
   "execution_count": 105,
   "id": "a2a63967",
   "metadata": {},
   "outputs": [],
   "source": [
    "# drop city\n",
    "new_happy_test_cat_room.drop(['city'], axis=1,inplace=True)"
   ]
  },
  {
   "cell_type": "code",
   "execution_count": 103,
   "id": "0704a2eb",
   "metadata": {},
   "outputs": [
    {
     "name": "stderr",
     "output_type": "stream",
     "text": [
      "C:\\Users\\vc00482003\\AppData\\Local\\Temp\\ipykernel_12640\\627778734.py:24: SettingWithCopyWarning: \n",
      "A value is trying to be set on a copy of a slice from a DataFrame.\n",
      "Try using .loc[row_indexer,col_indexer] = value instead\n",
      "\n",
      "See the caveats in the documentation: https://pandas.pydata.org/pandas-docs/stable/user_guide/indexing.html#returning-a-view-versus-a-copy\n",
      "  X[self.encodedName] = X[self.colNames]\n"
     ]
    }
   ],
   "source": [
    "test_targetc = KFoldTargetEncoderTest(new_rent_cat,'city','city_Kfold_Target_Enc')\n",
    "new_happy_test_cat_city = test_targetc.fit_transform(rent_test_cat)"
   ]
  },
  {
   "cell_type": "code",
   "execution_count": 104,
   "id": "31ef3e17",
   "metadata": {},
   "outputs": [
    {
     "data": {
      "text/html": [
       "<div>\n",
       "<style scoped>\n",
       "    .dataframe tbody tr th:only-of-type {\n",
       "        vertical-align: middle;\n",
       "    }\n",
       "\n",
       "    .dataframe tbody tr th {\n",
       "        vertical-align: top;\n",
       "    }\n",
       "\n",
       "    .dataframe thead th {\n",
       "        text-align: right;\n",
       "    }\n",
       "</style>\n",
       "<table border=\"1\" class=\"dataframe\">\n",
       "  <thead>\n",
       "    <tr style=\"text-align: right;\">\n",
       "      <th></th>\n",
       "      <th>room_type</th>\n",
       "      <th>city</th>\n",
       "      <th>room_type_Kfold_Target_Enc</th>\n",
       "      <th>city_Kfold_Target_Enc</th>\n",
       "    </tr>\n",
       "  </thead>\n",
       "  <tbody>\n",
       "    <tr>\n",
       "      <th>0</th>\n",
       "      <td>Entire home/apt</td>\n",
       "      <td>Hawaii</td>\n",
       "      <td>Entire home/apt</td>\n",
       "      <td>305.10410</td>\n",
       "    </tr>\n",
       "    <tr>\n",
       "      <th>1</th>\n",
       "      <td>Entire home/apt</td>\n",
       "      <td>New York City</td>\n",
       "      <td>Entire home/apt</td>\n",
       "      <td>149.16464</td>\n",
       "    </tr>\n",
       "    <tr>\n",
       "      <th>2</th>\n",
       "      <td>Entire home/apt</td>\n",
       "      <td>Los Angeles</td>\n",
       "      <td>Entire home/apt</td>\n",
       "      <td>221.84292</td>\n",
       "    </tr>\n",
       "    <tr>\n",
       "      <th>3</th>\n",
       "      <td>Entire home/apt</td>\n",
       "      <td>New York City</td>\n",
       "      <td>Entire home/apt</td>\n",
       "      <td>149.16464</td>\n",
       "    </tr>\n",
       "    <tr>\n",
       "      <th>4</th>\n",
       "      <td>Entire home/apt</td>\n",
       "      <td>New York City</td>\n",
       "      <td>Entire home/apt</td>\n",
       "      <td>149.16464</td>\n",
       "    </tr>\n",
       "  </tbody>\n",
       "</table>\n",
       "</div>"
      ],
      "text/plain": [
       "         room_type           city room_type_Kfold_Target_Enc  \\\n",
       "0  Entire home/apt         Hawaii            Entire home/apt   \n",
       "1  Entire home/apt  New York City            Entire home/apt   \n",
       "2  Entire home/apt    Los Angeles            Entire home/apt   \n",
       "3  Entire home/apt  New York City            Entire home/apt   \n",
       "4  Entire home/apt  New York City            Entire home/apt   \n",
       "\n",
       "   city_Kfold_Target_Enc  \n",
       "0              305.10410  \n",
       "1              149.16464  \n",
       "2              221.84292  \n",
       "3              149.16464  \n",
       "4              149.16464  "
      ]
     },
     "execution_count": 104,
     "metadata": {},
     "output_type": "execute_result"
    }
   ],
   "source": [
    "new_happy_test_cat_city.head()\n",
    "# Drop Company name later after encoding"
   ]
  },
  {
   "cell_type": "code",
   "execution_count": 106,
   "id": "abce62e9",
   "metadata": {},
   "outputs": [],
   "source": [
    "# drop city\n",
    "new_happy_test_cat_city.drop(['room_type','room_type_Kfold_Target_Enc'], axis=1,inplace=True)"
   ]
  },
  {
   "cell_type": "code",
   "execution_count": null,
   "id": "44544f18",
   "metadata": {},
   "outputs": [],
   "source": [
    "# concatenate the K-fold categoricak variables"
   ]
  },
  {
   "cell_type": "code",
   "execution_count": 107,
   "id": "ee59aee9",
   "metadata": {},
   "outputs": [
    {
     "name": "stdout",
     "output_type": "stream",
     "text": [
      "Data Shape: (34257, 4)\n"
     ]
    },
    {
     "data": {
      "text/html": [
       "<div>\n",
       "<style scoped>\n",
       "    .dataframe tbody tr th:only-of-type {\n",
       "        vertical-align: middle;\n",
       "    }\n",
       "\n",
       "    .dataframe tbody tr th {\n",
       "        vertical-align: top;\n",
       "    }\n",
       "\n",
       "    .dataframe thead th {\n",
       "        text-align: right;\n",
       "    }\n",
       "</style>\n",
       "<table border=\"1\" class=\"dataframe\">\n",
       "  <thead>\n",
       "    <tr style=\"text-align: right;\">\n",
       "      <th></th>\n",
       "      <th>city</th>\n",
       "      <th>city_Kfold_Target_Enc</th>\n",
       "      <th>room_type</th>\n",
       "      <th>room_type_Kfold_Target_Enc</th>\n",
       "    </tr>\n",
       "  </thead>\n",
       "  <tbody>\n",
       "    <tr>\n",
       "      <th>0</th>\n",
       "      <td>Hawaii</td>\n",
       "      <td>305.10410</td>\n",
       "      <td>Entire home/apt</td>\n",
       "      <td>250.74417</td>\n",
       "    </tr>\n",
       "    <tr>\n",
       "      <th>1</th>\n",
       "      <td>New York City</td>\n",
       "      <td>149.16464</td>\n",
       "      <td>Entire home/apt</td>\n",
       "      <td>250.74417</td>\n",
       "    </tr>\n",
       "    <tr>\n",
       "      <th>2</th>\n",
       "      <td>Los Angeles</td>\n",
       "      <td>221.84292</td>\n",
       "      <td>Entire home/apt</td>\n",
       "      <td>250.74417</td>\n",
       "    </tr>\n",
       "    <tr>\n",
       "      <th>3</th>\n",
       "      <td>New York City</td>\n",
       "      <td>149.16464</td>\n",
       "      <td>Entire home/apt</td>\n",
       "      <td>250.74417</td>\n",
       "    </tr>\n",
       "    <tr>\n",
       "      <th>4</th>\n",
       "      <td>New York City</td>\n",
       "      <td>149.16464</td>\n",
       "      <td>Entire home/apt</td>\n",
       "      <td>250.74417</td>\n",
       "    </tr>\n",
       "  </tbody>\n",
       "</table>\n",
       "</div>"
      ],
      "text/plain": [
       "            city  city_Kfold_Target_Enc        room_type  \\\n",
       "0         Hawaii              305.10410  Entire home/apt   \n",
       "1  New York City              149.16464  Entire home/apt   \n",
       "2    Los Angeles              221.84292  Entire home/apt   \n",
       "3  New York City              149.16464  Entire home/apt   \n",
       "4  New York City              149.16464  Entire home/apt   \n",
       "\n",
       "   room_type_Kfold_Target_Enc  \n",
       "0                   250.74417  \n",
       "1                   250.74417  \n",
       "2                   250.74417  \n",
       "3                   250.74417  \n",
       "4                   250.74417  "
      ]
     },
     "execution_count": 107,
     "metadata": {},
     "output_type": "execute_result"
    }
   ],
   "source": [
    "new_happy_test_cat = pd.concat([new_happy_test_cat_city,new_happy_test_cat_room], axis=1)\n",
    "print('Data Shape:', new_happy_test_cat.shape)\n",
    "new_happy_test_cat.head()"
   ]
  },
  {
   "cell_type": "code",
   "execution_count": 108,
   "id": "1d346ffe",
   "metadata": {},
   "outputs": [],
   "source": [
    "# drop city\n",
    "new_happy_test_cat.drop(['city','room_type'], axis=1,inplace=True)"
   ]
  },
  {
   "cell_type": "code",
   "execution_count": 109,
   "id": "2c46aee4",
   "metadata": {},
   "outputs": [
    {
     "name": "stdout",
     "output_type": "stream",
     "text": [
      "Data Shape: (34257, 10)\n"
     ]
    },
    {
     "data": {
      "text/html": [
       "<div>\n",
       "<style scoped>\n",
       "    .dataframe tbody tr th:only-of-type {\n",
       "        vertical-align: middle;\n",
       "    }\n",
       "\n",
       "    .dataframe tbody tr th {\n",
       "        vertical-align: top;\n",
       "    }\n",
       "\n",
       "    .dataframe thead th {\n",
       "        text-align: right;\n",
       "    }\n",
       "</style>\n",
       "<table border=\"1\" class=\"dataframe\">\n",
       "  <thead>\n",
       "    <tr style=\"text-align: right;\">\n",
       "      <th></th>\n",
       "      <th>city_Kfold_Target_Enc</th>\n",
       "      <th>room_type_Kfold_Target_Enc</th>\n",
       "      <th>latitude</th>\n",
       "      <th>minimum_nights</th>\n",
       "      <th>number_of_reviews</th>\n",
       "      <th>reviews_per_month</th>\n",
       "      <th>calculated_host_listings_count</th>\n",
       "      <th>availability_365</th>\n",
       "      <th>Age_Last_Review</th>\n",
       "      <th>longitude_pos</th>\n",
       "    </tr>\n",
       "  </thead>\n",
       "  <tbody>\n",
       "    <tr>\n",
       "      <th>0</th>\n",
       "      <td>305.10410</td>\n",
       "      <td>250.74417</td>\n",
       "      <td>3.08919</td>\n",
       "      <td>1.38629</td>\n",
       "      <td>4.38203</td>\n",
       "      <td>0.77932</td>\n",
       "      <td>0.69315</td>\n",
       "      <td>5.62040</td>\n",
       "      <td>1.38629</td>\n",
       "      <td>1.61504</td>\n",
       "    </tr>\n",
       "    <tr>\n",
       "      <th>1</th>\n",
       "      <td>149.16464</td>\n",
       "      <td>250.74417</td>\n",
       "      <td>3.73087</td>\n",
       "      <td>1.79176</td>\n",
       "      <td>0.69315</td>\n",
       "      <td>0.01980</td>\n",
       "      <td>0.69315</td>\n",
       "      <td>0.00000</td>\n",
       "      <td>2.07944</td>\n",
       "      <td>4.47475</td>\n",
       "    </tr>\n",
       "    <tr>\n",
       "      <th>2</th>\n",
       "      <td>221.84292</td>\n",
       "      <td>250.74417</td>\n",
       "      <td>3.55658</td>\n",
       "      <td>3.43399</td>\n",
       "      <td>0.00000</td>\n",
       "      <td>0.00000</td>\n",
       "      <td>0.69315</td>\n",
       "      <td>5.87212</td>\n",
       "      <td>0.00000</td>\n",
       "      <td>3.77169</td>\n",
       "    </tr>\n",
       "    <tr>\n",
       "      <th>3</th>\n",
       "      <td>149.16464</td>\n",
       "      <td>250.74417</td>\n",
       "      <td>3.73328</td>\n",
       "      <td>1.38629</td>\n",
       "      <td>1.60944</td>\n",
       "      <td>0.26236</td>\n",
       "      <td>1.09861</td>\n",
       "      <td>5.19850</td>\n",
       "      <td>1.60944</td>\n",
       "      <td>4.47470</td>\n",
       "    </tr>\n",
       "    <tr>\n",
       "      <th>4</th>\n",
       "      <td>149.16464</td>\n",
       "      <td>250.74417</td>\n",
       "      <td>3.73296</td>\n",
       "      <td>2.39790</td>\n",
       "      <td>3.52636</td>\n",
       "      <td>0.57098</td>\n",
       "      <td>0.69315</td>\n",
       "      <td>2.39790</td>\n",
       "      <td>1.38629</td>\n",
       "      <td>4.47473</td>\n",
       "    </tr>\n",
       "  </tbody>\n",
       "</table>\n",
       "</div>"
      ],
      "text/plain": [
       "   city_Kfold_Target_Enc  room_type_Kfold_Target_Enc  latitude  \\\n",
       "0              305.10410                   250.74417   3.08919   \n",
       "1              149.16464                   250.74417   3.73087   \n",
       "2              221.84292                   250.74417   3.55658   \n",
       "3              149.16464                   250.74417   3.73328   \n",
       "4              149.16464                   250.74417   3.73296   \n",
       "\n",
       "   minimum_nights  number_of_reviews  reviews_per_month  \\\n",
       "0         1.38629            4.38203            0.77932   \n",
       "1         1.79176            0.69315            0.01980   \n",
       "2         3.43399            0.00000            0.00000   \n",
       "3         1.38629            1.60944            0.26236   \n",
       "4         2.39790            3.52636            0.57098   \n",
       "\n",
       "   calculated_host_listings_count  availability_365  Age_Last_Review  \\\n",
       "0                         0.69315           5.62040          1.38629   \n",
       "1                         0.69315           0.00000          2.07944   \n",
       "2                         0.69315           5.87212          0.00000   \n",
       "3                         1.09861           5.19850          1.60944   \n",
       "4                         0.69315           2.39790          1.38629   \n",
       "\n",
       "   longitude_pos  \n",
       "0        1.61504  \n",
       "1        4.47475  \n",
       "2        3.77169  \n",
       "3        4.47470  \n",
       "4        4.47473  "
      ]
     },
     "execution_count": 109,
     "metadata": {},
     "output_type": "execute_result"
    }
   ],
   "source": [
    "# Concatenate categorical  & continues variables for train Data\n",
    "\n",
    "final_rent_test = pd.concat([new_happy_test_cat,scaled_rent_test_con], axis=1)\n",
    "print('Data Shape:', final_rent_test.shape)\n",
    "final_rent_test.head()"
   ]
  },
  {
   "cell_type": "code",
   "execution_count": 110,
   "id": "7236c396",
   "metadata": {},
   "outputs": [
    {
     "name": "stdout",
     "output_type": "stream",
     "text": [
      "<class 'pandas.core.frame.DataFrame'>\n",
      "RangeIndex: 34257 entries, 0 to 34256\n",
      "Data columns (total 10 columns):\n",
      " #   Column                          Non-Null Count  Dtype  \n",
      "---  ------                          --------------  -----  \n",
      " 0   city_Kfold_Target_Enc           34257 non-null  float64\n",
      " 1   room_type_Kfold_Target_Enc      34257 non-null  float64\n",
      " 2   latitude                        34257 non-null  float64\n",
      " 3   minimum_nights                  34257 non-null  float64\n",
      " 4   number_of_reviews               34257 non-null  float64\n",
      " 5   reviews_per_month               34257 non-null  float64\n",
      " 6   calculated_host_listings_count  34257 non-null  float64\n",
      " 7   availability_365                34257 non-null  float64\n",
      " 8   Age_Last_Review                 34257 non-null  float64\n",
      " 9   longitude_pos                   34257 non-null  float64\n",
      "dtypes: float64(10)\n",
      "memory usage: 2.6 MB\n"
     ]
    }
   ],
   "source": [
    "final_rent_test.info()"
   ]
  },
  {
   "cell_type": "code",
   "execution_count": 111,
   "id": "2eeeee6c",
   "metadata": {},
   "outputs": [
    {
     "name": "stderr",
     "output_type": "stream",
     "text": [
      "C:\\Users\\vc00482003\\Anaconda3\\lib\\site-packages\\sklearn\\base.py:493: FutureWarning: The feature names should match those that were passed during fit. Starting version 1.2, an error will be raised.\n",
      "Feature names must be in the same order as they were in fit.\n",
      "\n",
      "  warnings.warn(message, FutureWarning)\n",
      "C:\\Users\\vc00482003\\Anaconda3\\lib\\site-packages\\sklearn\\base.py:493: FutureWarning: The feature names should match those that were passed during fit. Starting version 1.2, an error will be raised.\n",
      "Feature names must be in the same order as they were in fit.\n",
      "\n",
      "  warnings.warn(message, FutureWarning)\n",
      "C:\\Users\\vc00482003\\Anaconda3\\lib\\site-packages\\sklearn\\base.py:493: FutureWarning: The feature names should match those that were passed during fit. Starting version 1.2, an error will be raised.\n",
      "Feature names must be in the same order as they were in fit.\n",
      "\n",
      "  warnings.warn(message, FutureWarning)\n"
     ]
    }
   ],
   "source": [
    "# Applying Stacking Model\n",
    "final_rent_test['price'] = reg.predict(final_rent_test)"
   ]
  },
  {
   "cell_type": "code",
   "execution_count": 112,
   "id": "c92ece9d",
   "metadata": {},
   "outputs": [
    {
     "data": {
      "text/html": [
       "<div>\n",
       "<style scoped>\n",
       "    .dataframe tbody tr th:only-of-type {\n",
       "        vertical-align: middle;\n",
       "    }\n",
       "\n",
       "    .dataframe tbody tr th {\n",
       "        vertical-align: top;\n",
       "    }\n",
       "\n",
       "    .dataframe thead th {\n",
       "        text-align: right;\n",
       "    }\n",
       "</style>\n",
       "<table border=\"1\" class=\"dataframe\">\n",
       "  <thead>\n",
       "    <tr style=\"text-align: right;\">\n",
       "      <th></th>\n",
       "      <th>city_Kfold_Target_Enc</th>\n",
       "      <th>room_type_Kfold_Target_Enc</th>\n",
       "      <th>latitude</th>\n",
       "      <th>minimum_nights</th>\n",
       "      <th>number_of_reviews</th>\n",
       "      <th>reviews_per_month</th>\n",
       "      <th>calculated_host_listings_count</th>\n",
       "      <th>availability_365</th>\n",
       "      <th>Age_Last_Review</th>\n",
       "      <th>longitude_pos</th>\n",
       "      <th>price</th>\n",
       "    </tr>\n",
       "  </thead>\n",
       "  <tbody>\n",
       "    <tr>\n",
       "      <th>0</th>\n",
       "      <td>305.10410</td>\n",
       "      <td>250.74417</td>\n",
       "      <td>3.08919</td>\n",
       "      <td>1.38629</td>\n",
       "      <td>4.38203</td>\n",
       "      <td>0.77932</td>\n",
       "      <td>0.69315</td>\n",
       "      <td>5.62040</td>\n",
       "      <td>1.38629</td>\n",
       "      <td>1.61504</td>\n",
       "      <td>185.70499</td>\n",
       "    </tr>\n",
       "    <tr>\n",
       "      <th>1</th>\n",
       "      <td>149.16464</td>\n",
       "      <td>250.74417</td>\n",
       "      <td>3.73087</td>\n",
       "      <td>1.79176</td>\n",
       "      <td>0.69315</td>\n",
       "      <td>0.01980</td>\n",
       "      <td>0.69315</td>\n",
       "      <td>0.00000</td>\n",
       "      <td>2.07944</td>\n",
       "      <td>4.47475</td>\n",
       "      <td>76.64000</td>\n",
       "    </tr>\n",
       "    <tr>\n",
       "      <th>2</th>\n",
       "      <td>221.84292</td>\n",
       "      <td>250.74417</td>\n",
       "      <td>3.55658</td>\n",
       "      <td>3.43399</td>\n",
       "      <td>0.00000</td>\n",
       "      <td>0.00000</td>\n",
       "      <td>0.69315</td>\n",
       "      <td>5.87212</td>\n",
       "      <td>0.00000</td>\n",
       "      <td>3.77169</td>\n",
       "      <td>232.98230</td>\n",
       "    </tr>\n",
       "    <tr>\n",
       "      <th>3</th>\n",
       "      <td>149.16464</td>\n",
       "      <td>250.74417</td>\n",
       "      <td>3.73328</td>\n",
       "      <td>1.38629</td>\n",
       "      <td>1.60944</td>\n",
       "      <td>0.26236</td>\n",
       "      <td>1.09861</td>\n",
       "      <td>5.19850</td>\n",
       "      <td>1.60944</td>\n",
       "      <td>4.47470</td>\n",
       "      <td>127.69667</td>\n",
       "    </tr>\n",
       "    <tr>\n",
       "      <th>4</th>\n",
       "      <td>149.16464</td>\n",
       "      <td>250.74417</td>\n",
       "      <td>3.73296</td>\n",
       "      <td>2.39790</td>\n",
       "      <td>3.52636</td>\n",
       "      <td>0.57098</td>\n",
       "      <td>0.69315</td>\n",
       "      <td>2.39790</td>\n",
       "      <td>1.38629</td>\n",
       "      <td>4.47473</td>\n",
       "      <td>84.45333</td>\n",
       "    </tr>\n",
       "  </tbody>\n",
       "</table>\n",
       "</div>"
      ],
      "text/plain": [
       "   city_Kfold_Target_Enc  room_type_Kfold_Target_Enc  latitude  \\\n",
       "0              305.10410                   250.74417   3.08919   \n",
       "1              149.16464                   250.74417   3.73087   \n",
       "2              221.84292                   250.74417   3.55658   \n",
       "3              149.16464                   250.74417   3.73328   \n",
       "4              149.16464                   250.74417   3.73296   \n",
       "\n",
       "   minimum_nights  number_of_reviews  reviews_per_month  \\\n",
       "0         1.38629            4.38203            0.77932   \n",
       "1         1.79176            0.69315            0.01980   \n",
       "2         3.43399            0.00000            0.00000   \n",
       "3         1.38629            1.60944            0.26236   \n",
       "4         2.39790            3.52636            0.57098   \n",
       "\n",
       "   calculated_host_listings_count  availability_365  Age_Last_Review  \\\n",
       "0                         0.69315           5.62040          1.38629   \n",
       "1                         0.69315           0.00000          2.07944   \n",
       "2                         0.69315           5.87212          0.00000   \n",
       "3                         1.09861           5.19850          1.60944   \n",
       "4                         0.69315           2.39790          1.38629   \n",
       "\n",
       "   longitude_pos     price  \n",
       "0        1.61504 185.70499  \n",
       "1        4.47475  76.64000  \n",
       "2        3.77169 232.98230  \n",
       "3        4.47470 127.69667  \n",
       "4        4.47473  84.45333  "
      ]
     },
     "execution_count": 112,
     "metadata": {},
     "output_type": "execute_result"
    }
   ],
   "source": [
    "final_rent_test.head()"
   ]
  },
  {
   "cell_type": "code",
   "execution_count": 117,
   "id": "8def8258",
   "metadata": {},
   "outputs": [],
   "source": [
    "# Merge ID & Life Ladder features from Test Data\n",
    "final_a = final_rent_test['price']"
   ]
  },
  {
   "cell_type": "code",
   "execution_count": 113,
   "id": "56e29d6c",
   "metadata": {},
   "outputs": [
    {
     "name": "stdout",
     "output_type": "stream",
     "text": [
      "Data Shape: (34257, 16)\n"
     ]
    },
    {
     "data": {
      "text/html": [
       "<div>\n",
       "<style scoped>\n",
       "    .dataframe tbody tr th:only-of-type {\n",
       "        vertical-align: middle;\n",
       "    }\n",
       "\n",
       "    .dataframe tbody tr th {\n",
       "        vertical-align: top;\n",
       "    }\n",
       "\n",
       "    .dataframe thead th {\n",
       "        text-align: right;\n",
       "    }\n",
       "</style>\n",
       "<table border=\"1\" class=\"dataframe\">\n",
       "  <thead>\n",
       "    <tr style=\"text-align: right;\">\n",
       "      <th></th>\n",
       "      <th>id</th>\n",
       "      <th>name</th>\n",
       "      <th>host_id</th>\n",
       "      <th>host_name</th>\n",
       "      <th>neighbourhood_group</th>\n",
       "      <th>neighbourhood</th>\n",
       "      <th>latitude</th>\n",
       "      <th>longitude</th>\n",
       "      <th>room_type</th>\n",
       "      <th>minimum_nights</th>\n",
       "      <th>number_of_reviews</th>\n",
       "      <th>last_review</th>\n",
       "      <th>reviews_per_month</th>\n",
       "      <th>calculated_host_listings_count</th>\n",
       "      <th>availability_365</th>\n",
       "      <th>city</th>\n",
       "    </tr>\n",
       "  </thead>\n",
       "  <tbody>\n",
       "    <tr>\n",
       "      <th>0</th>\n",
       "      <td>49653</td>\n",
       "      <td>Beachfront Bungalow  &amp; Home of Honu</td>\n",
       "      <td>24843776.00000</td>\n",
       "      <td>Marco</td>\n",
       "      <td>Maui</td>\n",
       "      <td>Lahaina</td>\n",
       "      <td>20.95924</td>\n",
       "      <td>-156.68334</td>\n",
       "      <td>Entire home/apt</td>\n",
       "      <td>3.00000</td>\n",
       "      <td>79.00000</td>\n",
       "      <td>25/03/20</td>\n",
       "      <td>1.18000</td>\n",
       "      <td>1.00000</td>\n",
       "      <td>275.00000</td>\n",
       "      <td>Hawaii</td>\n",
       "    </tr>\n",
       "    <tr>\n",
       "      <th>1</th>\n",
       "      <td>128272</td>\n",
       "      <td>Resort-like living in Williamsburg</td>\n",
       "      <td>14461742.00000</td>\n",
       "      <td>Mohammed</td>\n",
       "      <td>Brooklyn</td>\n",
       "      <td>Williamsburg</td>\n",
       "      <td>40.71552</td>\n",
       "      <td>-73.93869</td>\n",
       "      <td>Entire home/apt</td>\n",
       "      <td>5.00000</td>\n",
       "      <td>1.00000</td>\n",
       "      <td>01/01/16</td>\n",
       "      <td>0.02000</td>\n",
       "      <td>1.00000</td>\n",
       "      <td>0.00000</td>\n",
       "      <td>New York City</td>\n",
       "    </tr>\n",
       "    <tr>\n",
       "      <th>2</th>\n",
       "      <td>88753</td>\n",
       "      <td>Los Angeles Luxury Apartment in Downtown LA</td>\n",
       "      <td>205959517.00000</td>\n",
       "      <td>Christian</td>\n",
       "      <td>City of Los Angeles</td>\n",
       "      <td>Downtown</td>\n",
       "      <td>34.04331</td>\n",
       "      <td>-118.25804</td>\n",
       "      <td>Entire home/apt</td>\n",
       "      <td>30.00000</td>\n",
       "      <td>0.00000</td>\n",
       "      <td>NaN</td>\n",
       "      <td>NaN</td>\n",
       "      <td>1.00000</td>\n",
       "      <td>354.00000</td>\n",
       "      <td>Los Angeles</td>\n",
       "    </tr>\n",
       "    <tr>\n",
       "      <th>3</th>\n",
       "      <td>151475</td>\n",
       "      <td>E Z Living In Harlem 2</td>\n",
       "      <td>244536777.00000</td>\n",
       "      <td>Chester</td>\n",
       "      <td>Manhattan</td>\n",
       "      <td>Harlem</td>\n",
       "      <td>40.81615</td>\n",
       "      <td>-73.94359</td>\n",
       "      <td>Entire home/apt</td>\n",
       "      <td>3.00000</td>\n",
       "      <td>4.00000</td>\n",
       "      <td>01/12/19</td>\n",
       "      <td>0.30000</td>\n",
       "      <td>2.00000</td>\n",
       "      <td>180.00000</td>\n",
       "      <td>New York City</td>\n",
       "    </tr>\n",
       "    <tr>\n",
       "      <th>4</th>\n",
       "      <td>134525</td>\n",
       "      <td>Cozy, neat, spacious 2 BR apartment in East Harlem</td>\n",
       "      <td>2247818.00000</td>\n",
       "      <td>Gonda</td>\n",
       "      <td>Manhattan</td>\n",
       "      <td>East Harlem</td>\n",
       "      <td>40.80268</td>\n",
       "      <td>-73.94051</td>\n",
       "      <td>Entire home/apt</td>\n",
       "      <td>10.00000</td>\n",
       "      <td>33.00000</td>\n",
       "      <td>13/03/20</td>\n",
       "      <td>0.77000</td>\n",
       "      <td>1.00000</td>\n",
       "      <td>10.00000</td>\n",
       "      <td>New York City</td>\n",
       "    </tr>\n",
       "  </tbody>\n",
       "</table>\n",
       "</div>"
      ],
      "text/plain": [
       "       id                                                name         host_id  \\\n",
       "0   49653                 Beachfront Bungalow  & Home of Honu  24843776.00000   \n",
       "1  128272                  Resort-like living in Williamsburg  14461742.00000   \n",
       "2   88753         Los Angeles Luxury Apartment in Downtown LA 205959517.00000   \n",
       "3  151475                              E Z Living In Harlem 2 244536777.00000   \n",
       "4  134525  Cozy, neat, spacious 2 BR apartment in East Harlem   2247818.00000   \n",
       "\n",
       "   host_name  neighbourhood_group neighbourhood  latitude  longitude  \\\n",
       "0      Marco                 Maui       Lahaina  20.95924 -156.68334   \n",
       "1   Mohammed             Brooklyn  Williamsburg  40.71552  -73.93869   \n",
       "2  Christian  City of Los Angeles      Downtown  34.04331 -118.25804   \n",
       "3    Chester            Manhattan        Harlem  40.81615  -73.94359   \n",
       "4      Gonda            Manhattan   East Harlem  40.80268  -73.94051   \n",
       "\n",
       "         room_type  minimum_nights  number_of_reviews last_review  \\\n",
       "0  Entire home/apt         3.00000           79.00000    25/03/20   \n",
       "1  Entire home/apt         5.00000            1.00000    01/01/16   \n",
       "2  Entire home/apt        30.00000            0.00000         NaN   \n",
       "3  Entire home/apt         3.00000            4.00000    01/12/19   \n",
       "4  Entire home/apt        10.00000           33.00000    13/03/20   \n",
       "\n",
       "   reviews_per_month  calculated_host_listings_count  availability_365  \\\n",
       "0            1.18000                         1.00000         275.00000   \n",
       "1            0.02000                         1.00000           0.00000   \n",
       "2                NaN                         1.00000         354.00000   \n",
       "3            0.30000                         2.00000         180.00000   \n",
       "4            0.77000                         1.00000          10.00000   \n",
       "\n",
       "            city  \n",
       "0         Hawaii  \n",
       "1  New York City  \n",
       "2    Los Angeles  \n",
       "3  New York City  \n",
       "4  New York City  "
      ]
     },
     "execution_count": 113,
     "metadata": {},
     "output_type": "execute_result"
    }
   ],
   "source": [
    "# Import Test Data\n",
    "rent_test = pd.read_csv(r'C:\\Users\\vc00482003\\Desktop\\INSAIDclassdocs\\ML\\DecisionTree\\Practice_Project_ML_Intermediate\\drive-download-20221230T105128Z-001\\test_data.csv')\n",
    "print('Data Shape:', rent_test.shape)\n",
    "rent_test.head()"
   ]
  },
  {
   "cell_type": "code",
   "execution_count": 115,
   "id": "29ac87bd",
   "metadata": {},
   "outputs": [],
   "source": [
    "# Filter only ID variable\n",
    "final_b = rent_test['id']"
   ]
  },
  {
   "cell_type": "code",
   "execution_count": 118,
   "id": "ac2a89c2",
   "metadata": {},
   "outputs": [],
   "source": [
    "final_submission = pd.concat([final_b,final_a], axis=1, join='inner')"
   ]
  },
  {
   "cell_type": "code",
   "execution_count": 119,
   "id": "f42ca48b",
   "metadata": {},
   "outputs": [
    {
     "data": {
      "text/html": [
       "<div>\n",
       "<style scoped>\n",
       "    .dataframe tbody tr th:only-of-type {\n",
       "        vertical-align: middle;\n",
       "    }\n",
       "\n",
       "    .dataframe tbody tr th {\n",
       "        vertical-align: top;\n",
       "    }\n",
       "\n",
       "    .dataframe thead th {\n",
       "        text-align: right;\n",
       "    }\n",
       "</style>\n",
       "<table border=\"1\" class=\"dataframe\">\n",
       "  <thead>\n",
       "    <tr style=\"text-align: right;\">\n",
       "      <th></th>\n",
       "      <th>id</th>\n",
       "      <th>price</th>\n",
       "    </tr>\n",
       "  </thead>\n",
       "  <tbody>\n",
       "    <tr>\n",
       "      <th>0</th>\n",
       "      <td>49653</td>\n",
       "      <td>185.70499</td>\n",
       "    </tr>\n",
       "    <tr>\n",
       "      <th>1</th>\n",
       "      <td>128272</td>\n",
       "      <td>76.64000</td>\n",
       "    </tr>\n",
       "    <tr>\n",
       "      <th>2</th>\n",
       "      <td>88753</td>\n",
       "      <td>232.98230</td>\n",
       "    </tr>\n",
       "    <tr>\n",
       "      <th>3</th>\n",
       "      <td>151475</td>\n",
       "      <td>127.69667</td>\n",
       "    </tr>\n",
       "    <tr>\n",
       "      <th>4</th>\n",
       "      <td>134525</td>\n",
       "      <td>84.45333</td>\n",
       "    </tr>\n",
       "  </tbody>\n",
       "</table>\n",
       "</div>"
      ],
      "text/plain": [
       "       id     price\n",
       "0   49653 185.70499\n",
       "1  128272  76.64000\n",
       "2   88753 232.98230\n",
       "3  151475 127.69667\n",
       "4  134525  84.45333"
      ]
     },
     "execution_count": 119,
     "metadata": {},
     "output_type": "execute_result"
    }
   ],
   "source": [
    "final_submission.head()"
   ]
  },
  {
   "cell_type": "code",
   "execution_count": 120,
   "id": "9ffdf1b4",
   "metadata": {},
   "outputs": [],
   "source": [
    "# Exporting Data for Final Submission\n",
    "final_submission.to_csv('Rental_Price_Final.csv', index=False, header=False)"
   ]
  },
  {
   "cell_type": "code",
   "execution_count": null,
   "id": "52fba743",
   "metadata": {},
   "outputs": [],
   "source": []
  }
 ],
 "metadata": {
  "kernelspec": {
   "display_name": "Python 3 (ipykernel)",
   "language": "python",
   "name": "python3"
  },
  "language_info": {
   "codemirror_mode": {
    "name": "ipython",
    "version": 3
   },
   "file_extension": ".py",
   "mimetype": "text/x-python",
   "name": "python",
   "nbconvert_exporter": "python",
   "pygments_lexer": "ipython3",
   "version": "3.9.12"
  }
 },
 "nbformat": 4,
 "nbformat_minor": 5
}
